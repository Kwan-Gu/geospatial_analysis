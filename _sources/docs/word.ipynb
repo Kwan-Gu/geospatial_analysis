{
 "cells": [
  {
   "cell_type": "markdown",
   "id": "95ad5032-d881-482c-ac67-fd3e132e401f",
   "metadata": {},
   "source": [
    "# 용어 리스트  "
   ]
  },
  {
   "cell_type": "markdown",
   "id": "44b34b47-5982-4a1b-bbb7-a0cab7f0ab95",
   "metadata": {},
   "source": [
    "---"
   ]
  },
  {
   "cell_type": "markdown",
   "id": "d2a3bfc1-25aa-4218-9ab1-835e35fa85df",
   "metadata": {},
   "source": [
    "| 원문 (알파벳 순) |  번역  |\n",
    "|:----------:|:----:|\n",
    "| Coordinate Reference Systems | 좌표 참조 시스템(CRS) |\n",
    "| object | 객체 |\n",
    "|   python   | 파이썬 |"
   ]
  },
  {
   "cell_type": "markdown",
   "id": "cd9a9bb6-7e0f-4333-9e58-9a1002badb46",
   "metadata": {},
   "source": [
    "---"
   ]
  },
  {
   "cell_type": "markdown",
   "id": "3111b3e0-e7fc-4328-8882-a727f5a99fdb",
   "metadata": {},
   "source": [
    "```{raw} html\n",
    "<script src=\"https://utteranc.es/client.js\"\n",
    "        repo=\"Kwan-Gu/geospatial_analysis\"\n",
    "        issue-term=\"pathname\"\n",
    "        theme=\"preferred-color-scheme\"\n",
    "        crossorigin=\"anonymous\"\n",
    "        async>\n",
    "</script>\n",
    "```"
   ]
  }
 ],
 "metadata": {
  "kernelspec": {
   "display_name": "Python 3 (ipykernel)",
   "language": "python",
   "name": "python3"
  },
  "language_info": {
   "codemirror_mode": {
    "name": "ipython",
    "version": 3
   },
   "file_extension": ".py",
   "mimetype": "text/x-python",
   "name": "python",
   "nbconvert_exporter": "python",
   "pygments_lexer": "ipython3",
   "version": "3.9.13"
  }
 },
 "nbformat": 4,
 "nbformat_minor": 5
}
