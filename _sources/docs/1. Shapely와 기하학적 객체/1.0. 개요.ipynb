{
 "cells": [
  {
   "cell_type": "markdown",
   "id": "9bb700a8-5e5f-4405-a005-91891a519f23",
   "metadata": {},
   "source": [
    "# 개요"
   ]
  },
  {
   "cell_type": "markdown",
   "id": "ec60448a-aa36-4a67-bd59-7221deef8461",
   "metadata": {},
   "source": [
    "---"
   ]
  },
  {
   "cell_type": "markdown",
   "id": "5e7fcc85-2f88-4c04-993b-53aaa105e888",
   "metadata": {},
   "source": [
    "&emsp;공간정보 데이터셋 작업을 본격적으로 시작하기 전에 먼저, 기본적인 기하학적 객체에 익숙해질 필요가 있습니다. 이번 단원에서는 [Shapely](https://shapely.readthedocs.io/en/stable/) 패키지를 사용하여 파이썬에서 간단한 특성(features)을 만들고 조작하는 방법을 배웁니다.  "
   ]
  },
  {
   "cell_type": "markdown",
   "id": "4fa7de6a-68ad-43d0-a0b3-ffe954e1a31c",
   "metadata": {},
   "source": [
    "## 학습 목표"
   ]
  },
  {
   "cell_type": "markdown",
   "id": "537c75d4-c919-4022-ba7f-df37a4c34032",
   "metadata": {},
   "source": [
    "- GIS와 공간 분석을 위한 Python 패키지 탐색  \n",
    "- Shapely를 통해 기하학적 객체(점, 선, 다각형)가 처리되고 저장되는 방법  \n",
    "- 좌표 값이 주어진 기하학적 객체를 생성  "
   ]
  },
  {
   "cell_type": "markdown",
   "id": "1c8b5b3e-70a1-414f-8e33-cb9b223708e0",
   "metadata": {},
   "source": [
    "---"
   ]
  },
  {
   "cell_type": "markdown",
   "id": "6173a7ef-de7b-491a-abf9-8af49336e50e",
   "metadata": {},
   "source": [
    "```{raw} html\n",
    "<script src=\"https://utteranc.es/client.js\"\n",
    "        repo=\"Kwan-Gu/geospatial_analysis\"\n",
    "        issue-term=\"pathname\"\n",
    "        theme=\"preferred-color-scheme\"\n",
    "        crossorigin=\"anonymous\"\n",
    "        async>\n",
    "</script>\n",
    "```"
   ]
  }
 ],
 "metadata": {
  "kernelspec": {
   "display_name": "Python 3 (ipykernel)",
   "language": "python",
   "name": "python3"
  },
  "language_info": {
   "codemirror_mode": {
    "name": "ipython",
    "version": 3
   },
   "file_extension": ".py",
   "mimetype": "text/x-python",
   "name": "python",
   "nbconvert_exporter": "python",
   "pygments_lexer": "ipython3",
   "version": "3.9.13"
  }
 },
 "nbformat": 4,
 "nbformat_minor": 5
}
