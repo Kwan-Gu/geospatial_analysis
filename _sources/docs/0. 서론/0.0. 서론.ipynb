{
 "cells": [
  {
   "cell_type": "markdown",
   "id": "38e4f5b9-527e-4b19-a184-0f45b315ab70",
   "metadata": {},
   "source": [
    "# 0. 서론"
   ]
  },
  {
   "cell_type": "markdown",
   "id": "b8cb992e-e1df-46f3-b043-868bf00553ba",
   "metadata": {},
   "source": [
    "---"
   ]
  },
  {
   "cell_type": "markdown",
   "id": "e586603d-417d-4575-8d2d-e1219698c020",
   "metadata": {},
   "source": [
    "## 목차  \n",
    "1. [개요](#개요)  \n",
    "2. [이 책의 구성](#이-책의-구성)  \n",
    "3. [학습 목표](#학습-목표)\n",
    "    1. [단원별 학습 목표](#단원별-학습-목표)  \n",
    "4. [GIS에 왜 파이썬인가](#GIS에-왜-파이썬인가)  \n",
    "5. [Python에서 사용할 수 있는 GIS 패키지](#Python에서-사용할-수-있는-GIS-패키지)  \n",
    "    1. [데이터 분석 및 시각화](#데이터-분석-및-시각화)  \n",
    "    2. [GIS](#GIS)  "
   ]
  },
  {
   "cell_type": "markdown",
   "id": "fe59a5a0-2994-4950-95cb-0c7f1324fb48",
   "metadata": {},
   "source": [
    "---"
   ]
  },
  {
   "cell_type": "markdown",
   "id": "4ee12b1e-f97e-4ebf-86d4-4653991b05cd",
   "metadata": {},
   "source": [
    "## 개요"
   ]
  },
  {
   "cell_type": "markdown",
   "id": "6c2494c4-3ea3-42f2-a601-29f4b51801e0",
   "metadata": {},
   "source": [
    "&emsp;**Automating GIS Processes에 오신 것을 환영합니다!** 이 책에서는 이론뿐만 아니라 **실습을 통해 Python 프로그래밍 언어를 사용한 공간 데이터를 처리하고 분석하는 방법과 GIS 관련 파이썬 패키지**를 다룹니다. 혹시 여러분 중 Python을 처음 사용하는 경우, 이 책을 보기 전에 파이썬 프로그래밍 기초에 대해 다룬 [Geo-Python](http://geo-python.readthedocs.io/)부터 시작하는 것을 추천드립니다.  \n",
    "\n",
    "&emsp;이 책은 핀란드 헬싱키 대학(University of Helsinki)의 지구과학/지리학부(Department of Geosciences and Geography)에서 개발되었으며, https://autogis-site.readthedocs.io/en/latest/index.html 에 공개된 오픈소스를 번역하고 국내 데이터로 변환했습니다.  \n",
    "\n",
    "&emsp;여러분이 이 책을 마치면 다음과 같은 내용들을 이해할 수 있습니다.  \n",
    "\n",
    "- 파이썬을 사용한 공간 데이터의 효율적이고 체계적인 관리, 분석, 시각화  \n",
    "- 공간 데이터 처리, 조작, 분석  \n",
    "    - 파일 읽기 및 쓰기  \n",
    "    - 좌표 참조 시스템(CRS; Coordinate Reference Systems) 관리  \n",
    "    - 오버레이 분석  \n",
    "    - 네트워크 분석  \n",
    "- 바람직한 프로그래밍 방법(Good programming practices)  "
   ]
  },
  {
   "cell_type": "markdown",
   "id": "c264bf8d-6e75-4962-8917-5e69cdd75735",
   "metadata": {},
   "source": [
    "---"
   ]
  },
  {
   "cell_type": "markdown",
   "id": "4d9a60c5-28a6-424c-a987-7f93cb87178a",
   "metadata": {},
   "source": [
    "## 이 책의 구성"
   ]
  },
  {
   "cell_type": "markdown",
   "id": "5fbeea27-9a19-4cd8-8c2b-b7ac1d20817b",
   "metadata": {},
   "source": [
    "&emsp;이 책은 파이썬 프로그래밍을 통해 공간 데이터를 처리하는 방법에 대해 다룹니다. 각 단원은 이론 및 실습과 연습문제로 구성됩니다. 연습문제는 파이썬을 사용하여 기본적인 파이썬 프로그래밍을 검토하고, 해당 단원에서 다룬 공간 데이터 처리 방법을 적용하여 공간정보를 처리하고 분석하는 데 중점을 둡니다.  "
   ]
  },
  {
   "cell_type": "markdown",
   "id": "57cc2f81-7cf8-46c9-9a38-c27e8b8bf0ea",
   "metadata": {},
   "source": [
    "| 단원 | 제목                                                 |\n",
    "| :----: | :------------------------------------------------- |\n",
    "| 0    | 서론                                                 |\n",
    "| 1    | Shapely와 기하학적 객체(점, 선, 다각형)               |\n",
    "| 2    | GeoPandas로 공간 데이터 관리(읽기, 쓰기, 투영, 조인)  |\n",
    "| 3    | 지오코딩(Geocoding)과 공간 쿼리                       |\n",
    "| 4    | 데이터 재분류(reclassifying)와 오버레이(overlay) 분석 |\n",
    "| 5    | 시각화: 정적(static) 지도와 대화형(interactive) 지도  |\n",
    "| 6    | OpenStreetMap 데이터(osmnx)와 네트워크 분석(networkx) |\n",
    "| 7    | PyQGIS와 래스터(Raster) 처리                          |"
   ]
  },
  {
   "cell_type": "markdown",
   "id": "91aa3137-9164-4fae-a332-9cbfb231ac1d",
   "metadata": {},
   "source": [
    "## 학습 목표"
   ]
  },
  {
   "cell_type": "markdown",
   "id": "52336205-895e-45b8-aa2a-7d6fe03e3c3a",
   "metadata": {},
   "source": [
    "- 다른 파일 포맷에서/으로 **공간 데이터를 읽기/쓰기**  \n",
    "- **좌표 참조 시스템(Coordinate Reference System; CRS)** 작업  \n",
    "- **지오코딩**(Geocoding)을 사용하여 주소를 좌표로 또는 그 반대로 변환  \n",
    "- **오버레이 기능**을 사용하여 도형 결합(교집합, 합집합)  \n",
    "- 값을 기준으로 **데이터 재분류(reclassify)**  \n",
    "- **공간 쿼리** 수행  \n",
    "- 간단한 **공간 분석** 수행  \n",
    "- **데이터 시각화** 및 정적 또는 대화형 지도 생성(예. [Texas Unemplyment 지도](https://docs.bokeh.org/en/latest/docs/examples/topics/geo/texas_hover_map.html))  "
   ]
  },
  {
   "cell_type": "markdown",
   "id": "d1e2ad7f-ec50-4a6c-b12a-5a643a46903f",
   "metadata": {},
   "source": [
    "### 단원별 학습 목표"
   ]
  },
  {
   "cell_type": "markdown",
   "id": "5ff59609-1b2c-45b4-90b2-1f138b88ab04",
   "metadata": {},
   "source": [
    "0. 서론  \n",
    "    - 파이썬 및 패키지 설치\n",
    "    - 공간 분석 환경 구성  \n",
    "1. Shapely와 기하학적 객체(점, 선, 다각형)  \n",
    "    - 파이썬에서 사용 가능한 GIS 패키지에 대한 정보 탐색\n",
    "    - Shapely에서 기하학적 개체가 어떻게 표현되는지 이해\n",
    "    - 좌표 값을 기반으로 기하학적 객체 생성\n",
    "2. GeoPandas로 공간 데이터 관리(읽기, 쓰기, 투영, 조인)\n",
    "    - 공통 파일 형식(Common file formats)에서 공간 데이터 읽기 및 쓰기\n",
    "    - 공간 및 비공간 데이터셋에 대한 간단한 분석  \n",
    "    - 좌표계(Coordinate reference systems) 관리 및 데이터 재투영(re-project)\n",
    "3. 지오코딩(Geocoding)과 공간 쿼리\n",
    "    - *지오코딩(Geocoding)*, 즉 주소를 좌표로 또는 좌표를 주소로 변환\n",
    "    - Point-in-Polygon 쿼리\n",
    "    - KML (Keyhole Markup Language) 파일에서 데이터 읽기\n",
    "    - 공간 및 속성(attribute) 값에 대한 레이어 조인(join)\n",
    "    - 점(Point) 객체 중 최근접 이웃 탐색\n",
    "4. 데이터 재분류(reclassifying)와 오버레이(overlay) 분석\n",
    "    - 여러 기준에 따른 데이터 재분류\n",
    "    - 오버레이 분석\n",
    "    - 데이터 집계(aggregate) 및 기하학적 객체 병합\n",
    "    - 도형 형태 단순화\n",
    "5. 시각화: 정적(static) 지도와 대화형(interactive) 지도\n",
    "    - 배경(Background) 맵으로 정적 맵 이미지 생성\n",
    "    - 간단한 대화형 지도 생성\n",
    "    - 인터넷에 정적 또는 대화형 지도 공유\n",
    "6. OpenStreetMap 데이터(osmnx)와 네트워크 분석(networkx)\n",
    "    - OpenStreetMap에서 데이터 검색 및 저장\n",
    "    - 간단한 도로 네트워크 속성 및 통계 추출\n",
    "    - 최단 경로 알고리즘을 사용한 경로 최적화\n",
    "7. PyQGIS와 래스터(Raster) 처리\n",
    "    - 래스터 데이터 처리의 기초\n",
    "    - QGIS에서 파이썬 스크립트 사용  "
   ]
  },
  {
   "cell_type": "markdown",
   "id": "e8df8984-f2f7-42c9-8a9e-ec7993cdd618",
   "metadata": {},
   "source": [
    "## GIS에 왜 파이썬인가"
   ]
  },
  {
   "cell_type": "markdown",
   "id": "4d3c44be-0282-48e6-82d5-0ec284c5f28f",
   "metadata": {},
   "source": [
    "&emsp;데이터 과학, 특히 공간 데이터 과학 및 공간 데이터 분석과 관련하여 Python은 유용한 프로그래밍 언어입니다. 파이썬 생태계는 사람들이 라이브러리를 다른 사람들과 쉽게 공유할 수 있게 해주며, 공간 데이터 분석과 관련해 대부분의 작업이 가능한 패키지들을 가지고 있습니다.  "
   ]
  },
  {
   "cell_type": "markdown",
   "id": "6d3ebfb0-7065-4703-b370-dc93647feb35",
   "metadata": {},
   "source": [
    "<figure style=\"text-align:center;\">\n",
    "    <img src=\"./img/python.png\" width=\"75%\">\n",
    "    <figcaption style=\"text-align:center;\">Python에서는 무엇이든 배우는 것이 쉽습니다 : 모든 것을 위한 패키지가 있습니다. 출처: xkcd.com/353</figcaption>\n",
    "</figure>"
   ]
  },
  {
   "cell_type": "markdown",
   "id": "17879e1b-e223-47ed-acc1-4455b2121ed4",
   "metadata": {},
   "source": [
    "&emsp;일부 데스크톱 GIS(예. QGIS, ESRI ArcGIS)에는 Python을 사용할 수 있는 툴 또는 프로그래밍 인터페이스가 있습니다. 즉, 데스크톱 GIS에서 파이썬 프로그램을 작성해 데이터, 라이브러리, 사용자 인터페이스와 상호 작용하도록 기능을 확장하는 사용자 지정 플러그인도 만들 수 있습니다. 그 외에도 공간 데이터 관리 및 공간 분석과 관련된 대부분의 작업을 위한 강력한 Python 패키지가 있습니다.  \n",
    "\n",
    "&emsp;이 책에서는 독점 타사 소프트웨어 패키지(예. ESRI ArcGIS)와 같은 데스크톱 GIS 없이 GIS 분석 및 데이터 관리 작업을 수행하는 데에 중점을 둘 것입니다. 여기에는 여러가지 이유가 있습니다.  "
   ]
  },
  {
   "cell_type": "markdown",
   "id": "524f551e-45aa-4514-9c12-868ccd671cda",
   "metadata": {},
   "source": [
    "- Python과 대부분의 파이썬 패키지는 오픈소스입니다. 이는 **무료로 사용**할 수 있고 여러분의 목적에 따라 **자유롭게 수정**할 수 있음을 의미합니다. 따라서 라이선스에 대한 액세스에 의존할 필요가 없으며 전 세계 누구나 사용할 수 있습니다.  \n",
    "- 문제를 해결하기 위해 코딩을 하다보면, **geoprocessing의 세세한 내용을 깊게 이해**할 수 있습니다. 또한 이 과정에서 GIS에 대한 이해도 더 깊어질 것 입니다.  \n",
    "- Python은 **효율적**입니다. Python 스크립트를 사용하여 빅데이터를 분석할 수 있을뿐만 아니라, 데스크톱 GIS 툴보다 대체로 성능이 뛰어납니다.  \n",
    "- Python은 **유연**합니다. 다양한 데이터 형식들을 읽고 쓸 수 있으며, 파이썬의 패키지 생태계는 여러분이 상상할 수 있는 프로그래밍 작업과 관련된 라이브러리를 제공합니다.  \n",
    "- 오픈소스 소프트웨어인 파이썬을 사용함으로써 **개방 과학(Open science)과 재현 가능한 연구**에 기여할 수 있습니다. 누구나 여러분의 코드를 가지고 실험이나 분석을 반복하여 귀하의 주장을 확인하고 귀하의 예에서 배울 수 있습니다.  \n",
    "- **Python의 다양한 패키지 기능들을 결합**하면 상대적으로 적은 비용으로 좋은 결과를 얻을 수 있습니다. 예를 들어, [GeoDjango](https://docs.djangoproject.com/en/4.1/ref/contrib/gis/tutorial/)와 PostGIS 패키지를 결합해 멋있는 GIS 웹을 개발할 수 있습니다.  "
   ]
  },
  {
   "cell_type": "markdown",
   "id": "0577738c-e8d8-4924-bde8-f54b1ffa457c",
   "metadata": {},
   "source": [
    "## Python에서 사용할 수 있는 GIS 패키지"
   ]
  },
  {
   "cell_type": "markdown",
   "id": "f644b107-377d-4282-9aa1-9dec70d8c256",
   "metadata": {},
   "source": [
    "&emsp;이 책에서 여러분은 데이터 분석 및 공간 데이터셋 처리에 유용한 Python 패키지들을 다룰 것입니다. 아래 목록은 GIS 및 데이터 분석을 위해 보편적으로 사용되는 Python 패키지를 나열한 것 입니다.  "
   ]
  },
  {
   "cell_type": "markdown",
   "id": "2aa10372-1d1e-4971-9dbf-7c9e1cf89ffc",
   "metadata": {},
   "source": [
    "### 데이터 분석 및 시각화"
   ]
  },
  {
   "cell_type": "markdown",
   "id": "301629c6-a160-4b13-81b9-6135e0fa8822",
   "metadata": {},
   "source": [
    "\n",
    "| 패키지                                 | 설명                                                                                | \n",
    "| :-----------------------------------: | :----------------------------------------------------------------------------------- |\n",
    "| [NumPy](https://numpy.org/)           | Python을 사용한 과학적 컴퓨팅을 위한 도구                                              |\n",
    "| [Pandas](https://pandas.pydata.org/)  | 고성능의 사용하기 쉬운 데이터 구조 및 데이터 분석 도구                                   |\n",
    "| [SciPy](https://scipy.org/about/)     | 수치 알고리즘 및 여러 도메인(신호 처리, 최적화 및 통계)에 특화된 도구                     |\n",
    "| [MatplotLib](https://matplotlib.org/) | Python용 시각화 라이브러리                                                            |\n",
    "| [Bokeh](https://docs.bokeh.org/en/latest/), [Plotly](https://plotly.com/python/) | 웹 기반 반응형 시각화 라이브러리 (지도 포함) |"
   ]
  },
  {
   "cell_type": "markdown",
   "id": "fc006536-acb2-4882-b970-d00f87d4e490",
   "metadata": {},
   "source": [
    "### GIS"
   ]
  },
  {
   "cell_type": "markdown",
   "id": "a3e4e5c7-8a8d-45eb-8999-832ace318297",
   "metadata": {},
   "source": [
    "| 패키지 | 설명 |\n",
    "| :---: | :--- |\n",
    "| [GDAL](https://gdal.org/) | 벡터 및 래스터 데이터 형식을 처리하기 위한 패키지이며, 아래의 많은 모듈이 이 패키지를 필요로 함 |\n",
    "| [Geopandas](https://geopandas.org/en/stable/) | Pandas와 Shapely 패키지의 기능을 결합해 공간 데이터 작업에 사용 |\n",
    "| [Shapely](https://shapely.readthedocs.io/en/stable/) | [GEOS](https://www.osgeo.org/projects/geos/) 기반의 기하학적 객체의 조작, 분석을 위한 패키지 |\n",
    "| [Fiona](https://fiona.readthedocs.io/en/stable/) | 공간 데이터 읽기 및 쓰기 (Geopandas 대신 사용 됨) |\n",
    "| [Pyproj](https://pyproj4.github.io/pyproj/stable/) | PROJ.4 기반의 지도 제작 변환 및 측지 계산(geodetic)을 수행 |\n",
    "| [Geopy](https://geopy.readthedocs.io/en/stable/) | 지오코딩 라이브러리. 주소 → 좌표 또는 좌표 → 주소 변환 |\n",
    "| [Contextily](https://contextily.readthedocs.io/en/latest/) | 정적 지도 시각화를 위한 배경맵 제공 |\n",
    "| [GeoViews](https://geoviews.org/) | 웹 기반 대화형 지도 제공 |\n",
    "| [Geoplot](https://github.com/ResidentMario/geoplot) | 지리 공간 데이터 시각화 라이브러리 |\n",
    "| [Dash (Plotly)](https://plotly.com/dash/) | 분석 웹 애플리케이션을 구축하기 위한 Python 프레임워크 |\n",
    "| [OSMnx](https://osmnx.readthedocs.io/en/stable/) | OpenStreetMap에서 네트워크 탐색, 구성, 분석, 시각화 제공 |\n",
    "| [Networkx](https://networkx.org/) | 네트워크 분석 및 경로 탐색 (예: Dijkstra 및 A* 알고리즘) |\n",
    "| [Cartopy](http://scitools.org.uk/cartopy/) | 데이터 분석 및 시각화를 위한 지도 제작 |\n",
    "| [Scipy.spatial](https://docs.scipy.org/doc/scipy/reference/spatial.html) | 공간 알고리즘 및 데이터 구조 |\n",
    "| [Rtree](https://rtree.readthedocs.io/en/latest/) | 빠른 공간 인덱싱 제공 |\n",
    "| [Rasterio](https://rasterio.readthedocs.io/en/stable/) | 빠른 지리 공간 래스터 I/O |\n",
    "| [RSGISLib](http://rsgislib.org/) | 원격 탐사 및 GIS 소프트웨어 라이브러리 |"
   ]
  },
  {
   "cell_type": "markdown",
   "id": "6da0b6e7-814e-49de-b3bb-03c8b91db564",
   "metadata": {},
   "source": [
    "---"
   ]
  }
 ],
 "metadata": {
  "kernelspec": {
   "display_name": "Python 3 (ipykernel)",
   "language": "python",
   "name": "python3"
  },
  "language_info": {
   "codemirror_mode": {
    "name": "ipython",
    "version": 3
   },
   "file_extension": ".py",
   "mimetype": "text/x-python",
   "name": "python",
   "nbconvert_exporter": "python",
   "pygments_lexer": "ipython3",
   "version": "3.9.13"
  }
 },
 "nbformat": 4,
 "nbformat_minor": 5
}
