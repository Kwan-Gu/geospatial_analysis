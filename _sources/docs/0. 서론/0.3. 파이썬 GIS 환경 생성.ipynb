{
 "cells": [
  {
   "cell_type": "markdown",
   "id": "9c7bf7cc-74e0-468a-8d6f-cfda5a7b66f9",
   "metadata": {},
   "source": [
    "# 0.3. 파이썬 GIS 환경 생성"
   ]
  },
  {
   "cell_type": "markdown",
   "id": "4c414147-26ef-43aa-ba29-6e00d17d9631",
   "metadata": {},
   "source": [
    "---"
   ]
  },
  {
   "cell_type": "markdown",
   "id": "995a82b6-d435-4d7a-8293-b8df8b05b9bf",
   "metadata": {},
   "source": [
    "## 목차  \n",
    "1. [파이썬 환경 (Environments)](#파이썬-환경-(Environments))  \n",
    "    1. [Conda 환경 생성 : 방법 1](#Conda-환경-생성-:-방법-1)  \n",
    "    2. [Conda 환경 생성 : 방법 2](#Conda-환경-생성-:-방법-2)  "
   ]
  },
  {
   "cell_type": "markdown",
   "id": "a438bc93-5c08-4328-a241-74b7a7dc7082",
   "metadata": {},
   "source": [
    "---"
   ]
  },
  {
   "cell_type": "markdown",
   "id": "3b720f74-b1bb-40d8-bdd1-3cf59ebc95e0",
   "metadata": {},
   "source": [
    "## 파이썬 환경 (Environments)"
   ]
  },
  {
   "cell_type": "markdown",
   "id": "26032565-cb51-4f81-9444-e3fec1afba74",
   "metadata": {},
   "source": [
    "&emsp;윈도우(Windows)에서는 패키지 간의 종속성과 외부 라이브러리에 대한 종속성을 관리하기 어렵기 때문에 Python 패키지 설치가 까다로울 수 있습니다. 가끔씩 특정 툴에는 이전 버전의 패키지 또는 Python 버전이 필요할 수도 있습니다. 앞에서 언급했듯이 가능한한 하나의 소스(예. 동일한 conda 채널)에서 패키지를 설치하는 것도 좋은 방법입니다.  \n",
    "\n",
    "&emsp;그러기 위해 서로 다른 Python 프로젝트에 필요한 패키지를 분리하여 관리할 수 있는 방법이 있습니다. 바로 Python 환경(environments)입니다.  \n",
    "\n",
    "&emsp;일반적으로 **Python 환경**은 특정 작업 또는 버전에 필요한 Python 인터프리터(interpreter), Python 패키지, 기본 라이브러리와 같은 모든 툴을 설치하는 별도의 로컬 설치 공간입니다. Python에는 [venv](https://docs.python.org/3/library/venv.html) 모듈 및 [virtualenv](https://virtualenv.pypa.io/en/latest/) 패키지처럼 파이썬 환경 관리를 위해 기본적으로 제공하는 공식 도구가 있습니다. 그러나 앞선 도구들을 사용해 설치할 경우, GIS 패키지가 외부 라이브러리에 의존하기 때문에 Windows에서는 제대로 작동하지 않을 수 있습니다. 따라서, `conda`를 사용하여 Python 환경을 관리하는 것을 추천드립니다.  \n",
    "\n",
    "&emsp;또한 이 책에서는 `conda`를 사용하여 Python 패키지를 설치하고 관리합니다. 이 책에서 필요한 모든 툴이 포함된 Python 환경을 만드는 방법은 아래에서 소개합니다.  "
   ]
  },
  {
   "cell_type": "markdown",
   "id": "1a2439d6-82ae-4647-8816-f5bb6624128c",
   "metadata": {},
   "source": [
    "### Conda 환경 생성 : 방법 1"
   ]
  },
  {
   "cell_type": "markdown",
   "id": "ccce27f2-4911-498f-b0c0-573bc72fc8cb",
   "metadata": {},
   "source": [
    "&emsp;Conda 공식 문서에는 [conda 환경을 만들고 관리하는 방법](https://docs.conda.io/projects/conda/en/latest/user-guide/tasks/manage-environments.html)에 대해 상세하게 설명된 페이지가 있습니다. Conda 환경을 만들려면 3 단계가 필요합니다.  \n",
    "\n",
    "1. 환경 생성  \n",
    "2. 환경 활성화  \n",
    "3. 활성화된 환경에 패키지 설치  \n",
    "\n",
    "&emsp;아래의 명령은 Anaconda 또는 Miniconda가 설치된 여러 운영 체제에서 작동합니다.  \n",
    "\n",
    "&emsp;**환경을 만들고 이름을 지정**합니다.  \n",
    "```\n",
    "conda create --name autogis\n",
    "```  \n",
    "\n",
    "&emsp;새로 만든 **환경을 활성화**합니다.  \n",
    "```\n",
    "conda activate autogis\n",
    "```  \n",
    "\n",
    "&emsp;환경이 활성화 되면, 명령 프롬프트 내 줄 시작 부분에 활성화된 환경 이름이 표시되어야 합니다. 확인 후 활성화된 환경에 패키지를 설치합니다.  \n",
    "```\n",
    "conda install -c conda-forge jupyterlab jupyterlab-git\n",
    "conda install -c conda-forge geopandas\n",
    "conda install -c conda-forge matplotlib\n",
    "conda install -c conda-forge geojson\n",
    "conda install -c conda-forge folium\n",
    "```  \n",
    "\n",
    "&emsp;필요한 모든 패키지를 설치한 후 `autogis` conda 환경에 연결된 로컬 JupyterLab에서 작업할 수 있습니다.  \n",
    "```\n",
    "jupyter lab\n",
    "```  "
   ]
  },
  {
   "cell_type": "markdown",
   "id": "179440a3-1e07-4bb2-ade9-57b0f0511a19",
   "metadata": {},
   "source": [
    "### Conda 환경 생성 : 방법 2"
   ]
  },
  {
   "cell_type": "markdown",
   "id": "10a80139-32bc-42f7-b00b-508dd27eed5e",
   "metadata": {},
   "source": [
    "&emsp;사전 정의된 구성(configuration) 파일을 기반으로 conda 환경을 생성하는 것도 가능합니다. conda 환경에 대한 요구 사항은 YAML 파일(파일 확장자 .yaml 또는 .yml)에 conda 환경에 대한 사항들을 작성합니다.  \n",
    "\n",
    "&emsp;구성(Configuration) 파일은 다음과 같이 작성할 수 있습니다.  "
   ]
  },
  {
   "cell_type": "markdown",
   "id": "e395c8ff-1206-4014-8afa-f2c09c66f31f",
   "metadata": {},
   "source": [
    "```\n",
    "name: autogis\n",
    "\n",
    "channels:\n",
    "    - conda-forge\n",
    "\n",
    "dependencies:\n",
    "    - python=3.10\n",
    "\n",
    "    - myst-nb\n",
    "    - sphinx\n",
    "    - sphinx-book-theme\n",
    "    \n",
    "    - jupyterlab\n",
    "    - jupyterlab-git\n",
    "    \n",
    "    - bokeh\n",
    "    - folium\n",
    "    - geojson\n",
    "    - geopandas\n",
    "    - geopy\n",
    "    - matplotlib\n",
    "    - osmnx\n",
    "    - pyrosm\n",
    "    - r5py\n",
    "```"
   ]
  },
  {
   "cell_type": "markdown",
   "id": "35aeaeba-60e1-465b-8faf-8221221f5234",
   "metadata": {},
   "source": [
    "&emsp;구성(Configuration) 파일을 작성한 후, 해당 폴더로 이동하고 다음 명령을 실행하여 파일에 지정된 사양에 따라 새로운 conda 환경을 만듭니다."
   ]
  },
  {
   "cell_type": "markdown",
   "id": "3dd84085-93f2-40b8-94d5-f4d4ec6703b4",
   "metadata": {},
   "source": [
    "```\n",
    "conda env create --file=environment.yml\n",
    "```"
   ]
  },
  {
   "cell_type": "markdown",
   "id": "2058a530-0201-4118-801a-13a013c415f6",
   "metadata": {},
   "source": [
    "&emsp;패키지 간의 종속성을 해결하고 필요한 패키지를 설치하는 데 오랜 시간이 걸릴 수 있습니다. 설치가 완료되면 새로운 GIS 패키지 환경을 사용할 수 있습니다. `conda activate`를 사용하여 활성화합니다.  "
   ]
  },
  {
   "cell_type": "markdown",
   "id": "3ba41c3a-27c7-4030-9085-3c4b698e3e10",
   "metadata": {},
   "source": [
    "```\n",
    "conda activate autogis\n",
    "```"
   ]
  },
  {
   "cell_type": "markdown",
   "id": "e09451c8-fbe4-41e4-a92c-f59e796bca7a",
   "metadata": {},
   "source": [
    "---"
   ]
  }
 ],
 "metadata": {
  "kernelspec": {
   "display_name": "Python 3 (ipykernel)",
   "language": "python",
   "name": "python3"
  },
  "language_info": {
   "codemirror_mode": {
    "name": "ipython",
    "version": 3
   },
   "file_extension": ".py",
   "mimetype": "text/x-python",
   "name": "python",
   "nbconvert_exporter": "python",
   "pygments_lexer": "ipython3",
   "version": "3.9.13"
  }
 },
 "nbformat": 4,
 "nbformat_minor": 5
}
