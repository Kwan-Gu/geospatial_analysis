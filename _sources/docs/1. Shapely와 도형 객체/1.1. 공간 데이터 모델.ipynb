{
 "cells": [
  {
   "cell_type": "markdown",
   "id": "73d575a1-5314-4c1e-b308-61b8bc50ef88",
   "metadata": {},
   "source": [
    "# 공간 데이터 모델"
   ]
  },
  {
   "cell_type": "markdown",
   "id": "e9684034-4aa8-4bea-a51b-c6002032de92",
   "metadata": {},
   "source": [
    "---"
   ]
  },
  {
   "cell_type": "markdown",
   "id": "7199303b-a87d-4c5e-b0b4-b8b2b84f824d",
   "metadata": {},
   "source": [
    "```{figure} ./img/geometric_objects.svg\n",
    "---\n",
    "height: 500px\n",
    "---\n",
    "Python에서 [shapely](https://shapely.readthedocs.io/en/stable/) 라이브러리를 활용해 사용할 수 있는 기본적인 기하학적 객체들 (출처: [위키피디아 GeoJSON](https://en.wikipedia.org/wiki/GeoJSON))\n",
    "```"
   ]
  },
  {
   "cell_type": "markdown",
   "id": "3668e4cd-19e5-46c7-8411-21559e5b0d43",
   "metadata": {},
   "source": [
    "&emsp;모든 지리공간 벡터 데이터는 기본적인 기하학적 객체의 집합으로 설명할 수 있습니다. 예를 들어 **점**, **선** 및 **다각형**은 공간 데이터의 기본 구성 요소입니다.\n",
    "\n",
    "&emsp;Python에서 이러한 공간 객체를 활용해 다양한 기하학적 작업을 수행하기 위해 사용되는 표준 라이브러리로 [shapely](https://shapely.readthedocs.io/en/stable/)가 있습니다. 지리정보 데이터셋(레이어; layers)을 처리하는 geopandas(*Ⅱ. GeoPandas로 공간 데이터 관리* 참조)와 같은 라이브러리를 제대로 사용하기 위해서도 [shapely](https://shapely.readthedocs.io/en/stable/) 라이브러리가 어떻게 작동하는지에 대한 기본적인 이해가 가장 중요합니다.  \n",
    "\n",
    "&emsp;Shapely는 다른 지리공간 소프트웨어와 마찬가지로 [Open Geospatial Consortium의 Simple Feature Access](https://www.ogc.org/standard/sfa/) 표준에 제시된 공간 데이터 모델을 따릅니다. 이 단원에서 사용되는 용어들도 [shapely](https://shapely.readthedocs.io/en/stable/)에서 사용될뿐만 아니라, 일반적인 개념이므로 훨씬 더 광범위하게 사용할 수도 있습니다.  "
   ]
  },
  {
   "cell_type": "markdown",
   "id": "c5947af8-ea49-4446-95ef-296713bcf5f8",
   "metadata": {},
   "source": [
    "## 좌표 튜플(Coordinate Tuples)로 구성되는 기하학적 객체"
   ]
  },
  {
   "cell_type": "markdown",
   "id": "674ae877-e816-43ac-b545-14e2378d93f1",
   "metadata": {},
   "source": [
    "&emsp;기본적인 기하학적 객체를 구성하는 가장 작은 구성 단위는 <b>좌표 튜플(coordinate tuples)</b> 입니다. 즉, 좌표 튜플은 점, 선 및 다각형을 정의하는 데 사용됩니다. 이러한 좌표 튜플은 일반적으로 2차원 `(x, y)` 또는 3차원 `(x, y, z)`으로 정의됩니다."
   ]
  },
  {
   "cell_type": "markdown",
   "id": "7fb260d0-d2a5-4ec4-b6c4-d7a5a2c02d35",
   "metadata": {},
   "source": [
    "```{admonition} 튜플 (Tuples)\n",
    ":class: note\n",
    "&emsp;[튜플(Tuple)](https://docs.python.org/3/tutorial/datastructures.html#tuples-and-sequences)은 쉼표(`,`)로 구분된 여러 값 또는 단일 값으로 구성된 Python의 기본적인 데이터 구조입니다. 위 좌표 튜플(coordinate tuples)은 튜플로 표시됩니다. 예를 들어, `(60.192059, 24.945831)`은 두 개의 값을 가진 튜플이고, `(1,)`은 하나의 값을 가진 튜플입니다. 그리고 함수 `tuple([1, 2, 3])`은 리스트(`list`)인 `[1, 2, 3]`을 튜플(`tuple`) `(1, 2, 3)`으로 변환(캐스트; casts)하는 역할을 합니다.  \n",
    "\n",
    "&emsp;튜플은 Python의 [시퀀스(sequence) 데이터 유형](https://docs.python.org/3/library/stdtypes.html#typesseq)에 속합니다. 튜플 외에 다른 시퀀스 데이터 유형은 리스트(list)와 range가 있습니다. 튜플은 리스트 및 range와 많은 유사점이 있지만 종종 다른 목적을 위해 사용됩니다. 튜플과 리스트의 가장 큰 차이점은, 튜플의 경우 변경할 수 없다([immutable](https://docs.python.org/3/glossary.html#term-immutable))는 점입니다. 예를 들어, 리스트는 리스트에 값을 추가하거나 제거하여 변경할 수 있지만(mutable), 튜플은 불가능합니다.  \n",
    "```"
   ]
  },
  {
   "cell_type": "markdown",
   "id": "36016fb1-003c-498f-a7e1-44de07ccbc11",
   "metadata": {},
   "source": [
    "## 점 (Points)"
   ]
  },
  {
   "cell_type": "markdown",
   "id": "e1d3a167-ce9e-46d5-926f-d57a4c09e97e",
   "metadata": {},
   "source": [
    "&emsp;<b>점(Point)</b>은 2차원 또는 3차원 유클리드 공간에서 하나의 점을 가리킵니다. 따라서, 점은 단일 좌표 튜플로 정의됩니다.  "
   ]
  },
  {
   "cell_type": "markdown",
   "id": "16474eb0-a6aa-4c08-b8f7-7afb081f37dd",
   "metadata": {},
   "source": [
    "## 선 (LineStrings) & 선형 링 (LineRings)"
   ]
  },
  {
   "cell_type": "markdown",
   "id": "ecd1c0ba-3416-427f-aa1a-dc8615df7ebe",
   "metadata": {},
   "source": [
    "&emsp;<b>선(LineString)</b>과 <b>선형 링(LineRing)</b>은 점의 시퀀스(sequence)로 정의된 선(lines)의 종류를 가리킵니다. 점을 순서대로 연결하면 선(LineString)이 형성되며, 만약 첫 번째 점과 마지막 점이 동일하면 선형 링(LineRing)이 됩니다. 따라서, <i>선(LineString)</i>을 정의하려면 최소 2개의 점이 필요하고, <i>선형 링(LinearRing)</i>의 경우 최소 3개가 필요합니다.  "
   ]
  },
  {
   "cell_type": "markdown",
   "id": "e5983f45-391b-4a54-96ae-748975105938",
   "metadata": {},
   "source": [
    "## 다각형 (Polygons)"
   ]
  },
  {
   "cell_type": "markdown",
   "id": "9e19bf64-af13-49e1-a6d9-a65f4f9e60b8",
   "metadata": {},
   "source": [
    "&emsp;<b>다각형(Polygon)</b>은 영역을 나타냅니다. 다각형은 하나의 <i>선형 링(LinearRing)</i>과 공백 영역을 나타내는 여러 개의 <i>선형 링(LinearRing)</i>들로 정의됩니다. 따라서 다각형을 정의하려면 최소한 3개의 좌표 튜플들이 필요합니다."
   ]
  },
  {
   "cell_type": "markdown",
   "id": "a6d5c372-4f61-4cdb-b99d-c294c3d64d52",
   "metadata": {},
   "source": [
    "## 기하학적 객체 집합"
   ]
  },
  {
   "cell_type": "markdown",
   "id": "3ee85b15-18a1-4f08-a654-21a917a1881d",
   "metadata": {},
   "source": [
    "&emsp;복잡한 형태의 공간 특성을 표현하기 위해 기본적인 기하학적 객체들을 결합해 사용할 수 있습니다. 예를 들어, 불연속 지역으로 구성된 행정 구역(예. 서울특별시의 강북과 강남 지역)을 표현하는 경우가 있습니다.  "
   ]
  },
  {
   "cell_type": "markdown",
   "id": "410f4928-6eac-43c4-a30f-f9a9d1ea6f41",
   "metadata": {},
   "source": [
    "- **다중 점(MultiPoint)** : 점들의 집합\n",
    "- **다중 선(MultiLineString)** : 선들의 집합\n",
    "- **다중 다각형(MultiPolygon)** : 다각형들의 집합\n",
    "- **기하 집합(GeometryCollection)** : 점, 선, 다각형뿐만 아니라 다중 점, 다중 선, 다중 다각형의 집합  "
   ]
  },
  {
   "cell_type": "markdown",
   "id": "ae8a66e8-c17a-4a0c-bcee-bffc0274788a",
   "metadata": {},
   "source": [
    "```{figure} ./img/multipolygons.svg\n",
    "---\n",
    "height: 300px\n",
    "---\n",
    "*Tyrol* (오스트리아의 연방주)은 **다중 다각형(MultiPolygon)** 입니다 (그림 출처: [Statistics Austria](https://data.statistik.gv.at/web/meta.jsp?dataset=OGDEXT_GEM_1)).\n",
    "```"
   ]
  },
  {
   "cell_type": "markdown",
   "id": "f420ad8e-9f0b-49f5-9354-67f7d0097111",
   "metadata": {},
   "source": [
    "---"
   ]
  },
  {
   "cell_type": "markdown",
   "id": "e996febe-9002-4b48-a3c1-43ffc462f39d",
   "metadata": {},
   "source": [
    "```{raw} html\n",
    "<script src=\"https://utteranc.es/client.js\"\n",
    "        repo=\"Kwan-Gu/geospatial_analysis\"\n",
    "        issue-term=\"pathname\"\n",
    "        theme=\"preferred-color-scheme\"\n",
    "        crossorigin=\"anonymous\"\n",
    "        async>\n",
    "</script>\n",
    "```"
   ]
  }
 ],
 "metadata": {
  "kernelspec": {
   "display_name": "Python 3 (ipykernel)",
   "language": "python",
   "name": "python3"
  },
  "language_info": {
   "codemirror_mode": {
    "name": "ipython",
    "version": 3
   },
   "file_extension": ".py",
   "mimetype": "text/x-python",
   "name": "python",
   "nbconvert_exporter": "python",
   "pygments_lexer": "ipython3",
   "version": "3.9.13"
  }
 },
 "nbformat": 4,
 "nbformat_minor": 5
}
