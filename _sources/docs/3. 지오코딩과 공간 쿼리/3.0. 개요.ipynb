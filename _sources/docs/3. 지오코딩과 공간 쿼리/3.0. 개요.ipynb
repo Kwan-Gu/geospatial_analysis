{
 "cells": [
  {
   "cell_type": "markdown",
   "id": "10d40ce5-1022-4a3b-9d3f-5862007cecaf",
   "metadata": {},
   "source": [
    "# 개요"
   ]
  },
  {
   "cell_type": "markdown",
   "id": "35417fc2-da2f-4be9-8c3a-da34c31f7133",
   "metadata": {},
   "source": [
    "---"
   ]
  },
  {
   "cell_type": "markdown",
   "id": "3e944175-1acf-4ce3-a1a9-f03c9e56021a",
   "metadata": {},
   "source": [
    "&emsp;이 단원에서는 GIS를 다룰 때 자주 접하는 두 기술에 대해 배우도록 하겠습니다. 먼저 주소를 좌표로 변환하거나 또는 좌표를 주소로 변환하는 기술인 <b>지오코딩(geocoding)</b>을 살펴보겠습니다. 그런 다음 geopandas에서 <b>공간 조인(spatial join)</b>을 수행하는 방법을 다루겠습니다."
   ]
  },
  {
   "cell_type": "markdown",
   "id": "1dbeeaf9-552c-409b-b0d4-138630ba346d",
   "metadata": {},
   "source": [
    "## 학습 목표"
   ]
  },
  {
   "cell_type": "markdown",
   "id": "bed2b75c-7bbb-452a-845e-4ec1b56aa3ec",
   "metadata": {},
   "source": [
    "- 지오코딩 (예. 주소를 좌표로 변환)  \n",
    "- 점(point)이 다각형(polygon) 내부에 있는지 확인하는 쿼리  \n",
    "- 두 벡터 데이터셋을 공간 조인"
   ]
  },
  {
   "cell_type": "markdown",
   "id": "a0f70f50-4d57-4541-84cd-e2d1b77de267",
   "metadata": {},
   "source": [
    "---"
   ]
  },
  {
   "cell_type": "markdown",
   "id": "14893f65-6939-4a0a-9c8c-e81f01710234",
   "metadata": {},
   "source": [
    "```{raw} html\r\n",
    "<script src=\"https://utteranc.es/client.js\"\r\n",
    "        repo=\"Kwan-Gu/geospatial_analysis\"\r\n",
    "        issue-term=\"pathname\"\r\n",
    "        theme=\"preferred-color-scheme\"\r\n",
    "        crossorigin=\"anonymous\"\r\n",
    "        async>\r\n",
    "</script>\r\n",
    "```"
   ]
  }
 ],
 "metadata": {
  "kernelspec": {
   "display_name": "Python 3 (ipykernel)",
   "language": "python",
   "name": "python3"
  },
  "language_info": {
   "codemirror_mode": {
    "name": "ipython",
    "version": 3
   },
   "file_extension": ".py",
   "mimetype": "text/x-python",
   "name": "python",
   "nbconvert_exporter": "python",
   "pygments_lexer": "ipython3",
   "version": "3.9.13"
  }
 },
 "nbformat": 4,
 "nbformat_minor": 5
}
