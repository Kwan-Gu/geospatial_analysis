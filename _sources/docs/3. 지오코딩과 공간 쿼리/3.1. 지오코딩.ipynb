{
 "cells": [
  {
   "cell_type": "markdown",
   "id": "e0c423f4-4a8b-4db6-8613-a92e543f75dd",
   "metadata": {},
   "source": [
    "# 지오코딩"
   ]
  },
  {
   "cell_type": "markdown",
   "id": "44262348-85b5-4d4b-aa26-6b7da2ef6ab1",
   "metadata": {},
   "source": [
    "---"
   ]
  },
  {
   "cell_type": "markdown",
   "id": "5b1f38a0-e6e6-416d-b06a-dca4476e6400",
   "metadata": {},
   "source": [
    "&emsp;지오코딩은 장소 이름(예. 서울시청)이나 주소(예. 대한민국 서울특별시 중구 세종대로 110 서울특별시청)를 좌표로 변환하는 프로세스입니다. 이 단원에서는 [Geopandas](https://geopandas.org/en/stable/)와 [geopy](https://geopy.readthedocs.io/en/stable/) 라이브러리를 사용하여 지오코딩하는 방법을 배우겠습니다.  \n",
    "\n",
    "&emsp;Geopy와 다른 지오코딩 라이브러리(예. [geocoder 라이브러리](https://geocoder.readthedocs.io/))를 사용하면 웹 서비스를 사용하여 전 세계의 주소, 도시, 국가 및 랜드마크의 좌표를 쉽게 얻을 수 있습니다. 이러한 웹 서비스를 지오코더(geocoder)라고 합니다. 실제로 지오코더는 API(응용 프로그래밍 인터페이스; Application) 서비스인 경우가 많으며, 이 API를 통해 요청(장소 이름 또는 주소)을 보내면 응답(좌표)을 받을 수 있습니다.  "
   ]
  },
  {
   "cell_type": "markdown",
   "id": "3ce5454d-7780-4a9d-b65a-d544bc3e7e83",
   "metadata": {},
   "source": [
    "&emsp;Geopy는 다음과 같은 지오코더를 제공합니다.  \n",
    "\n",
    "- [ESRI ArcGIS](https://developers.arcgis.com/rest/geocode/api-reference/overview-world-geocoding-service.htm)\n",
    "- [Baidu Maps](https://lbsyun.baidu.com/index.php?title=webapi/guide/webservice-geocoding)\n",
    "- [Bing](https://learn.microsoft.com/en-us/bingmaps/rest-services/locations/?redirectedfrom=MSDN)\n",
    "- <s>GeocodeFarm</s>  \n",
    "- [GeoNames](http://www.geonames.org/export/geonames-search.html)\n",
    "- [Google Geocoding API (V3)](https://developers.google.com/maps/documentation/geocoding?hl=ko)\n",
    "- [HERE](https://developer.here.com/documentation/geocoder/dev_guide/topics/quick-start.html)\n",
    "- <s>IGN France</s>  \n",
    "- [Mapquest](https://developer.mapquest.com/)\n",
    "- [OpenCage](https://opencagedata.com/api)\n",
    "- [Open Street Map Nominatim](https://nominatim.org/)\n",
    "- [What3words](https://developer.what3words.com/public-api/docsv2#overview)\n",
    "- [Yandex](https://yandex.com/dev/geocode/doc/en/)\n",
    "\n",
    "&emsp;Python을 통해 위의 지오코더를 이용하는 방법은 [geopy 공식 문서](https://geopy.readthedocs.io/en/stable/)를 확인하시길 바랍니다.  "
   ]
  },
  {
   "cell_type": "markdown",
   "id": "87cab25c-5775-47e8-a102-c1998143640d",
   "metadata": {},
   "source": [
    "&emsp;여러분이 사용할 수 있는 지오코더의 종류가 다양한만큼 지오코딩의 결과물은 각 지오코더가 기반하고 있는 데이터의 종류에 따라 다를 수 있습니다. 예를 들어, 일부 주소는 OpenStreetMap에는 존재하지만 Google 지도에는 없을 수 있습니다. 이러한 경우 OpenStreetMap 데이터에 기반한 Nominatim 지오코더를 사용하여 지오코딩할 수 있지만, Google Geocoding API로는 지오코딩 하지 못합니다.  \n",
    "\n",
    "&emsp;일부 지오코더의 경우 API 결과에 액세스하려면 <b>API 키(key)</b>가 필요할 수 있습니다. API 키는 일반적으로 지오코딩 서비스를 제공하는 웹 홈페이지에서 회원가입을 통해 등록하면 얻을 수 있습니다. 그리고 무료로 제공되는 지오코딩 API 서비스는 사용 **속도 제한**이 있는 경우가 있습니다. 짧은 시간에 너무 많은 요청을 시도하는 경우(예를 들어, 많은 수의 주소를 짧은 시간동안 지오코딩하는 경우), 지오코딩 서비스에서 오류를 발생시킬 수 있습니다. [geopy 공식 문서](https://geopy.readthedocs.io/en/stable/#usage-with-pandas)을 통해 geopy에서 API 속도 제한에 대응하기 위해 어떤 대안을 사용하는지 확인할 수 있습니다. 또는 지오코딩 서비스에 대한 비용(유료)을 지불한다면 속도 제한 없이 또는 더 많은 양의 API 요청을 할 수 있습니다.  \n",
    "\n",
    "&emsp;이 책에서는 비교적 적은 수의 주소만 지오코딩을 하기 때문에, Nominatim 지오코더를 사용하도록 하겠습니다. Nominatim 지오코더는 1초당 요청 1개로 속도가 제한됩니다. [여기](https://operations.osmfoundation.org/policies/nominatim/)에서 Nominatim 사용 정책에 대한 자세한 내용을 읽을 수 있습니다. 참고로, Nominatim은 적은 수의 주소만 지오코딩할 경우 서비스를 사용하기 위한 API 키가 필요하지 않습니다.  "
   ]
  },
  {
   "cell_type": "markdown",
   "id": "700aa9f3-2817-4c61-870f-00cc58b256a4",
   "metadata": {},
   "source": [
    "---"
   ]
  },
  {
   "cell_type": "markdown",
   "id": "f8493f9b-9c15-4410-92f1-5358a1e964c9",
   "metadata": {},
   "source": [
    "```{raw} html\r\n",
    "<script src=\"https://utteranc.es/client.js\"\r\n",
    "        repo=\"Kwan-Gu/geospatial_analysis\"\r\n",
    "        issue-term=\"pathname\"\r\n",
    "        theme=\"preferred-color-scheme\"\r\n",
    "        crossorigin=\"anonymous\"\r\n",
    "        async>\r\n",
    "</script>\r\n",
    "```"
   ]
  }
 ],
 "metadata": {
  "kernelspec": {
   "display_name": "Python 3 (ipykernel)",
   "language": "python",
   "name": "python3"
  },
  "language_info": {
   "codemirror_mode": {
    "name": "ipython",
    "version": 3
   },
   "file_extension": ".py",
   "mimetype": "text/x-python",
   "name": "python",
   "nbconvert_exporter": "python",
   "pygments_lexer": "ipython3",
   "version": "3.9.13"
  }
 },
 "nbformat": 4,
 "nbformat_minor": 5
}
