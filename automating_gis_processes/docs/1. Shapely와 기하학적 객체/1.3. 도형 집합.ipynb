{
 "cells": [
  {
   "cell_type": "markdown",
   "id": "d8b9e457-2bcb-493c-8f51-f4e872a006a6",
   "metadata": {},
   "source": [
    "# 도형 컬렉션 (Geometry Collections)"
   ]
  },
  {
   "cell_type": "markdown",
   "id": "049b09ed-238f-4dc2-af05-76f99f05b9c7",
   "metadata": {},
   "source": [
    "---"
   ]
  },
  {
   "cell_type": "markdown",
   "id": "b94b8945-9c74-4513-ac6d-0c4e0b99d313",
   "metadata": {},
   "source": [
    "```{figure} ./img/multipolygons.svg\n",
    "---\n",
    "height: 300px\n",
    "---\n",
    "<i>Tyrol</i> (오스트리아의 연방주)은 다중 다각형(MultiPolygon) 입니다 (그림 출처: <a href=\"https://data.statistik.gv.at/web/meta.jsp?dataset=OGDEXT_GEM_1\">Statistics Austria</a>).\n",
    "```"
   ]
  },
  {
   "cell_type": "markdown",
   "id": "2686ba24-56f7-4489-835f-f55a53e9e13d",
   "metadata": {
    "editable": true,
    "slideshow": {
     "slide_type": ""
    },
    "tags": []
   },
   "source": [
    "&emsp;분석 사례에 따라, 하나의 특성(feature)에 여러 도형(예. 여러 점 또는 다각형)을 저장하는 것이 유용합니다. 예를 들어, 위 그림과 같이 Tyrol 지역은 두 개의 다각형으로 구성된 지역입니다. 두 다각형은 동일한 속성(예. 지역 명, 인구 수 등)을 공유합니다. 따라서, 두 다각형을 각각 특성으로 저장하는 것은 의미가 없습니다. 즉, 별도의 행으로 저장할 필요없이 여러 개의 다각형으로 구성된 `MultiPolygon`으로 표현하여 Tyrol 지역을 하나의 행(단일 특성)으로 나타낼 수 있습니다.  \n",
    "\n",
    "&emsp;Shapely에서 점(point)의 컬렉션은 `MultiPoint`, 선(line) 컬렉션은 `MultiLineString`, 다각형(polygon) 컬렉션은 `MultiPolygon`으로 구현됩니다.  "
   ]
  },
  {
   "cell_type": "code",
   "execution_count": 5,
   "id": "4951b55d-7041-4e8e-8bd8-53e60b9bcc9d",
   "metadata": {
    "editable": true,
    "slideshow": {
     "slide_type": ""
    },
    "tags": []
   },
   "outputs": [
    {
     "data": {
      "image/svg+xml": [
       "<svg xmlns=\"http://www.w3.org/2000/svg\" xmlns:xlink=\"http://www.w3.org/1999/xlink\" width=\"100.0\" height=\"100.0\" viewBox=\"1.028 -26.272000000000002 9.404 31.644000000000002\" preserveAspectRatio=\"xMinYMin meet\"><g transform=\"matrix(1,0,0,-1,0,-20.900000000000002)\"><g><circle cx=\"2.2\" cy=\"4.2\" r=\"0.9493199999999999\" stroke=\"#555555\" stroke-width=\"0.31644\" fill=\"#66cc99\" opacity=\"0.6\" /><circle cx=\"7.2\" cy=\"-25.1\" r=\"0.9493199999999999\" stroke=\"#555555\" stroke-width=\"0.31644\" fill=\"#66cc99\" opacity=\"0.6\" /><circle cx=\"9.26\" cy=\"-2.456\" r=\"0.9493199999999999\" stroke=\"#555555\" stroke-width=\"0.31644\" fill=\"#66cc99\" opacity=\"0.6\" /></g></g></svg>"
      ],
      "text/plain": [
       "<MULTIPOINT (2.2 4.2, 7.2 -25.1, 9.26 -2.456)>"
      ]
     },
     "execution_count": 5,
     "metadata": {},
     "output_type": "execute_result"
    }
   ],
   "source": [
    "from shapely.geometry import Point, LineString, MultiPoint, MultiLineString\n",
    "\n",
    "# Point 객체 생성\n",
    "point1 = Point(2.2, 4.2)\n",
    "point2 = Point(7.2, -25.1)\n",
    "point3 = Point(9.26, -2.456)\n",
    "\n",
    "# MultiPoint 객체 생성\n",
    "multipoint = MultiPoint([point1, point2, point3])\n",
    "multipoint"
   ]
  },
  {
   "cell_type": "code",
   "execution_count": 3,
   "id": "24ee2999-3714-4e55-874d-54ba7c3fa12a",
   "metadata": {
    "editable": true,
    "slideshow": {
     "slide_type": ""
    },
    "tags": []
   },
   "outputs": [
    {
     "data": {
      "image/svg+xml": [
       "<svg xmlns=\"http://www.w3.org/2000/svg\" xmlns:xlink=\"http://www.w3.org/1999/xlink\" width=\"100.0\" height=\"100.0\" viewBox=\"1.028 -26.272000000000002 9.404 31.644000000000002\" preserveAspectRatio=\"xMinYMin meet\"><g transform=\"matrix(1,0,0,-1,0,-20.900000000000002)\"><g><polyline fill=\"none\" stroke=\"#66cc99\" stroke-width=\"0.63288\" points=\"2.2,4.2 7.2,-25.1\" opacity=\"0.8\" /><polyline fill=\"none\" stroke=\"#66cc99\" stroke-width=\"0.63288\" points=\"7.2,-25.1 9.26,-2.456\" opacity=\"0.8\" /></g></g></svg>"
      ],
      "text/plain": [
       "<MULTILINESTRING ((2.2 4.2, 7.2 -25.1), (7.2 -25.1, 9.26 -2.456))>"
      ]
     },
     "execution_count": 3,
     "metadata": {},
     "output_type": "execute_result"
    }
   ],
   "source": [
    "# LineString 객체 생성\n",
    "line1 = LineString([point1, point2])\n",
    "line2 = LineString([point2, point3])\n",
    "\n",
    "# MultiLineString 객체 생성\n",
    "multiline = MultiLineString([line1, line2])\n",
    "multiline"
   ]
  },
  {
   "cell_type": "code",
   "execution_count": 4,
   "id": "9fb5a720-5c53-42ef-9d4a-efd7599634cd",
   "metadata": {},
   "outputs": [
    {
     "name": "stdout",
     "output_type": "stream",
     "text": [
      "MULTIPOINT (2.2 4.2, 7.2 -25.1, 9.26 -2.456)\n",
      "MULTILINESTRING ((2.2 4.2, 7.2 -25.1), (7.2 -25.1, 9.26 -2.456))\n"
     ]
    }
   ],
   "source": [
    "print(multipoint)\n",
    "print(multiline)"
   ]
  },
  {
   "cell_type": "markdown",
   "id": "3a35d53b-fca4-4e20-a398-edced24e5d02",
   "metadata": {},
   "source": [
    "&emsp;`MultiPolygon`도 유사한 방식으로 구성할 수 있습니다. 먼저, 다각형 하나를 생성해 줍니다."
   ]
  },
  {
   "cell_type": "code",
   "execution_count": 6,
   "id": "b7bd6031-f18c-47a8-8af0-d4b37bf87faa",
   "metadata": {},
   "outputs": [
    {
     "data": {
      "image/svg+xml": [
       "<svg xmlns=\"http://www.w3.org/2000/svg\" xmlns:xlink=\"http://www.w3.org/1999/xlink\" width=\"194.39999999999998\" height=\"194.4\" viewBox=\"-187.2 -97.2 194.39999999999998 194.4\" preserveAspectRatio=\"xMinYMin meet\"><g transform=\"matrix(1,0,0,-1,0,0.0)\"><path fill-rule=\"evenodd\" fill=\"#66cc99\" stroke=\"#555555\" stroke-width=\"2.0\" opacity=\"0.6\" d=\"M -180.0,90.0 L -180.0,-90.0 L 0.0,-90.0 L 0.0,90.0 L -180.0,90.0 z\" /></g></svg>"
      ],
      "text/plain": [
       "<POLYGON ((-180 90, -180 -90, 0 -90, 0 90, -180 90))>"
      ]
     },
     "execution_count": 6,
     "metadata": {},
     "output_type": "execute_result"
    }
   ],
   "source": [
    "from shapely.geometry import Polygon, MultiPolygon\n",
    "\n",
    "left = Polygon([(-180, 90), (-180, -90), (0, -90), (0, 90)])\n",
    "left"
   ]
  },
  {
   "cell_type": "code",
   "execution_count": 7,
   "id": "3335aa1b-2d4d-49b1-9f24-86ecaf0ea43c",
   "metadata": {},
   "outputs": [
    {
     "name": "stdout",
     "output_type": "stream",
     "text": [
      "POLYGON ((-180 90, -180 -90, 0 -90, 0 90, -180 90))\n"
     ]
    }
   ],
   "source": [
    "print(left)"
   ]
  },
  {
   "cell_type": "markdown",
   "id": "6bd0c56a-7266-4350-be3f-2d56ab9ad838",
   "metadata": {},
   "source": [
    "&emsp;Shapely에는 직사각형 형태의 \"상자\"를 만드는 함수 `box`가 있습니다. `box` 함수는 x, y 좌표의 최소, 최대값을 사용하여 경계 상자(bounding box)를 생성합니다. 두 번째 다각형을 만드는 데 [`shapely.geometry.box()`](https://shapely.readthedocs.io/en/stable/manual.html#shapely.geometry.box)를 사용해 보겠습니다.  "
   ]
  },
  {
   "cell_type": "code",
   "execution_count": 8,
   "id": "797a9c67-beeb-46d8-b4c6-d6406b87fc27",
   "metadata": {},
   "outputs": [
    {
     "data": {
      "image/svg+xml": [
       "<svg xmlns=\"http://www.w3.org/2000/svg\" xmlns:xlink=\"http://www.w3.org/1999/xlink\" width=\"194.39999999999998\" height=\"194.4\" viewBox=\"-7.2 -97.2 194.39999999999998 194.4\" preserveAspectRatio=\"xMinYMin meet\"><g transform=\"matrix(1,0,0,-1,0,0.0)\"><path fill-rule=\"evenodd\" fill=\"#66cc99\" stroke=\"#555555\" stroke-width=\"2.0\" opacity=\"0.6\" d=\"M 180.0,-90.0 L 180.0,90.0 L 0.0,90.0 L 0.0,-90.0 L 180.0,-90.0 z\" /></g></svg>"
      ],
      "text/plain": [
       "<POLYGON ((180 -90, 180 90, 0 90, 0 -90, 180 -90))>"
      ]
     },
     "execution_count": 8,
     "metadata": {},
     "output_type": "execute_result"
    }
   ],
   "source": [
    "from shapely.geometry import box\n",
    "min_x = 0\n",
    "max_x = 180\n",
    "min_y = -90\n",
    "max_y = 90\n",
    "\n",
    "right = box(min_x, min_y, max_x, max_y)\n",
    "right"
   ]
  },
  {
   "cell_type": "code",
   "execution_count": 9,
   "id": "168561df-02fa-42b9-9a8e-815913f93d7c",
   "metadata": {},
   "outputs": [
    {
     "name": "stdout",
     "output_type": "stream",
     "text": [
      "POLYGON ((180 -90, 180 90, 0 90, 0 -90, 180 -90))\n"
     ]
    }
   ],
   "source": [
    "print(right)"
   ]
  },
  {
   "cell_type": "markdown",
   "id": "b717d69b-b34d-41c5-a2e9-6b7483bbc8c0",
   "metadata": {},
   "source": [
    "&emsp;마지막으로, 두 다각형 `left`, `right`를 `MultiPolygon`으로 결합할 수 있습니다.  "
   ]
  },
  {
   "cell_type": "code",
   "execution_count": 10,
   "id": "b857a1f7-c5c0-4962-a73e-e194cf4a9222",
   "metadata": {},
   "outputs": [
    {
     "data": {
      "image/svg+xml": [
       "<svg xmlns=\"http://www.w3.org/2000/svg\" xmlns:xlink=\"http://www.w3.org/1999/xlink\" width=\"300\" height=\"208.8\" viewBox=\"-194.4 -104.4 388.8 208.8\" preserveAspectRatio=\"xMinYMin meet\"><g transform=\"matrix(1,0,0,-1,0,0.0)\"><g><path fill-rule=\"evenodd\" fill=\"#ff3333\" stroke=\"#555555\" stroke-width=\"2.592\" opacity=\"0.6\" d=\"M -180.0,90.0 L -180.0,-90.0 L 0.0,-90.0 L 0.0,90.0 L -180.0,90.0 z\" /><path fill-rule=\"evenodd\" fill=\"#ff3333\" stroke=\"#555555\" stroke-width=\"2.592\" opacity=\"0.6\" d=\"M 180.0,-90.0 L 180.0,90.0 L 0.0,90.0 L 0.0,-90.0 L 180.0,-90.0 z\" /></g></g></svg>"
      ],
      "text/plain": [
       "<MULTIPOLYGON (((-180 90, -180 -90, 0 -90, 0 90, -180 90)), ((180 -90, 180 9...>"
      ]
     },
     "execution_count": 10,
     "metadata": {},
     "output_type": "execute_result"
    }
   ],
   "source": [
    "# MultiPolygon 생성\n",
    "multipolygon = MultiPolygon([left, right])\n",
    "multipolygon"
   ]
  },
  {
   "cell_type": "code",
   "execution_count": 11,
   "id": "ef496f30-9079-458c-84ca-a0acb5ecea41",
   "metadata": {},
   "outputs": [
    {
     "name": "stdout",
     "output_type": "stream",
     "text": [
      "MULTIPOLYGON (((-180 90, -180 -90, 0 -90, 0 90, -180 90)), ((180 -90, 180 90, 0 90, 0 -90, 180 -90)))\n"
     ]
    }
   ],
   "source": [
    "print(multipolygon)"
   ]
  },
  {
   "cell_type": "markdown",
   "id": "a1ba00a3-1743-4060-9322-d5ef2bd07e3e",
   "metadata": {},
   "source": [
    "---"
   ]
  },
  {
   "cell_type": "markdown",
   "id": "581f1428-f649-4ece-b0c3-8dfe4aff522d",
   "metadata": {},
   "source": [
    "```{raw} html\r\n",
    "<script src=\"https://utteranc.es/client.js\"\r\n",
    "        repo=\"Kwan-Gu/geospatial_analysis\"\r\n",
    "        issue-term=\"pathname\"\r\n",
    "        theme=\"preferred-color-scheme\"\r\n",
    "        crossorigin=\"anonymous\"\r\n",
    "        async>\r\n",
    "</script>\r\n",
    "```"
   ]
  }
 ],
 "metadata": {
  "kernelspec": {
   "display_name": "Python 3 (ipykernel)",
   "language": "python",
   "name": "python3"
  },
  "language_info": {
   "codemirror_mode": {
    "name": "ipython",
    "version": 3
   },
   "file_extension": ".py",
   "mimetype": "text/x-python",
   "name": "python",
   "nbconvert_exporter": "python",
   "pygments_lexer": "ipython3",
   "version": "3.9.13"
  }
 },
 "nbformat": 4,
 "nbformat_minor": 5
}
