{
 "cells": [
  {
   "cell_type": "markdown",
   "id": "3017ee41-5dda-40a6-a57c-176b5ff43f3d",
   "metadata": {},
   "source": [
    "# Shapely 사용하기"
   ]
  },
  {
   "cell_type": "markdown",
   "id": "12bd8f1a-8654-4017-b15b-32ed1add02c5",
   "metadata": {},
   "source": [
    "---"
   ]
  },
  {
   "cell_type": "markdown",
   "id": "ac7711f0-2c99-40ac-9525-72536f18027c",
   "metadata": {},
   "source": [
    "&emsp;Shapely는 도형과 관련해 다양한 작업을 수행할 수 있습니다. 예를 들어 아래와 같은 작업들을 수행할 수 있습니다."
   ]
  },
  {
   "cell_type": "markdown",
   "id": "8140f56d-bd1f-4d2e-8fe4-271954bf284a",
   "metadata": {},
   "source": [
    "* 점(Point), 선(line), 다각형(polygon) 생성  \n",
    "* 도형의 면적, 길이, 둘레 등 계산\n",
    "* 도형 간의 병합(`union`), 빼기(`difference`), 거리 계산\n",
    "* 두 도형이 교차(intersect), 접촉(touch), 횡단(cross)하는지 등 여부 확인  "
   ]
  },
  {
   "cell_type": "markdown",
   "id": "38262eda-af0f-46df-833b-2c4f0c1a7a14",
   "metadata": {},
   "source": [
    "## 점(Point)"
   ]
  },
  {
   "cell_type": "markdown",
   "id": "f8b8b4f3-430b-4a87-bea1-259770e4a5b9",
   "metadata": {},
   "source": [
    "&emsp;점(Point) 객체를 생성하는 것은 간단합니다. 좌표(x, y 또는 x, y, z)를 생성자(constructor)에 전달하면 됩니다.  "
   ]
  },
  {
   "cell_type": "code",
   "execution_count": 1,
   "id": "51bb6cec-b8f1-4242-ba74-a88846e01136",
   "metadata": {},
   "outputs": [],
   "source": [
    "# shapely.geometry.Point 클래스 임포트(import)\n",
    "from shapely.geometry import Point\n",
    "\n",
    "# 점(Point) 객체 생성\n",
    "point1 = Point(2.2, 4.2)\n",
    "point2 = Point(7.2, -25.1)\n",
    "point3 = Point(9.26, -2.456)\n",
    "point4_3D = Point(9.26, -2.456, 0.57)"
   ]
  },
  {
   "cell_type": "markdown",
   "id": "bad0ff53-ba98-49e3-aaa4-c91a13cc8f18",
   "metadata": {},
   "source": [
    "&emsp;생성한 점 객체를 확인하려면 아래와 같이 도형을 표시할 수 있습니다. 또는 `print` 문을 사용하여 shapely 도형 객체에 대해 텍스트로 표시할 수도 있습니다."
   ]
  },
  {
   "cell_type": "code",
   "execution_count": 2,
   "id": "cd00d054-08d1-4a49-948d-b0f36a1ae901",
   "metadata": {},
   "outputs": [
    {
     "data": {
      "image/svg+xml": [
       "<svg xmlns=\"http://www.w3.org/2000/svg\" xmlns:xlink=\"http://www.w3.org/1999/xlink\" width=\"100.0\" height=\"100.0\" viewBox=\"1.2000000000000002 3.2 2.0 2.0\" preserveAspectRatio=\"xMinYMin meet\"><g transform=\"matrix(1,0,0,-1,0,8.4)\"><circle cx=\"2.2\" cy=\"4.2\" r=\"0.06\" stroke=\"#555555\" stroke-width=\"0.02\" fill=\"#66cc99\" opacity=\"0.6\" /></g></svg>"
      ],
      "text/plain": [
       "<POINT (2.2 4.2)>"
      ]
     },
     "execution_count": 2,
     "metadata": {},
     "output_type": "execute_result"
    }
   ],
   "source": [
    "point1"
   ]
  },
  {
   "cell_type": "code",
   "execution_count": 3,
   "id": "8a305b28-2b42-408f-b746-77a7ca7b2a87",
   "metadata": {},
   "outputs": [
    {
     "name": "stdout",
     "output_type": "stream",
     "text": [
      "POINT (2.2 4.2)\n",
      "POINT Z (9.26 -2.456 0.57)\n"
     ]
    }
   ],
   "source": [
    "print(point1)\n",
    "print(point4_3D)"
   ]
  },
  {
   "cell_type": "markdown",
   "id": "fc0bf47e-b469-4e55-aa19-724f6e037794",
   "metadata": {},
   "source": [
    "&emsp;이 텍스트 표현은 [OGC (Open Geospatial Consortium)](https://www.ogc.org/)의 [Simple Feature Access](https://www.ogc.org/standard/sfa/)에서 제시된 표준인 \"WKT (Well-Known Text)\" 형식입니다. 위 텍스트 표현 예시에서 `print(point4_3D)`가 \"POINT Z ...\"로 프린트된 것을 볼 수 있습니다. 여기서 문자 \"Z\"는 도형의 3차원 버전을 의미합니다.  \n",
    "\n",
    "&emsp;점 객체의 데이터 유형도 확인해 보겠습니다. 점의 유형이 `shapely.geometry.point.Point` 임을 알 수 있습니다."
   ]
  },
  {
   "cell_type": "code",
   "execution_count": 4,
   "id": "eeed9e77-2644-4190-9cd4-49adfdb3ed75",
   "metadata": {},
   "outputs": [
    {
     "data": {
      "text/plain": [
       "shapely.geometry.point.Point"
      ]
     },
     "execution_count": 4,
     "metadata": {},
     "output_type": "execute_result"
    }
   ],
   "source": [
    "type(point1)"
   ]
  },
  {
   "cell_type": "markdown",
   "id": "8e5cdfc4-537e-4f5d-acbf-b954d0f99614",
   "metadata": {},
   "source": [
    "```{note}\n",
    "&emsp;Shapely는 [GEOS](https://www.osgeo.org/projects/geos/)를 사용하여 도형 객체를 처리합니다. GEOS는 C++ 라이브러리(Python보다 훨씬 빠름)로, GIS의 오픈소스 분야에서 [QGIS](https://qgis.org/en/site/)를 비롯한 지리공간 연산 관련 많은 프로젝트들을 지원합니다.\n",
    "```"
   ]
  },
  {
   "cell_type": "markdown",
   "id": "132c4411-a957-4e2e-9c27-4fb0e0c1f644",
   "metadata": {},
   "source": [
    "### Point 속성 및 메서드"
   ]
  },
  {
   "cell_type": "markdown",
   "id": "45bf8960-ba1a-4304-a829-4ed59c0ba976",
   "metadata": {},
   "source": [
    "&emsp;점과 같은 shapely 도형 객체에는 유용한 [속성 및 메서드](https://shapely.readthedocs.io/en/stable/manual.html#general-attributes-and-methods)들이 기본적으로 내장되어 있습니다. 사용 가능한 속성들을 활용하면, 점의 좌표 값을 추출하거나 점 사이의 유클리드 거리를 계산하는 등 다양한 기하학적 연산을 수행할 수 있습니다.  \n",
    "\n",
    "&emsp;`geom_type` 속성에는 shapely 도형에 대한 유형 정보가 포함되어 있습니다.  "
   ]
  },
  {
   "cell_type": "code",
   "execution_count": 5,
   "id": "33a35b05-ac68-4a6d-b7f0-8ab7cd514de4",
   "metadata": {},
   "outputs": [
    {
     "data": {
      "text/plain": [
       "'Point'"
      ]
     },
     "execution_count": 5,
     "metadata": {},
     "output_type": "execute_result"
    }
   ],
   "source": [
    "point1.geom_type"
   ]
  },
  {
   "cell_type": "markdown",
   "id": "386704e1-51da-43ff-a4ac-82503af1fb8e",
   "metadata": {},
   "source": [
    "&emsp;도형 객체의 좌표값에 접근하기 위한 방법은 여러 가지가 있습니다. 예를 들어, 아래 예시의 속성 `coords`는 `shapely.coords.CoordinateSequence`를 가리키며 좌표 리스트를 `Iterator` 형태로 반환합니다. 여기서 `Iterator`란, 항목들을 리스트 형태로 반환하는 파이썬 데이터 구조 중 한 종류입니다.  "
   ]
  },
  {
   "cell_type": "code",
   "execution_count": 6,
   "id": "759ab514-deab-4641-b5e1-28973cc6c8cf",
   "metadata": {},
   "outputs": [
    {
     "data": {
      "text/plain": [
       "[(2.2, 4.2)]"
      ]
     },
     "execution_count": 6,
     "metadata": {},
     "output_type": "execute_result"
    }
   ],
   "source": [
    "# 좌표값\n",
    "list(point1.coords)"
   ]
  },
  {
   "cell_type": "markdown",
   "id": "9f54b23e-4d27-4179-8fcc-2eff201267d7",
   "metadata": {},
   "source": [
    "&emsp;좌표값에 접근하기 위한 위 방법 외에도 `shapely.geometry.Point` 객체는 좌표값에 *직접* 접근할 수 있는 속성 `x`, `y`, (3차원 도형의 경우만) `z`을 갖습니다.  "
   ]
  },
  {
   "cell_type": "code",
   "execution_count": 7,
   "id": "279d252f-c335-4e34-ad5a-22058b9f4fa2",
   "metadata": {},
   "outputs": [
    {
     "name": "stdout",
     "output_type": "stream",
     "text": [
      "2.2 4.2\n"
     ]
    }
   ],
   "source": [
    "# x, y 좌표값 읽기\n",
    "x = point1.x\n",
    "y = point1.y\n",
    "\n",
    "print(x, y)"
   ]
  },
  {
   "cell_type": "code",
   "execution_count": 8,
   "id": "e55f3795-5d0d-46d9-b8cb-cbb254f365c3",
   "metadata": {},
   "outputs": [
    {
     "name": "stdout",
     "output_type": "stream",
     "text": [
      "9.26 -2.456 0.57\n"
     ]
    }
   ],
   "source": [
    "# (3차원) x, y, z 좌표값 읽기\n",
    "x = point4_3D.x\n",
    "y = point4_3D.y\n",
    "z = point4_3D.z\n",
    "\n",
    "print(x, y, z)"
   ]
  },
  {
   "cell_type": "markdown",
   "id": "2b3d08bc-6476-4941-a63d-2fa20dd9c43b",
   "metadata": {},
   "source": [
    "&emsp;[`distance`](https://shapely.readthedocs.io/en/stable/manual.html#object.distance) 메서드를 사용하여 두 객체 사이의 거리를 계산하는 것도 가능합니다.  \n",
    "\n",
    "&emsp;아래 예제에서 두 점 간의 거리는 데카르트(cartesian) 좌표계에서 계산됩니다. 하지만, 실제 GIS 데이터로 작업할 때에는 사용된 좌표 참조 시스템(CRS)을 기반으로 거리 계산을 수행합니다. 따라서 거리 계산시 사용된 좌표 참조 시스템(CRS)의 측정 단위(예. m)가 무엇인지 확인해야 합니다. `point1`과 `point2` 사이의 거리를 계산해 보겠습니다."
   ]
  },
  {
   "cell_type": "code",
   "execution_count": 9,
   "id": "4661b5b0-4435-473a-86e8-58d2bd6840ff",
   "metadata": {},
   "outputs": [
    {
     "name": "stdout",
     "output_type": "stream",
     "text": [
      "점 사이의 거리는 29.72 unit 입니다.\n"
     ]
    }
   ],
   "source": [
    "# point1과 point2 간 거리 계산\n",
    "dist = point1.distance(point2)\n",
    "\n",
    "print(f\"점 사이의 거리는 {dist:.2f} unit 입니다.\")"
   ]
  },
  {
   "cell_type": "markdown",
   "id": "9aa96abb-b04f-43e7-9245-0b06df78a22a",
   "metadata": {},
   "source": [
    "```{caution}\n",
    "&emsp;Shapely를 사용하여 거리 및 면적을 계산할 때 기본적으로 내장된 메서드는,<br/>\n",
    "&emsp;&emsp;a) 평면, 데카르트(Cartesian), 유클리드 공간을 가정하고<br/>\n",
    "&emsp;&emsp;b) 계산된 값을 좌표계의 단위(예: m, 도; degree)에 따라 반환합니다.  \n",
    "```"
   ]
  },
  {
   "cell_type": "markdown",
   "id": "8b1bc915-cdd7-4326-8e2e-636bb9b5c96b",
   "metadata": {},
   "source": [
    "## 선 (Lines)"
   ]
  },
  {
   "cell_type": "markdown",
   "id": "233cfc01-3598-4051-a7a8-661335537302",
   "metadata": {},
   "source": [
    "&emsp;선(`LineString`) 객체 생성 방법은 점(`Point`) 생성과 유사합니다. 단일 좌표값을 갖는 튜플(`(2.2, 4.2)`) 대신에, 좌표 튜플 리스트(`[(2.2, 4.2), (7.2, -25.1), (9.26, -2.456)]`) 또는 선을 구성하는 점들의 리스트를 사용합니다.  "
   ]
  },
  {
   "cell_type": "code",
   "execution_count": 10,
   "id": "eb23d9a7-f0c7-4761-8df0-edb22654942e",
   "metadata": {},
   "outputs": [
    {
     "data": {
      "image/svg+xml": [
       "<svg xmlns=\"http://www.w3.org/2000/svg\" xmlns:xlink=\"http://www.w3.org/1999/xlink\" width=\"100.0\" height=\"100.0\" viewBox=\"1.028 -26.272000000000002 9.404 31.644000000000002\" preserveAspectRatio=\"xMinYMin meet\"><g transform=\"matrix(1,0,0,-1,0,-20.900000000000002)\"><polyline fill=\"none\" stroke=\"#66cc99\" stroke-width=\"0.63288\" points=\"2.2,4.2 7.2,-25.1 9.26,-2.456\" opacity=\"0.8\" /></g></svg>"
      ],
      "text/plain": [
       "<LINESTRING (2.2 4.2, 7.2 -25.1, 9.26 -2.456)>"
      ]
     },
     "execution_count": 10,
     "metadata": {},
     "output_type": "execute_result"
    }
   ],
   "source": [
    "# LineString 클래스 임포트\n",
    "from shapely.geometry import LineString\n",
    "\n",
    "# 점(Point) 객체로부터 선(LineString) 생성\n",
    "line = LineString([point1, point2, point3])\n",
    "line"
   ]
  },
  {
   "cell_type": "code",
   "execution_count": 11,
   "id": "c2ac0759-9932-4fce-8935-3c3c7b26b820",
   "metadata": {},
   "outputs": [
    {
     "data": {
      "image/svg+xml": [
       "<svg xmlns=\"http://www.w3.org/2000/svg\" xmlns:xlink=\"http://www.w3.org/1999/xlink\" width=\"100.0\" height=\"100.0\" viewBox=\"1.028 -26.272000000000002 9.404 31.644000000000002\" preserveAspectRatio=\"xMinYMin meet\"><g transform=\"matrix(1,0,0,-1,0,-20.900000000000002)\"><polyline fill=\"none\" stroke=\"#66cc99\" stroke-width=\"0.63288\" points=\"2.2,4.2 7.2,-25.1 9.26,-2.456\" opacity=\"0.8\" /></g></svg>"
      ],
      "text/plain": [
       "<LINESTRING (2.2 4.2, 7.2 -25.1, 9.26 -2.456)>"
      ]
     },
     "execution_count": 11,
     "metadata": {},
     "output_type": "execute_result"
    }
   ],
   "source": [
    "# 좌표 튜플 리스트로부터 선 생성\n",
    "line2 = LineString([(2.2, 4.2), (7.2, -25.1), (9.26, -2.456)])\n",
    "line2"
   ]
  },
  {
   "cell_type": "markdown",
   "id": "e80edece-7218-4b33-9794-8316004624d6",
   "metadata": {},
   "source": [
    "&emsp;아래의 텍스트 표현은 WKT 포맷입니다. WKT는 사람이 읽을 수 있는 텍스트 형식이므로 편리하며, 대부분의 GIS 도구에서도 사용됩니다. 또한 `LineString`이 여러 개의 좌표로 구성된 튜플로 되어 있음을 알 수 있습니다. WKT `LINESTRING`의 값은 쉼표`,`로 결합된 여러 개의 WKT `POINTS`의 값으로 구성됩니다.  "
   ]
  },
  {
   "cell_type": "code",
   "execution_count": 12,
   "id": "23c96116-b1e6-42c3-bd32-9cbd741ba070",
   "metadata": {},
   "outputs": [
    {
     "name": "stdout",
     "output_type": "stream",
     "text": [
      "LINESTRING (2.2 4.2, 7.2 -25.1, 9.26 -2.456)\n",
      "LINESTRING (2.2 4.2, 7.2 -25.1, 9.26 -2.456)\n"
     ]
    }
   ],
   "source": [
    "print(line)\n",
    "print(line2)"
   ]
  },
  {
   "cell_type": "markdown",
   "id": "211547af-498e-4193-9344-6e12087f2670",
   "metadata": {},
   "source": [
    "&emsp;데이터 유형도 확인해 보겠습니다.  "
   ]
  },
  {
   "cell_type": "code",
   "execution_count": 13,
   "id": "72ea7aa5-b316-4f9b-88cf-23aeb8174ec4",
   "metadata": {},
   "outputs": [
    {
     "data": {
      "text/plain": [
       "shapely.geometry.linestring.LineString"
      ]
     },
     "execution_count": 13,
     "metadata": {},
     "output_type": "execute_result"
    }
   ],
   "source": [
    "# line 객체의 데이터 타입 확인\n",
    "type(line)"
   ]
  },
  {
   "cell_type": "code",
   "execution_count": 14,
   "id": "62755f8e-2e66-4be2-900c-cb5e75ef3291",
   "metadata": {},
   "outputs": [
    {
     "data": {
      "text/plain": [
       "'LineString'"
      ]
     },
     "execution_count": 14,
     "metadata": {},
     "output_type": "execute_result"
    }
   ],
   "source": [
    "# line 객체의 도형 타입(geometry type) 확인\n",
    "line.geom_type"
   ]
  },
  {
   "cell_type": "markdown",
   "id": "b6a209b6-8060-4622-9a07-12e3ada8fb83",
   "metadata": {},
   "source": [
    "### LineString 속성 및 메서드"
   ]
  },
  {
   "cell_type": "markdown",
   "id": "c50120fb-391b-4f69-b228-a10146d9c3af",
   "metadata": {},
   "source": [
    "&emsp;Shapely의 선 관련 도형(`LineString`, `LinearRing`, `MultiLineString`)에는 유용한 기능을 제공하는 다양한 속성과 메서드가 있습니다. 예를 들어 도형의 좌표에 접근하고, 길이를 계산하고, 중심점을 찾고, 선을 따라서 지정된 간격으로 점을 찍거나, 선과 다른 도형 사이의 최근접 거리를 계산할 수 있습니다.  \n",
    "\n",
    "&emsp;선의 좌표에 접근하는 것은 점의 좌표에 접근하는 것과 매우 유사합니다. 선을 구성하기 위해서는 적어도 두 개 이상의 좌표 튜플이 있어야 하므로, 리스트에는 여러 개의 값이 포함됩니다."
   ]
  },
  {
   "cell_type": "code",
   "execution_count": 15,
   "id": "52bb02d6-0671-401b-829f-9adfb159811b",
   "metadata": {},
   "outputs": [
    {
     "data": {
      "text/plain": [
       "[(2.2, 4.2), (7.2, -25.1), (9.26, -2.456)]"
      ]
     },
     "execution_count": 15,
     "metadata": {},
     "output_type": "execute_result"
    }
   ],
   "source": [
    "# line 객체의 좌표 튜플\n",
    "list(line.coords)"
   ]
  },
  {
   "cell_type": "markdown",
   "id": "4c3752a4-8f6b-4bd1-9de6-f21fae40256a",
   "metadata": {},
   "source": [
    "&emsp;선의 모든 x 좌표 또는 모든 y 좌표에 접근해야 하는 경우 `xy` 속성을 사용할 수 있습니다.  "
   ]
  },
  {
   "cell_type": "code",
   "execution_count": 16,
   "id": "498d9b3c-0d19-458a-a086-225624128bce",
   "metadata": {},
   "outputs": [
    {
     "name": "stdout",
     "output_type": "stream",
     "text": [
      "[2.2, 7.2, 9.26]\n",
      "[4.2, -25.1, -2.456]\n"
     ]
    }
   ],
   "source": [
    "# line 객체의 x, y 좌표\n",
    "xcoords = list(line.xy[0])\n",
    "ycoords = list(line.xy[1])\n",
    "\n",
    "print(xcoords)\n",
    "print(ycoords)"
   ]
  },
  {
   "cell_type": "markdown",
   "id": "010ae18b-cd84-4b9b-ba0e-2c2b454f8713",
   "metadata": {},
   "source": [
    "```{admonition} 3D-LineStrings\n",
    ":class: danger\n",
    "&emsp;Shapely 도형의 `xy` 속성은 3차원 도형에서 `z` 값을 반환하지는 않습니다.  \n",
    "```"
   ]
  },
  {
   "cell_type": "markdown",
   "id": "35670e04-1371-4224-941d-3bfce89d4c35",
   "metadata": {},
   "source": [
    "&emsp;GIS 분석에 유용한 또다른 속성으로, 선의 길이와 중심점(centroid)을 구할 수 있습니다. 선(또는 다른 타입의 도형)의 중심점은 `shapely.geometry.Point` 객체입니다."
   ]
  },
  {
   "cell_type": "code",
   "execution_count": 17,
   "id": "ceb2daff-4d02-48bb-bfb2-e1938f3a1de4",
   "metadata": {
    "editable": true,
    "slideshow": {
     "slide_type": ""
    },
    "tags": []
   },
   "outputs": [
    {
     "name": "stdout",
     "output_type": "stream",
     "text": [
      "선의 길이: 52.5 unit\n"
     ]
    }
   ],
   "source": [
    "# line 객체의 길이\n",
    "line_length = line.length\n",
    "print(f\"선의 길이: {line_length:.1f} unit\")"
   ]
  },
  {
   "cell_type": "code",
   "execution_count": 18,
   "id": "54d5c6e3-4379-4271-8b17-8794a0c31fb5",
   "metadata": {
    "editable": true,
    "slideshow": {
     "slide_type": ""
    },
    "tags": []
   },
   "outputs": [
    {
     "name": "stdout",
     "output_type": "stream",
     "text": [
      "POINT (6.229961354035622 -11.892411157572392)\n"
     ]
    }
   ],
   "source": [
    "# line 객체의 중심점\n",
    "print(line.centroid)"
   ]
  },
  {
   "cell_type": "markdown",
   "id": "7cc255f3-25ea-4a69-b35d-61a6956acc05",
   "metadata": {},
   "source": [
    "## 다각형 (Polygon)"
   ]
  },
  {
   "cell_type": "markdown",
   "id": "09d390ff-e9cb-4817-a212-d321f7615a3c",
   "metadata": {
    "editable": true,
    "slideshow": {
     "slide_type": ""
    },
    "tags": []
   },
   "source": [
    "```{figure} ./img/polygon.png\n",
    "---\n",
    "height: 300px\n",
    "---\n",
    "다각형(Polygon) 예시\n",
    "```"
   ]
  },
  {
   "cell_type": "markdown",
   "id": "618c8008-dacd-4092-8187-35b7f6e97c55",
   "metadata": {
    "editable": true,
    "slideshow": {
     "slide_type": ""
    },
    "tags": []
   },
   "source": [
    "&emsp;다각형(Polygon)을 생성하는 것은 점 또는 선을 생성하는 것과 동일한 논리를 따릅니다. 그러나 다각형을 생성하기 위해 성립해야 하는 규칙은 보다 더 복잡합니다. 다각형의 외부(shell)를 형성하는 하나의 선형 링이 존재해야 하며, 앞에서 생성된 다각형 쉘(shell)에서 잘라낼 부분을 가리키는 여러 개의 선형 링들로 구성됩니다.  \n",
    "\n",
    "&emsp;따라서, `shapely.geometry.Polygon` *생성자* 함수는 두 개의 파라미터를 필요로 합니다. 첫 번째 파라미터인 쉘(`shell`)은 좌표 튜플 리스트 또는 점 리스트 또는 `LinearRing`이며, 다각형의 외부를 형성합니다. 두 번째 파라미터인 구멍(`holes`)은 선택적(사용해도 되고, 사용하지 않아도 됨)으로 사용되며, 쉘에서 잘라낼 구멍의 리스트 입니다. 이 리스트에 들어갈 항목들은 쉘과 동일한 데이터 타입 입니다.  \n",
    "\n",
    "&emsp;먼저, 구멍이 없는 간단한 다각형을 만들어 보겠습니다. 첫 번째 예제는 **3개의 좌표로 구성된 튜플**을 사용합니다.  "
   ]
  },
  {
   "cell_type": "code",
   "execution_count": 19,
   "id": "e23a4304-7c06-4c8d-918a-ff5d3a6677ae",
   "metadata": {},
   "outputs": [
    {
     "data": {
      "image/svg+xml": [
       "<svg xmlns=\"http://www.w3.org/2000/svg\" xmlns:xlink=\"http://www.w3.org/1999/xlink\" width=\"100.0\" height=\"100.0\" viewBox=\"1.028 -26.272000000000002 9.404 31.644000000000002\" preserveAspectRatio=\"xMinYMin meet\"><g transform=\"matrix(1,0,0,-1,0,-20.900000000000002)\"><path fill-rule=\"evenodd\" fill=\"#66cc99\" stroke=\"#555555\" stroke-width=\"0.63288\" opacity=\"0.6\" d=\"M 2.2,4.2 L 7.2,-25.1 L 9.26,-2.456 L 2.2,4.2 z\" /></g></svg>"
      ],
      "text/plain": [
       "<POLYGON ((2.2 4.2, 7.2 -25.1, 9.26 -2.456, 2.2 4.2))>"
      ]
     },
     "execution_count": 19,
     "metadata": {},
     "output_type": "execute_result"
    }
   ],
   "source": [
    "from shapely.geometry import Polygon\n",
    "\n",
    "# 좌표로부터 다각형 생성\n",
    "polygon1 = Polygon([(2.2, 4.2), (7.2, -25.1), (9.26, -2.456)])\n",
    "polygon1"
   ]
  },
  {
   "cell_type": "markdown",
   "id": "744c995d-1989-4627-82fb-4e45a4a89c07",
   "metadata": {},
   "source": [
    "&emsp;점 리스트에서 직접 다각형을 생성할 수도 있습니다."
   ]
  },
  {
   "cell_type": "code",
   "execution_count": 20,
   "id": "2ce7a7dd-00b2-4656-b366-30ef3b7c4b93",
   "metadata": {},
   "outputs": [
    {
     "data": {
      "image/svg+xml": [
       "<svg xmlns=\"http://www.w3.org/2000/svg\" xmlns:xlink=\"http://www.w3.org/1999/xlink\" width=\"100.0\" height=\"100.0\" viewBox=\"1.028 -26.272000000000002 9.404 31.644000000000002\" preserveAspectRatio=\"xMinYMin meet\"><g transform=\"matrix(1,0,0,-1,0,-20.900000000000002)\"><path fill-rule=\"evenodd\" fill=\"#66cc99\" stroke=\"#555555\" stroke-width=\"0.63288\" opacity=\"0.6\" d=\"M 2.2,4.2 L 7.2,-25.1 L 9.26,-2.456 L 2.2,4.2 z\" /></g></svg>"
      ],
      "text/plain": [
       "<POLYGON ((2.2 4.2, 7.2 -25.1, 9.26 -2.456, 2.2 4.2))>"
      ]
     },
     "execution_count": 20,
     "metadata": {},
     "output_type": "execute_result"
    }
   ],
   "source": [
    "polygon2 = Polygon([point1, point2, point3])\n",
    "polygon2"
   ]
  },
  {
   "cell_type": "markdown",
   "id": "5c38690b-4a0d-4e04-872b-976898ca1b5d",
   "metadata": {},
   "source": [
    "&emsp;또는 [`LinearRing`](https://shapely.readthedocs.io/en/stable/manual.html#linearrings)으로 다각형을 생성할 수도 있습니다. `shapely.geometry.LinearRing`을 구성할 때, 마지막에 첫 번째 점을 다시 나열하는 것을 생략할 수 있습니다. 이런 경우, Shapely는 점 리스트의 끝에 첫 번째 포인트를 자동으로 다시 추가합니다.  "
   ]
  },
  {
   "cell_type": "code",
   "execution_count": 21,
   "id": "d64ba0d1-68a0-4d78-99da-6612723925bc",
   "metadata": {},
   "outputs": [
    {
     "data": {
      "image/svg+xml": [
       "<svg xmlns=\"http://www.w3.org/2000/svg\" xmlns:xlink=\"http://www.w3.org/1999/xlink\" width=\"100.0\" height=\"100.0\" viewBox=\"1.028 -26.272000000000002 9.404 31.644000000000002\" preserveAspectRatio=\"xMinYMin meet\"><g transform=\"matrix(1,0,0,-1,0,-20.900000000000002)\"><path fill-rule=\"evenodd\" fill=\"#66cc99\" stroke=\"#555555\" stroke-width=\"0.63288\" opacity=\"0.6\" d=\"M 2.2,4.2 L 7.2,-25.1 L 9.26,-2.456 L 2.2,4.2 z\" /></g></svg>"
      ],
      "text/plain": [
       "<POLYGON ((2.2 4.2, 7.2 -25.1, 9.26 -2.456, 2.2 4.2))>"
      ]
     },
     "execution_count": 21,
     "metadata": {},
     "output_type": "execute_result"
    }
   ],
   "source": [
    "from shapely.geometry import LinearRing\n",
    "\n",
    "shell = LinearRing([point1, point2, point3, point1])\n",
    "polygon3 = Polygon(shell)\n",
    "polygon3"
   ]
  },
  {
   "cell_type": "markdown",
   "id": "a3ff4c6b-1171-47c8-8c27-bf1054617f0c",
   "metadata": {},
   "source": [
    "&emsp;세 개의 다각형 `polygon1`, `polygon2`, `polygon3`를 생성하기 위해 동일한 값과 서로 다른 방법들을 사용했습니다. 이 다각형들이 동일한 도형을 표현하는지 확인해 보겠습니다.  "
   ]
  },
  {
   "cell_type": "code",
   "execution_count": 22,
   "id": "a4e8f4f8-83c3-45c1-bbfd-775ebf3660cc",
   "metadata": {},
   "outputs": [
    {
     "data": {
      "text/plain": [
       "True"
      ]
     },
     "execution_count": 22,
     "metadata": {},
     "output_type": "execute_result"
    }
   ],
   "source": [
    "polygon1 == polygon2 == polygon3"
   ]
  },
  {
   "cell_type": "markdown",
   "id": "95205c64-921d-4574-89a8-be1975bb2248",
   "metadata": {},
   "source": [
    "&emsp;점, 선과 마찬가지로 `shapely.geometry.Polygon`의 텍스트 표현은 WKT (Well-Known Text) 포맷입니다. WKT `POLYGON`은 하나 이상의 WKT `LINEARRING`으로 구성됩니다. 첫 번째 선형 링은 외부(`shell`)를 나타내며, 그 이후에 등장하는 선형 링들은 쉘에서 잘라낼 구멍들(`holes`)을 나타냅니다. 아래 코드에서는 구멍이 없는 다각형이므로, 하나의 선형 링으로만 구성되어 있습니다.  "
   ]
  },
  {
   "cell_type": "code",
   "execution_count": 23,
   "id": "32b0ae9b-75df-4079-ac8b-74149810df92",
   "metadata": {},
   "outputs": [
    {
     "name": "stdout",
     "output_type": "stream",
     "text": [
      "POLYGON ((2.2 4.2, 7.2 -25.1, 9.26 -2.456, 2.2 4.2))\n"
     ]
    }
   ],
   "source": [
    "print(polygon1)"
   ]
  },
  {
   "cell_type": "markdown",
   "id": "7118b16d-8d29-4583-871a-26342eae7e21",
   "metadata": {},
   "source": [
    "&emsp;데이터 타입을 확인해 보겠습니다.  "
   ]
  },
  {
   "cell_type": "code",
   "execution_count": 24,
   "id": "90daca97-ec65-41b4-a86d-431a561a5ec8",
   "metadata": {},
   "outputs": [
    {
     "data": {
      "text/plain": [
       "shapely.geometry.polygon.Polygon"
      ]
     },
     "execution_count": 24,
     "metadata": {},
     "output_type": "execute_result"
    }
   ],
   "source": [
    "# 데이터 타입\n",
    "type(polygon1)"
   ]
  },
  {
   "cell_type": "code",
   "execution_count": 25,
   "id": "020586db-abdc-4d34-8780-60c4904d4088",
   "metadata": {
    "editable": true,
    "slideshow": {
     "slide_type": ""
    },
    "tags": []
   },
   "outputs": [
    {
     "data": {
      "text/plain": [
       "'Polygon'"
      ]
     },
     "execution_count": 25,
     "metadata": {},
     "output_type": "execute_result"
    }
   ],
   "source": [
    "# 도형 타입\n",
    "polygon1.geom_type"
   ]
  },
  {
   "cell_type": "markdown",
   "id": "3861a34e-197e-4536-956a-ae0d5fc4ee2b",
   "metadata": {},
   "source": [
    "```{tip}\n",
    "&emsp;내장 `help()` 함수를 사용하여 함수 또는 클래스가 작동하는 방식, 필요한 파라미터, 사용할 수 있는 속성 및 메소드를 확인할 수 있습니다.  \n",
    "```"
   ]
  },
  {
   "cell_type": "code",
   "execution_count": 32,
   "id": "dacc6ab6-1566-4cb3-9524-7f3da48fc58d",
   "metadata": {
    "editable": true,
    "scrolled": true,
    "slideshow": {
     "slide_type": ""
    },
    "tags": [
     "hide-output"
    ]
   },
   "outputs": [
    {
     "name": "stdout",
     "output_type": "stream",
     "text": [
      "Help on class Polygon in module shapely.geometry.polygon:\n",
      "\n",
      "class Polygon(shapely.geometry.base.BaseGeometry)\n",
      " |  Polygon(shell=None, holes=None)\n",
      " |  \n",
      " |  A geometry type representing an area that is enclosed by a linear ring.\n",
      " |  \n",
      " |  A polygon is a two-dimensional feature and has a non-zero area. It may\n",
      " |  have one or more negative-space \"holes\" which are also bounded by linear\n",
      " |  rings. If any rings cross each other, the feature is invalid and\n",
      " |  operations on it may fail.\n",
      " |  \n",
      " |  Parameters\n",
      " |  ----------\n",
      " |  shell : sequence\n",
      " |      A sequence of (x, y [,z]) numeric coordinate pairs or triples, or\n",
      " |      an array-like with shape (N, 2) or (N, 3).\n",
      " |      Also can be a sequence of Point objects.\n",
      " |  holes : sequence\n",
      " |      A sequence of objects which satisfy the same requirements as the\n",
      " |      shell parameters above\n",
      " |  \n",
      " |  Attributes\n",
      " |  ----------\n",
      " |  exterior : LinearRing\n",
      " |      The ring which bounds the positive space of the polygon.\n",
      " |  interiors : sequence\n",
      " |      A sequence of rings which bound all existing holes.\n",
      " |  \n",
      " |  Examples\n",
      " |  --------\n",
      " |  Create a square polygon with no holes\n",
      " |  \n",
      " |  >>> coords = ((0., 0.), (0., 1.), (1., 1.), (1., 0.), (0., 0.))\n",
      " |  >>> polygon = Polygon(coords)\n",
      " |  >>> polygon.area\n",
      " |  1.0\n",
      " |  \n",
      " |  Method resolution order:\n",
      " |      Polygon\n",
      " |      shapely.geometry.base.BaseGeometry\n",
      " |      shapely.lib.Geometry\n",
      " |      builtins.object\n",
      " |  \n",
      " |  Methods defined here:\n",
      " |  \n",
      " |  svg(self, scale_factor=1.0, fill_color=None, opacity=None)\n",
      " |      Returns SVG path element for the Polygon geometry.\n",
      " |      \n",
      " |      Parameters\n",
      " |      ==========\n",
      " |      scale_factor : float\n",
      " |          Multiplication factor for the SVG stroke-width.  Default is 1.\n",
      " |      fill_color : str, optional\n",
      " |          Hex string for fill color. Default is to use \"#66cc99\" if\n",
      " |          geometry is valid, and \"#ff3333\" if invalid.\n",
      " |      opacity : float\n",
      " |          Float number between 0 and 1 for color opacity. Default value is 0.6\n",
      " |  \n",
      " |  ----------------------------------------------------------------------\n",
      " |  Class methods defined here:\n",
      " |  \n",
      " |  from_bounds(xmin, ymin, xmax, ymax) from builtins.type\n",
      " |      Construct a `Polygon()` from spatial bounds.\n",
      " |  \n",
      " |  ----------------------------------------------------------------------\n",
      " |  Static methods defined here:\n",
      " |  \n",
      " |  __new__(self, shell=None, holes=None)\n",
      " |      Create and return a new object.  See help(type) for accurate signature.\n",
      " |  \n",
      " |  ----------------------------------------------------------------------\n",
      " |  Readonly properties defined here:\n",
      " |  \n",
      " |  __geo_interface__\n",
      " |      Dictionary representation of the geometry\n",
      " |  \n",
      " |  coords\n",
      " |      Access to geometry's coordinates (CoordinateSequence)\n",
      " |  \n",
      " |  exterior\n",
      " |  \n",
      " |  interiors\n",
      " |  \n",
      " |  ----------------------------------------------------------------------\n",
      " |  Methods inherited from shapely.geometry.base.BaseGeometry:\n",
      " |  \n",
      " |  __and__(self, other)\n",
      " |  \n",
      " |  __bool__(self)\n",
      " |  \n",
      " |  __format__(self, format_spec)\n",
      " |      Format a geometry using a format specification.\n",
      " |  \n",
      " |  __nonzero__(self)\n",
      " |  \n",
      " |  __or__(self, other)\n",
      " |  \n",
      " |  __reduce__(self)\n",
      " |      Helper for pickle.\n",
      " |  \n",
      " |  __repr__(self)\n",
      " |      Return repr(self).\n",
      " |  \n",
      " |  __str__(self)\n",
      " |      Return str(self).\n",
      " |  \n",
      " |  __sub__(self, other)\n",
      " |  \n",
      " |  __xor__(self, other)\n",
      " |  \n",
      " |  almost_equals(self, other, decimal=6)\n",
      " |      True if geometries are equal at all coordinates to a\n",
      " |      specified decimal place.\n",
      " |      \n",
      " |      .. deprecated:: 1.8.0\n",
      " |          The 'almost_equals()' method is deprecated\n",
      " |          and will be removed in Shapely 2.1 because the name is\n",
      " |          confusing. The 'equals_exact()' method should be used\n",
      " |          instead.\n",
      " |      \n",
      " |      Refers to approximate coordinate equality, which requires\n",
      " |      coordinates to be approximately equal and in the same order for\n",
      " |      all components of a geometry.\n",
      " |      \n",
      " |      Because of this it is possible for \"equals()\" to be True for two\n",
      " |      geometries and \"almost_equals()\" to be False.\n",
      " |      \n",
      " |      Examples\n",
      " |      --------\n",
      " |      >>> LineString(\n",
      " |      ...     [(0, 0), (2, 2)]\n",
      " |      ... ).equals_exact(\n",
      " |      ...     LineString([(0, 0), (1, 1), (2, 2)]),\n",
      " |      ...     1e-6\n",
      " |      ... )\n",
      " |      False\n",
      " |      \n",
      " |      Returns\n",
      " |      -------\n",
      " |      bool\n",
      " |  \n",
      " |  buffer(self, distance, quad_segs=16, cap_style='round', join_style='round', mitre_limit=5.0, single_sided=False, **kwargs)\n",
      " |      Get a geometry that represents all points within a distance\n",
      " |      of this geometry.\n",
      " |      \n",
      " |      A positive distance produces a dilation, a negative distance an\n",
      " |      erosion. A very small or zero distance may sometimes be used to\n",
      " |      \"tidy\" a polygon.\n",
      " |      \n",
      " |      Parameters\n",
      " |      ----------\n",
      " |      distance : float\n",
      " |          The distance to buffer around the object.\n",
      " |      resolution : int, optional\n",
      " |          The resolution of the buffer around each vertex of the\n",
      " |          object.\n",
      " |      quad_segs : int, optional\n",
      " |          Sets the number of line segments used to approximate an\n",
      " |          angle fillet.\n",
      " |      cap_style : shapely.BufferCapStyle or {'round', 'square', 'flat'}, default 'round'\n",
      " |          Specifies the shape of buffered line endings. BufferCapStyle.round ('round')\n",
      " |          results in circular line endings (see ``quad_segs``). Both BufferCapStyle.square\n",
      " |          ('square') and BufferCapStyle.flat ('flat') result in rectangular line endings,\n",
      " |          only BufferCapStyle.flat ('flat') will end at the original vertex,\n",
      " |          while BufferCapStyle.square ('square') involves adding the buffer width.\n",
      " |      join_style : shapely.BufferJoinStyle or {'round', 'mitre', 'bevel'}, default 'round'\n",
      " |          Specifies the shape of buffered line midpoints. BufferJoinStyle.ROUND ('round')\n",
      " |          results in rounded shapes. BufferJoinStyle.bevel ('bevel') results in a beveled\n",
      " |          edge that touches the original vertex. BufferJoinStyle.mitre ('mitre') results\n",
      " |          in a single vertex that is beveled depending on the ``mitre_limit`` parameter.\n",
      " |      mitre_limit : float, optional\n",
      " |          The mitre limit ratio is used for very sharp corners. The\n",
      " |          mitre ratio is the ratio of the distance from the corner to\n",
      " |          the end of the mitred offset corner. When two line segments\n",
      " |          meet at a sharp angle, a miter join will extend the original\n",
      " |          geometry. To prevent unreasonable geometry, the mitre limit\n",
      " |          allows controlling the maximum length of the join corner.\n",
      " |          Corners with a ratio which exceed the limit will be beveled.\n",
      " |      single_side : bool, optional\n",
      " |          The side used is determined by the sign of the buffer\n",
      " |          distance:\n",
      " |      \n",
      " |              a positive distance indicates the left-hand side\n",
      " |              a negative distance indicates the right-hand side\n",
      " |      \n",
      " |          The single-sided buffer of point geometries is the same as\n",
      " |          the regular buffer.  The End Cap Style for single-sided\n",
      " |          buffers is always ignored, and forced to the equivalent of\n",
      " |          CAP_FLAT.\n",
      " |      quadsegs : int, optional\n",
      " |          Deprecated alias for `quad_segs`.\n",
      " |      \n",
      " |      Returns\n",
      " |      -------\n",
      " |      Geometry\n",
      " |      \n",
      " |      Notes\n",
      " |      -----\n",
      " |      The return value is a strictly two-dimensional geometry. All\n",
      " |      Z coordinates of the original geometry will be ignored.\n",
      " |      \n",
      " |      Examples\n",
      " |      --------\n",
      " |      >>> from shapely.wkt import loads\n",
      " |      >>> g = loads('POINT (0.0 0.0)')\n",
      " |      \n",
      " |      16-gon approx of a unit radius circle:\n",
      " |      \n",
      " |      >>> g.buffer(1.0).area  # doctest: +ELLIPSIS\n",
      " |      3.1365484905459...\n",
      " |      \n",
      " |      128-gon approximation:\n",
      " |      \n",
      " |      >>> g.buffer(1.0, 128).area  # doctest: +ELLIPSIS\n",
      " |      3.141513801144...\n",
      " |      \n",
      " |      triangle approximation:\n",
      " |      \n",
      " |      >>> g.buffer(1.0, 3).area\n",
      " |      3.0\n",
      " |      >>> list(g.buffer(1.0, cap_style=BufferCapStyle.square).exterior.coords)\n",
      " |      [(1.0, 1.0), (1.0, -1.0), (-1.0, -1.0), (-1.0, 1.0), (1.0, 1.0)]\n",
      " |      >>> g.buffer(1.0, cap_style=BufferCapStyle.square).area\n",
      " |      4.0\n",
      " |  \n",
      " |  contains(self, other)\n",
      " |      Returns True if the geometry contains the other, else False\n",
      " |  \n",
      " |  contains_properly(self, other)\n",
      " |      Returns True if the geometry completely contains the other, with no\n",
      " |      common boundary points, else False\n",
      " |      \n",
      " |      Refer to `shapely.contains_properly` for full documentation.\n",
      " |  \n",
      " |  covered_by(self, other)\n",
      " |      Returns True if the geometry is covered by the other, else False\n",
      " |  \n",
      " |  covers(self, other)\n",
      " |      Returns True if the geometry covers the other, else False\n",
      " |  \n",
      " |  crosses(self, other)\n",
      " |      Returns True if the geometries cross, else False\n",
      " |  \n",
      " |  difference(self, other, grid_size=None)\n",
      " |      Returns the difference of the geometries.\n",
      " |      \n",
      " |      Refer to `shapely.difference` for full documentation.\n",
      " |  \n",
      " |  disjoint(self, other)\n",
      " |      Returns True if geometries are disjoint, else False\n",
      " |  \n",
      " |  distance(self, other)\n",
      " |      Unitless distance to other geometry (float)\n",
      " |  \n",
      " |  dwithin(self, other, distance)\n",
      " |      Returns True if geometry is within a given distance from the other, else False.\n",
      " |      \n",
      " |      Refer to `shapely.dwithin` for full documentation.\n",
      " |  \n",
      " |  equals(self, other)\n",
      " |      Returns True if geometries are equal, else False.\n",
      " |      \n",
      " |      This method considers point-set equality (or topological\n",
      " |      equality), and is equivalent to (self.within(other) &\n",
      " |      self.contains(other)).\n",
      " |      \n",
      " |      Examples\n",
      " |      --------\n",
      " |      >>> LineString(\n",
      " |      ...     [(0, 0), (2, 2)]\n",
      " |      ... ).equals(\n",
      " |      ...     LineString([(0, 0), (1, 1), (2, 2)])\n",
      " |      ... )\n",
      " |      True\n",
      " |      \n",
      " |      Returns\n",
      " |      -------\n",
      " |      bool\n",
      " |  \n",
      " |  equals_exact(self, other, tolerance)\n",
      " |      True if geometries are equal to within a specified\n",
      " |      tolerance.\n",
      " |      \n",
      " |      Parameters\n",
      " |      ----------\n",
      " |      other : BaseGeometry\n",
      " |          The other geometry object in this comparison.\n",
      " |      tolerance : float\n",
      " |          Absolute tolerance in the same units as coordinates.\n",
      " |      \n",
      " |      This method considers coordinate equality, which requires\n",
      " |      coordinates to be equal and in the same order for all components\n",
      " |      of a geometry.\n",
      " |      \n",
      " |      Because of this it is possible for \"equals()\" to be True for two\n",
      " |      geometries and \"equals_exact()\" to be False.\n",
      " |      \n",
      " |      Examples\n",
      " |      --------\n",
      " |      >>> LineString(\n",
      " |      ...     [(0, 0), (2, 2)]\n",
      " |      ... ).equals_exact(\n",
      " |      ...     LineString([(0, 0), (1, 1), (2, 2)]),\n",
      " |      ...     1e-6\n",
      " |      ... )\n",
      " |      False\n",
      " |      \n",
      " |      Returns\n",
      " |      -------\n",
      " |      bool\n",
      " |  \n",
      " |  geometryType(self)\n",
      " |  \n",
      " |  hausdorff_distance(self, other)\n",
      " |      Unitless hausdorff distance to other geometry (float)\n",
      " |  \n",
      " |  interpolate(self, distance, normalized=False)\n",
      " |      Return a point at the specified distance along a linear geometry\n",
      " |      \n",
      " |      Negative length values are taken as measured in the reverse\n",
      " |      direction from the end of the geometry. Out-of-range index\n",
      " |      values are handled by clamping them to the valid range of values.\n",
      " |      If the normalized arg is True, the distance will be interpreted as a\n",
      " |      fraction of the geometry's length.\n",
      " |      \n",
      " |      Alias of `line_interpolate_point`.\n",
      " |  \n",
      " |  intersection(self, other, grid_size=None)\n",
      " |      Returns the intersection of the geometries.\n",
      " |      \n",
      " |      Refer to `shapely.intersection` for full documentation.\n",
      " |  \n",
      " |  intersects(self, other)\n",
      " |      Returns True if geometries intersect, else False\n",
      " |  \n",
      " |  line_interpolate_point(self, distance, normalized=False)\n",
      " |      Return a point at the specified distance along a linear geometry\n",
      " |      \n",
      " |      Negative length values are taken as measured in the reverse\n",
      " |      direction from the end of the geometry. Out-of-range index\n",
      " |      values are handled by clamping them to the valid range of values.\n",
      " |      If the normalized arg is True, the distance will be interpreted as a\n",
      " |      fraction of the geometry's length.\n",
      " |      \n",
      " |      Alias of `interpolate`.\n",
      " |  \n",
      " |  line_locate_point(self, other, normalized=False)\n",
      " |      Returns the distance along this geometry to a point nearest the\n",
      " |      specified point\n",
      " |      \n",
      " |      If the normalized arg is True, return the distance normalized to the\n",
      " |      length of the linear geometry.\n",
      " |      \n",
      " |      Alias of `project`.\n",
      " |  \n",
      " |  normalize(self)\n",
      " |      Converts geometry to normal form (or canonical form).\n",
      " |      \n",
      " |      This method orders the coordinates, rings of a polygon and parts of\n",
      " |      multi geometries consistently. Typically useful for testing purposes\n",
      " |      (for example in combination with `equals_exact`).\n",
      " |      \n",
      " |      Examples\n",
      " |      --------\n",
      " |      >>> from shapely import MultiLineString\n",
      " |      >>> line = MultiLineString([[(0, 0), (1, 1)], [(3, 3), (2, 2)]])\n",
      " |      >>> line.normalize()\n",
      " |      <MULTILINESTRING ((2 2, 3 3), (0 0, 1 1))>\n",
      " |  \n",
      " |  overlaps(self, other)\n",
      " |      Returns True if geometries overlap, else False\n",
      " |  \n",
      " |  point_on_surface(self)\n",
      " |      Returns a point guaranteed to be within the object, cheaply.\n",
      " |      \n",
      " |      Alias of `representative_point`.\n",
      " |  \n",
      " |  project(self, other, normalized=False)\n",
      " |      Returns the distance along this geometry to a point nearest the\n",
      " |      specified point\n",
      " |      \n",
      " |      If the normalized arg is True, return the distance normalized to the\n",
      " |      length of the linear geometry.\n",
      " |      \n",
      " |      Alias of `line_locate_point`.\n",
      " |  \n",
      " |  relate(self, other)\n",
      " |      Returns the DE-9IM intersection matrix for the two geometries\n",
      " |      (string)\n",
      " |  \n",
      " |  relate_pattern(self, other, pattern)\n",
      " |      Returns True if the DE-9IM string code for the relationship between\n",
      " |      the geometries satisfies the pattern, else False\n",
      " |  \n",
      " |  representative_point(self)\n",
      " |      Returns a point guaranteed to be within the object, cheaply.\n",
      " |      \n",
      " |      Alias of `point_on_surface`.\n",
      " |  \n",
      " |  reverse(self)\n",
      " |      Returns a copy of this geometry with the order of coordinates reversed.\n",
      " |      \n",
      " |      If the geometry is a polygon with interior rings, the interior rings are also\n",
      " |      reversed.\n",
      " |      \n",
      " |      Points are unchanged.\n",
      " |      \n",
      " |      See also\n",
      " |      --------\n",
      " |      is_ccw : Checks if a geometry is clockwise.\n",
      " |      \n",
      " |      Examples\n",
      " |      --------\n",
      " |      >>> from shapely import LineString, Polygon\n",
      " |      >>> LineString([(0, 0), (1, 2)]).reverse()\n",
      " |      <LINESTRING (1 2, 0 0)>\n",
      " |      >>> Polygon([(0, 0), (1, 0), (1, 1), (0, 1), (0, 0)]).reverse()\n",
      " |      <POLYGON ((0 0, 0 1, 1 1, 1 0, 0 0))>\n",
      " |  \n",
      " |  segmentize(self, max_segment_length)\n",
      " |      Adds vertices to line segments based on maximum segment length.\n",
      " |      \n",
      " |      Additional vertices will be added to every line segment in an input geometry\n",
      " |      so that segments are no longer than the provided maximum segment length. New\n",
      " |      vertices will evenly subdivide each segment.\n",
      " |      \n",
      " |      Only linear components of input geometries are densified; other geometries\n",
      " |      are returned unmodified.\n",
      " |      \n",
      " |      Parameters\n",
      " |      ----------\n",
      " |      max_segment_length : float or array_like\n",
      " |          Additional vertices will be added so that all line segments are no\n",
      " |          longer this value.  Must be greater than 0.\n",
      " |      \n",
      " |      Examples\n",
      " |      --------\n",
      " |      >>> from shapely import LineString, Polygon\n",
      " |      >>> LineString([(0, 0), (0, 10)]).segmentize(max_segment_length=5)\n",
      " |      <LINESTRING (0 0, 0 5, 0 10)>\n",
      " |      >>> Polygon([(0, 0), (10, 0), (10, 10), (0, 10), (0, 0)]).segmentize(max_segment_length=5)\n",
      " |      <POLYGON ((0 0, 5 0, 10 0, 10 5, 10 10, 5 10, 0 10, 0 5, 0 0))>\n",
      " |  \n",
      " |  simplify(self, tolerance, preserve_topology=True)\n",
      " |      Returns a simplified geometry produced by the Douglas-Peucker\n",
      " |      algorithm\n",
      " |      \n",
      " |      Coordinates of the simplified geometry will be no more than the\n",
      " |      tolerance distance from the original. Unless the topology preserving\n",
      " |      option is used, the algorithm may produce self-intersecting or\n",
      " |      otherwise invalid geometries.\n",
      " |  \n",
      " |  symmetric_difference(self, other, grid_size=None)\n",
      " |      Returns the symmetric difference of the geometries.\n",
      " |      \n",
      " |      Refer to `shapely.symmetric_difference` for full documentation.\n",
      " |  \n",
      " |  touches(self, other)\n",
      " |      Returns True if geometries touch, else False\n",
      " |  \n",
      " |  union(self, other, grid_size=None)\n",
      " |      Returns the union of the geometries.\n",
      " |      \n",
      " |      Refer to `shapely.union` for full documentation.\n",
      " |  \n",
      " |  within(self, other)\n",
      " |      Returns True if geometry is within the other, else False\n",
      " |  \n",
      " |  ----------------------------------------------------------------------\n",
      " |  Readonly properties inherited from shapely.geometry.base.BaseGeometry:\n",
      " |  \n",
      " |  area\n",
      " |      Unitless area of the geometry (float)\n",
      " |  \n",
      " |  boundary\n",
      " |      Returns a lower dimension geometry that bounds the object\n",
      " |      \n",
      " |      The boundary of a polygon is a line, the boundary of a line is a\n",
      " |      collection of points. The boundary of a point is an empty (null)\n",
      " |      collection.\n",
      " |  \n",
      " |  bounds\n",
      " |      Returns minimum bounding region (minx, miny, maxx, maxy)\n",
      " |  \n",
      " |  centroid\n",
      " |      Returns the geometric center of the object\n",
      " |  \n",
      " |  convex_hull\n",
      " |      Imagine an elastic band stretched around the geometry: that's a\n",
      " |      convex hull, more or less\n",
      " |      \n",
      " |      The convex hull of a three member multipoint, for example, is a\n",
      " |      triangular polygon.\n",
      " |  \n",
      " |  envelope\n",
      " |      A figure that envelopes the geometry\n",
      " |  \n",
      " |  geom_type\n",
      " |      Name of the geometry's type, such as 'Point'\n",
      " |  \n",
      " |  has_z\n",
      " |      True if the geometry's coordinate sequence(s) have z values (are\n",
      " |      3-dimensional)\n",
      " |  \n",
      " |  is_closed\n",
      " |      True if the geometry is closed, else False\n",
      " |      \n",
      " |      Applicable only to 1-D geometries.\n",
      " |  \n",
      " |  is_empty\n",
      " |      True if the set of points in this geometry is empty, else False\n",
      " |  \n",
      " |  is_ring\n",
      " |      True if the geometry is a closed ring, else False\n",
      " |  \n",
      " |  is_simple\n",
      " |      True if the geometry is simple, meaning that any self-intersections\n",
      " |      are only at boundary points, else False\n",
      " |  \n",
      " |  is_valid\n",
      " |      True if the geometry is valid (definition depends on sub-class),\n",
      " |      else False\n",
      " |  \n",
      " |  length\n",
      " |      Unitless length of the geometry (float)\n",
      " |  \n",
      " |  minimum_clearance\n",
      " |      Unitless distance by which a node could be moved to produce an invalid geometry (float)\n",
      " |  \n",
      " |  minimum_rotated_rectangle\n",
      " |      Returns the oriented envelope (minimum rotated rectangle) that\n",
      " |      encloses the geometry.\n",
      " |      \n",
      " |      Unlike `envelope` this rectangle is not constrained to be parallel to the\n",
      " |      coordinate axes. If the convex hull of the object is a degenerate (line\n",
      " |      or point) this degenerate is returned.\n",
      " |      \n",
      " |      Alias of `oriented_envelope`.\n",
      " |  \n",
      " |  oriented_envelope\n",
      " |      Returns the oriented envelope (minimum rotated rectangle) that\n",
      " |      encloses the geometry.\n",
      " |      \n",
      " |      Unlike envelope this rectangle is not constrained to be parallel to the\n",
      " |      coordinate axes. If the convex hull of the object is a degenerate (line\n",
      " |      or point) this degenerate is returned.\n",
      " |      \n",
      " |      Alias of `minimum_rotated_rectangle`.\n",
      " |  \n",
      " |  type\n",
      " |  \n",
      " |  wkb\n",
      " |      WKB representation of the geometry\n",
      " |  \n",
      " |  wkb_hex\n",
      " |      WKB hex representation of the geometry\n",
      " |  \n",
      " |  wkt\n",
      " |      WKT representation of the geometry\n",
      " |  \n",
      " |  xy\n",
      " |      Separate arrays of X and Y coordinate values\n",
      " |  \n",
      " |  ----------------------------------------------------------------------\n",
      " |  Methods inherited from shapely.lib.Geometry:\n",
      " |  \n",
      " |  __eq__(self, value, /)\n",
      " |      Return self==value.\n",
      " |  \n",
      " |  __ge__(self, value, /)\n",
      " |      Return self>=value.\n",
      " |  \n",
      " |  __gt__(self, value, /)\n",
      " |      Return self>value.\n",
      " |  \n",
      " |  __hash__(self, /)\n",
      " |      Return hash(self).\n",
      " |  \n",
      " |  __le__(self, value, /)\n",
      " |      Return self<=value.\n",
      " |  \n",
      " |  __lt__(self, value, /)\n",
      " |      Return self<value.\n",
      " |  \n",
      " |  __ne__(self, value, /)\n",
      " |      Return self!=value.\n",
      " |  \n",
      " |  __setstate__(...)\n",
      " |      For unpickling pre-shapely 2.0 pickles\n",
      "\n"
     ]
    }
   ],
   "source": [
    "help(Polygon)"
   ]
  },
  {
   "cell_type": "markdown",
   "id": "32da9054-2024-41e8-9665-c58e5e8d960e",
   "metadata": {},
   "source": [
    "&emsp;이번에는 구멍이 있는 다각형을 만들어 보겠습니다. 외부 쉘과 구멍이 각각 어떻게 생겼는지 살펴보겠습니다.  "
   ]
  },
  {
   "cell_type": "code",
   "execution_count": 27,
   "id": "ee1c7287-4f6b-4ca8-9d6f-884b8ab77ad9",
   "metadata": {
    "editable": true,
    "slideshow": {
     "slide_type": ""
    },
    "tags": []
   },
   "outputs": [
    {
     "data": {
      "image/svg+xml": [
       "<svg xmlns=\"http://www.w3.org/2000/svg\" xmlns:xlink=\"http://www.w3.org/1999/xlink\" width=\"300\" height=\"208.8\" viewBox=\"-194.4 -104.4 388.8 208.8\" preserveAspectRatio=\"xMinYMin meet\"><g transform=\"matrix(1,0,0,-1,0,0.0)\"><polyline fill=\"none\" stroke=\"#66cc99\" stroke-width=\"2.592\" points=\"-180.0,90.0 -180.0,-90.0 180.0,-90.0 180.0,90.0 -180.0,90.0\" opacity=\"0.8\" /></g></svg>"
      ],
      "text/plain": [
       "<LINEARRING (-180 90, -180 -90, 180 -90, 180 90, -180 90)>"
      ]
     },
     "execution_count": 27,
     "metadata": {},
     "output_type": "execute_result"
    }
   ],
   "source": [
    "# 외부(Shell) 정의\n",
    "outer = LinearRing([(-180, 90), (-180, -90), (180, -90), (180, 90)])\n",
    "outer"
   ]
  },
  {
   "cell_type": "code",
   "execution_count": 28,
   "id": "e35d79b9-97a1-4e7d-8309-aa5f7b300101",
   "metadata": {},
   "outputs": [
    {
     "data": {
      "image/svg+xml": [
       "<svg xmlns=\"http://www.w3.org/2000/svg\" xmlns:xlink=\"http://www.w3.org/1999/xlink\" width=\"300\" height=\"187.2\" viewBox=\"-183.6 -93.6 367.2 187.2\" preserveAspectRatio=\"xMinYMin meet\"><g transform=\"matrix(1,0,0,-1,0,0.0)\"><polyline fill=\"none\" stroke=\"#66cc99\" stroke-width=\"2.448\" points=\"-170.0,80.0 -100.0,-80.0 100.0,-80.0 170.0,80.0 -170.0,80.0\" opacity=\"0.8\" /></g></svg>"
      ],
      "text/plain": [
       "<LINEARRING (-170 80, -100 -80, 100 -80, 170 80, -170 80)>"
      ]
     },
     "execution_count": 28,
     "metadata": {},
     "output_type": "execute_result"
    }
   ],
   "source": [
    "# 구멍(Holes) 정의\n",
    "hole = LinearRing([(-170, 80), (-100, -80), (100, -80), (170, 80)])\n",
    "hole"
   ]
  },
  {
   "cell_type": "markdown",
   "id": "05e00560-352a-44b7-bdf4-b7148e25d08f",
   "metadata": {},
   "source": [
    "&emsp;외부 쉘과 하나의 구멍(`holes`는 리스트로 정의)으로 구성된 다각형을 생성합니다.  "
   ]
  },
  {
   "cell_type": "code",
   "execution_count": 29,
   "id": "cd804a85-d3ba-4abd-9ddd-2a9b664ebb1a",
   "metadata": {},
   "outputs": [
    {
     "data": {
      "image/svg+xml": [
       "<svg xmlns=\"http://www.w3.org/2000/svg\" xmlns:xlink=\"http://www.w3.org/1999/xlink\" width=\"300\" height=\"208.8\" viewBox=\"-194.4 -104.4 388.8 208.8\" preserveAspectRatio=\"xMinYMin meet\"><g transform=\"matrix(1,0,0,-1,0,0.0)\"><path fill-rule=\"evenodd\" fill=\"#66cc99\" stroke=\"#555555\" stroke-width=\"2.592\" opacity=\"0.6\" d=\"M -180.0,90.0 L -180.0,-90.0 L 180.0,-90.0 L 180.0,90.0 L -180.0,90.0 z M -170.0,80.0 L -100.0,-80.0 L 100.0,-80.0 L 170.0,80.0 L -170.0,80.0 z\" /></g></svg>"
      ],
      "text/plain": [
       "<POLYGON ((-180 90, -180 -90, 180 -90, 180 90, -180 90), (-170 80, -100 -80,...>"
      ]
     },
     "execution_count": 29,
     "metadata": {},
     "output_type": "execute_result"
    }
   ],
   "source": [
    "polygon_with_hole = Polygon(outer, [hole])\n",
    "polygon_with_hole"
   ]
  },
  {
   "cell_type": "code",
   "execution_count": 30,
   "id": "fbcf689a-dc11-40fd-b1e4-e84ca2e0e44e",
   "metadata": {},
   "outputs": [
    {
     "name": "stdout",
     "output_type": "stream",
     "text": [
      "POLYGON ((-180 90, -180 -90, 180 -90, 180 90, -180 90), (-170 80, -100 -80, 100 -80, 170 80, -170 80))\n"
     ]
    }
   ],
   "source": [
    "print(polygon_with_hole)"
   ]
  },
  {
   "cell_type": "markdown",
   "id": "9b55394a-5f26-4a94-b20a-0e615bcb2ca9",
   "metadata": {},
   "source": [
    "### Polygon 속성 및 메서드"
   ]
  },
  {
   "cell_type": "markdown",
   "id": "ebdc3349-aecb-49dd-ae7b-bf71fcc83c2c",
   "metadata": {},
   "source": [
    "&emsp;`shapely.geometry.Polygon`은 앞에서 다룬 점, 선처럼 공간분석 작업에 유용한 여러 속성 및 메서드를 갖고 있습니다. 속성 및 메서드에 대한 전체 목록은 [Shapely 공식 문서](https://shapely.readthedocs.io/en/stable/manual.html)를 확인 바라며, 여기에서는 몇 가지 예를 사용해보도록 하겠습니다.  "
   ]
  },
  {
   "cell_type": "code",
   "execution_count": 31,
   "id": "e8785ec7-f68d-4dfb-a012-b426099fdcc7",
   "metadata": {},
   "outputs": [
    {
     "name": "stdout",
     "output_type": "stream",
     "text": [
      "다각형 중심점(centroid): POINT (0 -13.827160493827162)\n",
      "다각형 면적(area): 21600.0\n",
      "다각형 경계 상자(bounding box): (-180.0, -90.0, 180.0, 90.0)\n",
      "다각형 외부 링(exterior ring): LINEARRING (-180 90, -180 -90, 180 -90, 180 90, -180 90)\n",
      "다각형 둘레(circumference): 1080.0\n"
     ]
    }
   ],
   "source": [
    "print(f\"다각형 중심점(centroid): {polygon_with_hole.centroid}\")\n",
    "print(f\"다각형 면적(area): {polygon_with_hole.area}\")\n",
    "print(f\"다각형 경계 상자(bounding box): {polygon_with_hole.bounds}\")\n",
    "print(f\"다각형 외부 링(exterior ring): {polygon_with_hole.exterior}\")\n",
    "print(f\"다각형 둘레(circumference): {polygon_with_hole.exterior.length}\")"
   ]
  },
  {
   "cell_type": "markdown",
   "id": "c59cd341-5705-45f2-93d8-f73fdefcd9c1",
   "metadata": {},
   "source": [
    "---"
   ]
  },
  {
   "cell_type": "markdown",
   "id": "b0f65bb8-a78c-4fee-ab1e-94a9fb1faf8c",
   "metadata": {},
   "source": [
    "```{raw} html\n",
    "<script src=\"https://utteranc.es/client.js\"\n",
    "        repo=\"Kwan-Gu/geospatial_analysis\"\n",
    "        issue-term=\"pathname\"\n",
    "        theme=\"preferred-color-scheme\"\n",
    "        crossorigin=\"anonymous\"\n",
    "        async>\n",
    "</script>\n",
    "```"
   ]
  }
 ],
 "metadata": {
  "kernelspec": {
   "display_name": "Python 3 (ipykernel)",
   "language": "python",
   "name": "python3"
  },
  "language_info": {
   "codemirror_mode": {
    "name": "ipython",
    "version": 3
   },
   "file_extension": ".py",
   "mimetype": "text/x-python",
   "name": "python",
   "nbconvert_exporter": "python",
   "pygments_lexer": "ipython3",
   "version": "3.9.13"
  }
 },
 "nbformat": 4,
 "nbformat_minor": 5
}
