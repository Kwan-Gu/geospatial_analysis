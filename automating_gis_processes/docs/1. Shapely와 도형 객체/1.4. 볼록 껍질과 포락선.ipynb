{
 "cells": [
  {
   "cell_type": "markdown",
   "id": "1f65bcff-e65c-416b-bf66-6b2da33e314b",
   "metadata": {},
   "source": [
    "# 볼록 껍질과 포락선"
   ]
  },
  {
   "cell_type": "markdown",
   "id": "34e5294a-9cbe-4238-954a-8c5f0b975944",
   "metadata": {},
   "source": [
    "---"
   ]
  },
  {
   "cell_type": "markdown",
   "id": "13bbf7a7-c4e7-486c-a4ed-9cab00666966",
   "metadata": {},
   "source": [
    "&emsp;볼록 껍질(Convex hull)은 도형 또는 도형 집합을 전부 감싸는 가장 작은 [볼록](https://en.wikipedia.org/wiki/Convex_set) 다각형을 가리킵니다. 볼록 껍질은 경계 상자처럼 데이터셋의 범위를 표현하는 데에 유용하게 사용됩니다.  \n",
    "\n",
    "&emsp;포락선(envelope)은 Shapely에서 도형 또는 도형 집합을 전부 감싸는 가장 작은 직사각형을 가리킵니다. 참고로, 수학에서 말하는 포락선의 개념과 차이가 있습니다. 볼록 껍질과 모든 도형을 전부 감쌀 수 있는 다각형이라는 공통점은 있지만, 포락선의 경우 직사각형 형태를 가집니다."
   ]
  },
  {
   "cell_type": "code",
   "execution_count": 1,
   "id": "87d1b6c3-c886-44f1-9fca-1cefaa53bbeb",
   "metadata": {},
   "outputs": [
    {
     "data": {
      "image/svg+xml": [
       "<svg xmlns=\"http://www.w3.org/2000/svg\" xmlns:xlink=\"http://www.w3.org/1999/xlink\" width=\"100.0\" height=\"100.0\" viewBox=\"1.028 -26.272000000000002 9.404 31.644000000000002\" preserveAspectRatio=\"xMinYMin meet\"><g transform=\"matrix(1,0,0,-1,0,-20.900000000000002)\"><g><circle cx=\"2.2\" cy=\"4.2\" r=\"0.9493199999999999\" stroke=\"#555555\" stroke-width=\"0.31644\" fill=\"#66cc99\" opacity=\"0.6\" /><circle cx=\"7.2\" cy=\"-25.1\" r=\"0.9493199999999999\" stroke=\"#555555\" stroke-width=\"0.31644\" fill=\"#66cc99\" opacity=\"0.6\" /><circle cx=\"9.26\" cy=\"-2.456\" r=\"0.9493199999999999\" stroke=\"#555555\" stroke-width=\"0.31644\" fill=\"#66cc99\" opacity=\"0.6\" /></g></g></svg>"
      ],
      "text/plain": [
       "<MULTIPOINT (2.2 4.2, 7.2 -25.1, 9.26 -2.456)>"
      ]
     },
     "execution_count": 1,
     "metadata": {},
     "output_type": "execute_result"
    }
   ],
   "source": [
    "from shapely.geometry import Point, MultiPoint\n",
    "\n",
    "# 점 객체 생성\n",
    "point1 = Point(2.2, 4.2)\n",
    "point2 = Point(7.2, -25.1)\n",
    "point3 = Point(9.26, -2.456)\n",
    "\n",
    "# 다중 점 객체 생성\n",
    "multipoint = MultiPoint([point1, point2, point3])\n",
    "multipoint"
   ]
  },
  {
   "cell_type": "code",
   "execution_count": 21,
   "id": "af90c990-55a4-42f5-82e1-8cf125833a88",
   "metadata": {},
   "outputs": [
    {
     "data": {
      "image/svg+xml": [
       "<svg xmlns=\"http://www.w3.org/2000/svg\" xmlns:xlink=\"http://www.w3.org/1999/xlink\" width=\"100.0\" height=\"100.0\" viewBox=\"1.028 -26.272000000000002 9.404 31.644000000000002\" preserveAspectRatio=\"xMinYMin meet\"><g transform=\"matrix(1,0,0,-1,0,-20.900000000000002)\"><path fill-rule=\"evenodd\" fill=\"#66cc99\" stroke=\"#555555\" stroke-width=\"0.63288\" opacity=\"0.6\" d=\"M 7.2,-25.1 L 2.2,4.2 L 9.26,-2.456 L 7.2,-25.1 z\" /></g></svg>"
      ],
      "text/plain": [
       "<POLYGON ((7.2 -25.1, 2.2 4.2, 9.26 -2.456, 7.2 -25.1))>"
      ]
     },
     "execution_count": 21,
     "metadata": {},
     "output_type": "execute_result"
    }
   ],
   "source": [
    "# 볼록 껍질(Convex Hull)\n",
    "multipoint.convex_hull"
   ]
  },
  {
   "cell_type": "code",
   "execution_count": 22,
   "id": "8144ea0c-cfea-49ab-bb20-c5c7c3b89841",
   "metadata": {},
   "outputs": [
    {
     "data": {
      "image/svg+xml": [
       "<svg xmlns=\"http://www.w3.org/2000/svg\" xmlns:xlink=\"http://www.w3.org/1999/xlink\" width=\"100.0\" height=\"100.0\" viewBox=\"1.028 -26.272000000000002 9.404 31.644000000000002\" preserveAspectRatio=\"xMinYMin meet\"><g transform=\"matrix(1,0,0,-1,0,-20.900000000000002)\"><path fill-rule=\"evenodd\" fill=\"#66cc99\" stroke=\"#555555\" stroke-width=\"0.63288\" opacity=\"0.6\" d=\"M 2.2,-25.1 L 9.26,-25.1 L 9.26,4.2 L 2.2,4.2 L 2.2,-25.1 z\" /></g></svg>"
      ],
      "text/plain": [
       "<POLYGON ((2.2 -25.1, 9.26 -25.1, 9.26 4.2, 2.2 4.2, 2.2 -25.1))>"
      ]
     },
     "execution_count": 22,
     "metadata": {},
     "output_type": "execute_result"
    }
   ],
   "source": [
    "# 포락선(Envelope)\n",
    "multipoint.envelope"
   ]
  },
  {
   "cell_type": "markdown",
   "id": "13883073-ed43-49cb-9c25-8aad2783dedc",
   "metadata": {},
   "source": [
    "---"
   ]
  },
  {
   "cell_type": "markdown",
   "id": "269ebd27-d26f-444d-a81f-9bbe5861b922",
   "metadata": {},
   "source": [
    "```{raw} html\r\n",
    "<script src=\"https://utteranc.es/client.js\"\r\n",
    "        repo=\"Kwan-Gu/geospatial_analysis\"\r\n",
    "        issue-term=\"pathname\"\r\n",
    "        theme=\"preferred-color-scheme\"\r\n",
    "        crossorigin=\"anonymous\"\r\n",
    "        async>\r\n",
    "</script>\r\n",
    "```"
   ]
  }
 ],
 "metadata": {
  "kernelspec": {
   "display_name": "Python 3 (ipykernel)",
   "language": "python",
   "name": "python3"
  },
  "language_info": {
   "codemirror_mode": {
    "name": "ipython",
    "version": 3
   },
   "file_extension": ".py",
   "mimetype": "text/x-python",
   "name": "python",
   "nbconvert_exporter": "python",
   "pygments_lexer": "ipython3",
   "version": "3.9.13"
  }
 },
 "nbformat": 4,
 "nbformat_minor": 5
}
