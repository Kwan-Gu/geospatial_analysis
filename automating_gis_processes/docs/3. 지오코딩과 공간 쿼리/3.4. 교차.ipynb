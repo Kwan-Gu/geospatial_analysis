{
 "cells": [
  {
   "cell_type": "markdown",
   "id": "a940e4c3-9f23-4a2d-9f94-1ca4e110c8c0",
   "metadata": {},
   "source": [
    "# 교차 (Intersect)"
   ]
  },
  {
   "cell_type": "markdown",
   "id": "cdd2a346-2910-48d4-9f69-dbf2d4194584",
   "metadata": {},
   "source": [
    "---"
   ]
  },
  {
   "cell_type": "markdown",
   "id": "d78dc955-c577-4555-b86b-c98d7dade82c",
   "metadata": {},
   "source": [
    "&emsp;이전 단원에서 다룬 `within`과 `contains`처럼 공간적인 관계를 판단하는 것과 유사하게, 두 도형이 교차(intersect)하는지 또는 접촉(touch)하는지 확인하는 쿼리를 작성할 수 있습니다. `Shapely` 라이브러리를 활용해 아래 두 쿼리를 사용할 수 있습니다."
   ]
  },
  {
   "cell_type": "markdown",
   "id": "4ad2449c-f793-43c5-b3a7-290188e6df23",
   "metadata": {},
   "source": [
    "- [`intersects()`](https://shapely.readthedocs.io/en/stable/manual.html#object.intersects) : 한 객체의 경계 또는 내부가 다른 객체의 경계 또는 내부와 교차하는 경우\n",
    "- [`touches()`](https://shapely.readthedocs.io/en/stable/manual.html#object.touches) : 두 객체가 적어도 하나의 공통된 점(point)을 가지고 있으면서 서로 닿지만, 내부는 교차하지 않는 경우  "
   ]
  },
  {
   "cell_type": "markdown",
   "id": "0f4f9908-cf49-46fe-8b23-13e8720f8103",
   "metadata": {},
   "source": [
    "&emsp;아래 예시에서 두 개의 줄(line)에 대해 위 함수들을 사용해 보겠습니다."
   ]
  },
  {
   "cell_type": "code",
   "execution_count": 1,
   "id": "269d7134-5101-4884-b743-40424687da60",
   "metadata": {},
   "outputs": [],
   "source": [
    "import shapely.geometry as geom\n",
    "\n",
    "line1 = geom.LineString([(0, 0), (1, 1)])\n",
    "line2 = geom.LineString([(1, 1), (0, 2)])"
   ]
  },
  {
   "cell_type": "markdown",
   "id": "e1779b56-2936-4d07-893a-47585af5e59a",
   "metadata": {},
   "source": [
    "&emsp;두 선 `line1`과 `line2`이 교차하며, 접촉합니다."
   ]
  },
  {
   "cell_type": "code",
   "execution_count": 2,
   "id": "7956c95f-f98e-472e-84b7-db7a9dea0bf6",
   "metadata": {},
   "outputs": [
    {
     "data": {
      "text/plain": [
       "True"
      ]
     },
     "execution_count": 2,
     "metadata": {},
     "output_type": "execute_result"
    }
   ],
   "source": [
    "line1.intersects(line2)"
   ]
  },
  {
   "cell_type": "code",
   "execution_count": 3,
   "id": "bc197399-718c-483b-9b7c-c8c796b841a8",
   "metadata": {},
   "outputs": [
    {
     "data": {
      "text/plain": [
       "True"
      ]
     },
     "execution_count": 3,
     "metadata": {},
     "output_type": "execute_result"
    }
   ],
   "source": [
    "line1.touches(line2)"
   ]
  },
  {
   "cell_type": "markdown",
   "id": "2b88117c-c00d-4367-8d80-0f0c92984c23",
   "metadata": {},
   "source": [
    "&emsp;`shapely.geometry.MultiLineString`에 두 줄 `line1`과 `line2`를 추가하면 Jupyter Notebook 내에서 간단하게 시각화할 수 있습니다."
   ]
  },
  {
   "cell_type": "code",
   "execution_count": 4,
   "id": "82443127-7db1-45ac-a24a-b3e450369500",
   "metadata": {},
   "outputs": [
    {
     "data": {
      "image/svg+xml": [
       "<svg xmlns=\"http://www.w3.org/2000/svg\" xmlns:xlink=\"http://www.w3.org/1999/xlink\" width=\"100.0\" height=\"100.0\" viewBox=\"-0.08 -0.08 1.1600000000000001 2.16\" preserveAspectRatio=\"xMinYMin meet\"><g transform=\"matrix(1,0,0,-1,0,2.0)\"><g><polyline fill=\"none\" stroke=\"#66cc99\" stroke-width=\"0.0432\" points=\"0.0,0.0 1.0,1.0\" opacity=\"0.8\" /><polyline fill=\"none\" stroke=\"#66cc99\" stroke-width=\"0.0432\" points=\"1.0,1.0 0.0,2.0\" opacity=\"0.8\" /></g></g></svg>"
      ],
      "text/plain": [
       "<MULTILINESTRING ((0 0, 1 1), (1 1, 0 2))>"
      ]
     },
     "execution_count": 4,
     "metadata": {},
     "output_type": "execute_result"
    }
   ],
   "source": [
    "geom.MultiLineString([line1, line2])"
   ]
  },
  {
   "cell_type": "markdown",
   "id": "cabc4a57-ff64-4544-9ff8-19a6eb1785e6",
   "metadata": {},
   "source": [
    "&emsp;위 그림에서 `line1`이 끝나고 `line2`가 시작되는 지점인 `(1, 1)`을 공유하므로 교차(`intersects`)하는 것을 확인할 수 있습니다. 또한 두 선은 내부가 교차되지 않으므로 접촉(`touches`)의 조건도 만족하는 것을 확인할 수 있습니다.  \n",
    "\n",
    "&emsp;만약 줄(line)이 내부의 일부를 공유한다면 접촉으로 간주되지 않습니다. 예를 들어 `line1`은 `line1`과 교차(`intersects`)하지만 내부도 공유하므로 접촉(`touches`)에 해당하지는 않습니다."
   ]
  },
  {
   "cell_type": "code",
   "execution_count": 5,
   "id": "e63e0920-2e90-43e3-8e63-723d2ae3feed",
   "metadata": {},
   "outputs": [
    {
     "data": {
      "text/plain": [
       "True"
      ]
     },
     "execution_count": 5,
     "metadata": {},
     "output_type": "execute_result"
    }
   ],
   "source": [
    "line1.intersects(line1)"
   ]
  },
  {
   "cell_type": "code",
   "execution_count": 6,
   "id": "08bb548a-5df7-4427-b1f6-15b2989d50b9",
   "metadata": {},
   "outputs": [
    {
     "data": {
      "text/plain": [
       "False"
      ]
     },
     "execution_count": 6,
     "metadata": {},
     "output_type": "execute_result"
    }
   ],
   "source": [
    "line1.touches(line1)"
   ]
  },
  {
   "cell_type": "markdown",
   "id": "0286b19c-7e62-4d33-8c95-b75c2f181c2c",
   "metadata": {},
   "source": [
    "---"
   ]
  },
  {
   "cell_type": "markdown",
   "id": "5e5cda38-cb83-403a-b30d-0140fc390c40",
   "metadata": {},
   "source": [
    "```{raw} html\r\n",
    "<script src=\"https://utteranc.es/client.js\"\r\n",
    "        repo=\"Kwan-Gu/geospatial_analysis\"\r\n",
    "        issue-term=\"pathname\"\r\n",
    "        theme=\"preferred-color-scheme\"\r\n",
    "        crossorigin=\"anonymous\"\r\n",
    "        async>\r\n",
    "</script>\r\n",
    "```"
   ]
  }
 ],
 "metadata": {
  "kernelspec": {
   "display_name": "Python 3 (ipykernel)",
   "language": "python",
   "name": "python3"
  },
  "language_info": {
   "codemirror_mode": {
    "name": "ipython",
    "version": 3
   },
   "file_extension": ".py",
   "mimetype": "text/x-python",
   "name": "python",
   "nbconvert_exporter": "python",
   "pygments_lexer": "ipython3",
   "version": "3.9.13"
  }
 },
 "nbformat": 4,
 "nbformat_minor": 5
}
