{
 "cells": [
  {
   "cell_type": "markdown",
   "id": "be324e66-8771-45cf-980c-faad2913cd3d",
   "metadata": {},
   "source": [
    "# PIP (Point-In-Polygon) 쿼리"
   ]
  },
  {
   "cell_type": "markdown",
   "id": "2a2667c5-57ae-48bd-a81f-834af08f81c7",
   "metadata": {},
   "source": [
    "---"
   ]
  },
  {
   "cell_type": "markdown",
   "id": "af19cfb2-f66d-4b5c-9a5b-e7c4e6082ff9",
   "metadata": {},
   "source": [
    "&emsp;점(point)이 영역 내부 또는 외부에 있는지, 또는 선(line)이 다른 선 또는 다각형과 교차(intersect)하는지 판단하는 PIP (Point-In-Polygon) 쿼리는 다양한 공간 연산 중 빈번하게 사용됩니다. 특히 두 개의 공간 데이터셋 간의 공간 조인(spatial join)은 PIP 쿼리를 응용한 대표적인 사례입니다."
   ]
  },
  {
   "cell_type": "markdown",
   "id": "7e778175-8e9d-482d-8b89-3197889bac05",
   "metadata": {},
   "source": [
    "> **※ 참고**  \n",
    "> \n",
    "> &emsp;PIP 및 도형 연산(geometric operation)에 대한 자세한 내용은 Smith, Goodchild & Longley가 집필한 [Geospatial Analysis 6판](https://www.spatialanalysisonline.com/HTML/index.html)의 4.2장에 정리되어 있습니다.  "
   ]
  },
  {
   "cell_type": "markdown",
   "id": "eeada0c6-d5c9-431f-9ee7-dd795bc49805",
   "metadata": {},
   "source": [
    "## 레이 캐스팅 알고리즘 (Ray Casting Algorithm)"
   ]
  },
  {
   "cell_type": "markdown",
   "id": "aff5d7ca-16f5-4282-88d2-eb25a4dfd9b3",
   "metadata": {},
   "source": [
    "&emsp;점이 다각형 내부에 위치하는지 계산하기 위해 사용되는 알고리즘 중 대표적으로 [레이 캐스팅 알고리즘(Ray Casting Algorithm)](https://en.wikipedia.org/wiki/Point_in_polygon#Ray_casting_algorithm)이 있습니다. 이 알고리즘을 구현하기 위해 직접 함수를 만들지 않아도, [Shapely 라이브러리](https://shapely.readthedocs.io/en/stable/manual.html#binary-predicates)를 사용하여 PIP 쿼리 외에도 기하학적 개체들 간의 다양한 연산을 수행할 수 있습니다.  "
   ]
  },
  {
   "cell_type": "markdown",
   "id": "d1f8782d-7657-4f45-93e1-8307a73b5c7f",
   "metadata": {},
   "source": [
    "## Shapely에서 PIP 쿼리 사용하기"
   ]
  },
  {
   "cell_type": "markdown",
   "id": "01f02f8d-7760-4678-9e6d-d2d903ea3640",
   "metadata": {},
   "source": [
    "&emsp;Shapely에서 PIP를 수행하는 두 가지 방법이 있습니다:  \n",
    "\n",
    "1. 점이 다각형 내부에 있는지 확인하는 [within()](https://shapely.readthedocs.io/en/stable/manual.html#object.within) 함수를 사용  \n",
    "2. 다각형이 점을 포함하고 있는지 확인하는 [contains()](https://shapely.readthedocs.io/en/stable/manual.html#object.contains) 함수를 사용"
   ]
  },
  {
   "cell_type": "markdown",
   "id": "4edcbceb-22c8-48a5-b2dd-d634f6937cc5",
   "metadata": {},
   "source": [
    "```{note}\n",
    "&emsp;여기에서는 PIP 쿼리에 대해서만 다루고 있지만, Shapely의 LineString 또는 다각형(Polygon) 개체가 다른 다각형(Polygon) 내부에 있는지 확인하는 것도 동일한 방법으로 가능합니다.\n",
    "```"
   ]
  },
  {
   "cell_type": "markdown",
   "id": "9d7927c0-180d-4bda-b407-b9ad0f77b42e",
   "metadata": {},
   "source": [
    "&emsp;먼저 두 개의 점 개체 `point1`와 `point2`를 만들어줍니다. 그리고 다각형 개체 `polygon`도 생성합니다."
   ]
  },
  {
   "cell_type": "code",
   "execution_count": 1,
   "id": "f1b6a3e1-a8e2-4684-81c1-69dea824fc7a",
   "metadata": {},
   "outputs": [
    {
     "name": "stdout",
     "output_type": "stream",
     "text": [
      "POINT (24.952242 60.1696017)\n",
      "POINT (24.976567 60.16125)\n",
      "POLYGON ((24.950899 60.169158, 24.953492 60.169158, 24.95351 60.170104, 24.950958 60.16999, 24.950899 60.169158))\n"
     ]
    }
   ],
   "source": [
    "import shapely.geometry as geom\n",
    "\n",
    "# 점 개체 생성\n",
    "point1 = geom.Point(24.952242, 60.1696017)\n",
    "point2 = geom.Point(24.976567, 60.1612500)\n",
    "\n",
    "# 다각형 개체 생성\n",
    "polygon = geom.Polygon([(24.950899, 60.169158),\n",
    "                        (24.953492, 60.169158),\n",
    "                        (24.953510, 60.170104),\n",
    "                        (24.950958, 60.169990)\n",
    "                       ])\n",
    "\n",
    "print(point1)\n",
    "print(point2)\n",
    "print(polygon)"
   ]
  },
  {
   "cell_type": "markdown",
   "id": "e9107dbb-2359-4580-89cb-51af0883e950",
   "metadata": {},
   "source": [
    "&emsp;두 점이 다각형 내부에 있는지 `within()` 함수를 사용하여 확인해 보겠습니다."
   ]
  },
  {
   "cell_type": "code",
   "execution_count": 2,
   "id": "7cb2c84b-cab0-4466-820c-4927d50dc6b9",
   "metadata": {},
   "outputs": [
    {
     "data": {
      "text/plain": [
       "True"
      ]
     },
     "execution_count": 2,
     "metadata": {},
     "output_type": "execute_result"
    }
   ],
   "source": [
    "point1.within(polygon)"
   ]
  },
  {
   "cell_type": "code",
   "execution_count": 3,
   "id": "98d8c758-c5f2-40af-81bb-337fadf453f0",
   "metadata": {},
   "outputs": [
    {
     "data": {
      "text/plain": [
       "False"
      ]
     },
     "execution_count": 3,
     "metadata": {},
     "output_type": "execute_result"
    }
   ],
   "source": [
    "point2.within(polygon)"
   ]
  },
  {
   "cell_type": "markdown",
   "id": "c78adedd-4a47-4786-9deb-316a210ab08e",
   "metadata": {},
   "source": [
    "&emsp;첫 번째 점 `point1`은 다각형 내부(`True`)에 있지만, 두 번째 점 `point2`는 다각형 외부(`False`)에 있습니다. 이번에는 점이 다각형 내부에 있는지 확인하는 대신, 반대로 다각형이 점을 포함하는지 여부를 `contains()` 함수를 사용하여 확인해 보겠습니다.  "
   ]
  },
  {
   "cell_type": "code",
   "execution_count": 4,
   "id": "baa6fd6f-d48b-4e90-9d96-1e1a7047d64b",
   "metadata": {},
   "outputs": [
    {
     "data": {
      "text/plain": [
       "True"
      ]
     },
     "execution_count": 4,
     "metadata": {},
     "output_type": "execute_result"
    }
   ],
   "source": [
    "polygon.contains(point1)"
   ]
  },
  {
   "cell_type": "code",
   "execution_count": 5,
   "id": "06f6977b-9f6c-4e8e-be6e-ddfd8d9734c1",
   "metadata": {},
   "outputs": [
    {
     "data": {
      "text/plain": [
       "False"
      ]
     },
     "execution_count": 5,
     "metadata": {},
     "output_type": "execute_result"
    }
   ],
   "source": [
    "polygon.contains(point2)"
   ]
  },
  {
   "cell_type": "markdown",
   "id": "5f2358e7-9182-4fc8-a01e-5f3b9275b5b4",
   "metadata": {},
   "source": [
    "## Geopandas.GeoDataFrame에서 PIP 쿼리 사용하기"
   ]
  },
  {
   "cell_type": "markdown",
   "id": "9a5f7fd7-ecae-4ff1-ac4a-7ad603cb86a2",
   "metadata": {},
   "source": [
    "&emsp;아래 예시는 지오코딩을 통해 얻은 주소 중 어느 지점이 서울의 특정 구역 내에 있는지 탐색합니다."
   ]
  },
  {
   "cell_type": "code",
   "execution_count": 6,
   "id": "a3ceed89-5669-4bb7-9893-f68409594618",
   "metadata": {},
   "outputs": [
    {
     "data": {
      "text/html": [
       "<div>\n",
       "<style scoped>\n",
       "    .dataframe tbody tr th:only-of-type {\n",
       "        vertical-align: middle;\n",
       "    }\n",
       "\n",
       "    .dataframe tbody tr th {\n",
       "        vertical-align: top;\n",
       "    }\n",
       "\n",
       "    .dataframe thead th {\n",
       "        text-align: right;\n",
       "    }\n",
       "</style>\n",
       "<table border=\"1\" class=\"dataframe\">\n",
       "  <thead>\n",
       "    <tr style=\"text-align: right;\">\n",
       "      <th></th>\n",
       "      <th>ADM_SECT_C</th>\n",
       "      <th>SGG_NM</th>\n",
       "      <th>SGG_OID</th>\n",
       "      <th>COL_ADM_SE</th>\n",
       "      <th>GID</th>\n",
       "      <th>geometry</th>\n",
       "    </tr>\n",
       "  </thead>\n",
       "  <tbody>\n",
       "    <tr>\n",
       "      <th>0</th>\n",
       "      <td>11740</td>\n",
       "      <td>강동구</td>\n",
       "      <td>NaN</td>\n",
       "      <td>11740</td>\n",
       "      <td>125</td>\n",
       "      <td>POLYGON ((971595.075 1952405.815, 971596.036 1...</td>\n",
       "    </tr>\n",
       "    <tr>\n",
       "      <th>1</th>\n",
       "      <td>11710</td>\n",
       "      <td>송파구</td>\n",
       "      <td>NaN</td>\n",
       "      <td>11710</td>\n",
       "      <td>126</td>\n",
       "      <td>POLYGON ((965821.957 1949386.153, 965816.737 1...</td>\n",
       "    </tr>\n",
       "    <tr>\n",
       "      <th>2</th>\n",
       "      <td>11680</td>\n",
       "      <td>강남구</td>\n",
       "      <td>NaN</td>\n",
       "      <td>11680</td>\n",
       "      <td>127</td>\n",
       "      <td>POLYGON ((959331.597 1948602.068, 959342.021 1...</td>\n",
       "    </tr>\n",
       "    <tr>\n",
       "      <th>3</th>\n",
       "      <td>11650</td>\n",
       "      <td>서초구</td>\n",
       "      <td>NaN</td>\n",
       "      <td>11650</td>\n",
       "      <td>128</td>\n",
       "      <td>POLYGON ((956982.039 1947144.037, 956982.518 1...</td>\n",
       "    </tr>\n",
       "    <tr>\n",
       "      <th>4</th>\n",
       "      <td>11620</td>\n",
       "      <td>관악구</td>\n",
       "      <td>NaN</td>\n",
       "      <td>11620</td>\n",
       "      <td>129</td>\n",
       "      <td>POLYGON ((949438.997 1944127.713, 949456.647 1...</td>\n",
       "    </tr>\n",
       "  </tbody>\n",
       "</table>\n",
       "</div>"
      ],
      "text/plain": [
       "  ADM_SECT_C SGG_NM  SGG_OID COL_ADM_SE  GID  \\\n",
       "0      11740    강동구      NaN      11740  125   \n",
       "1      11710    송파구      NaN      11710  126   \n",
       "2      11680    강남구      NaN      11680  127   \n",
       "3      11650    서초구      NaN      11650  128   \n",
       "4      11620    관악구      NaN      11620  129   \n",
       "\n",
       "                                            geometry  \n",
       "0  POLYGON ((971595.075 1952405.815, 971596.036 1...  \n",
       "1  POLYGON ((965821.957 1949386.153, 965816.737 1...  \n",
       "2  POLYGON ((959331.597 1948602.068, 959342.021 1...  \n",
       "3  POLYGON ((956982.039 1947144.037, 956982.518 1...  \n",
       "4  POLYGON ((949438.997 1944127.713, 949456.647 1...  "
      ]
     },
     "execution_count": 6,
     "metadata": {},
     "output_type": "execute_result"
    }
   ],
   "source": [
    "import pathlib\n",
    "import geopandas as gpd\n",
    "\n",
    "NOTEBOOK_PATH = pathlib.Path().resolve()\n",
    "DATA_DIRECTORY = NOTEBOOK_PATH / \"data\"\n",
    "\n",
    "city_districts = gpd.read_file(DATA_DIRECTORY / \"LARD_ADM_SECT_SGG_서울\" / \"LARD_ADM_SECT_SGG_11.shp\",\n",
    "                               encoding=\"cp949\"\n",
    "                              )\n",
    "city_districts.head()"
   ]
  },
  {
   "cell_type": "code",
   "execution_count": 7,
   "id": "8b4d2f50-9395-4541-a787-4c7a8a7bea16",
   "metadata": {},
   "outputs": [
    {
     "data": {
      "text/plain": [
       "<Axes: >"
      ]
     },
     "execution_count": 7,
     "metadata": {},
     "output_type": "execute_result"
    },
    {
     "data": {
      "image/png": "[encoded data removed]",
      "text/plain": [
       "<Figure size 640x480 with 1 Axes>"
      ]
     },
     "metadata": {},
     "output_type": "display_data"
    }
   ],
   "source": [
    "city_districts.plot()"
   ]
  },
  {
   "cell_type": "code",
   "execution_count": 8,
   "id": "8b5a2007-4b2f-48af-a26a-6ee5befff765",
   "metadata": {},
   "outputs": [
    {
     "data": {
      "text/plain": [
       "<Projected CRS: EPSG:5179>\n",
       "Name: Korea 2000 / Unified CS\n",
       "Axis Info [cartesian]:\n",
       "- X[north]: Northing (metre)\n",
       "- Y[east]: Easting (metre)\n",
       "Area of Use:\n",
       "- name: Korea, Republic of (South Korea)\n",
       "- bounds: (122.71, 28.6, 134.28, 40.27)\n",
       "Coordinate Operation:\n",
       "- name: Korea Unified Belt\n",
       "- method: Transverse Mercator\n",
       "Datum: Geocentric datum of Korea\n",
       "- Ellipsoid: GRS 1980\n",
       "- Prime Meridian: Greenwich"
      ]
     },
     "execution_count": 8,
     "metadata": {},
     "output_type": "execute_result"
    }
   ],
   "source": [
    "city_districts.crs"
   ]
  },
  {
   "cell_type": "markdown",
   "id": "66fc6d1e-a8ae-4187-83fd-7ec098df72e0",
   "metadata": {},
   "source": [
    "&emsp;서울특별시 은평구 내에 있는 지점을 찾고자 합니다. 이 구역에 대한 별도의 데이터셋를 얻고, 주소 데이터를 로드하고, 은평구와 모든 지점을 하나의 지도에 표시하는 다중 레이어 맵을 시각화 해보겠습니다."
   ]
  },
  {
   "cell_type": "code",
   "execution_count": 9,
   "id": "6f8ede39-e31f-49da-9878-a841ef40f760",
   "metadata": {},
   "outputs": [
    {
     "data": {
      "text/html": [
       "<div>\n",
       "<style scoped>\n",
       "    .dataframe tbody tr th:only-of-type {\n",
       "        vertical-align: middle;\n",
       "    }\n",
       "\n",
       "    .dataframe tbody tr th {\n",
       "        vertical-align: top;\n",
       "    }\n",
       "\n",
       "    .dataframe thead th {\n",
       "        text-align: right;\n",
       "    }\n",
       "</style>\n",
       "<table border=\"1\" class=\"dataframe\">\n",
       "  <thead>\n",
       "    <tr style=\"text-align: right;\">\n",
       "      <th></th>\n",
       "      <th>ADM_SECT_C</th>\n",
       "      <th>SGG_NM</th>\n",
       "      <th>SGG_OID</th>\n",
       "      <th>COL_ADM_SE</th>\n",
       "      <th>GID</th>\n",
       "      <th>geometry</th>\n",
       "    </tr>\n",
       "  </thead>\n",
       "  <tbody>\n",
       "    <tr>\n",
       "      <th>13</th>\n",
       "      <td>11380</td>\n",
       "      <td>은평구</td>\n",
       "      <td>NaN</td>\n",
       "      <td>11380</td>\n",
       "      <td>138</td>\n",
       "      <td>POLYGON ((951637.438 1961851.784, 951649.915 1...</td>\n",
       "    </tr>\n",
       "  </tbody>\n",
       "</table>\n",
       "</div>"
      ],
      "text/plain": [
       "   ADM_SECT_C SGG_NM  SGG_OID COL_ADM_SE  GID  \\\n",
       "13      11380    은평구      NaN      11380  138   \n",
       "\n",
       "                                             geometry  \n",
       "13  POLYGON ((951637.438 1961851.784, 951649.915 1...  "
      ]
     },
     "execution_count": 9,
     "metadata": {},
     "output_type": "execute_result"
    }
   ],
   "source": [
    "ep_district = city_districts[city_districts.SGG_NM == \"은평구\"]\n",
    "ep_district"
   ]
  },
  {
   "cell_type": "code",
   "execution_count": 10,
   "id": "b91959ab-5312-4957-839b-13a81ccb931a",
   "metadata": {},
   "outputs": [
    {
     "data": {
      "text/html": [
       "<div>\n",
       "<style scoped>\n",
       "    .dataframe tbody tr th:only-of-type {\n",
       "        vertical-align: middle;\n",
       "    }\n",
       "\n",
       "    .dataframe tbody tr th {\n",
       "        vertical-align: top;\n",
       "    }\n",
       "\n",
       "    .dataframe thead th {\n",
       "        text-align: right;\n",
       "    }\n",
       "</style>\n",
       "<table border=\"1\" class=\"dataframe\">\n",
       "  <thead>\n",
       "    <tr style=\"text-align: right;\">\n",
       "      <th></th>\n",
       "      <th>address</th>\n",
       "      <th>지점</th>\n",
       "      <th>지점주소</th>\n",
       "      <th>geometry</th>\n",
       "    </tr>\n",
       "  </thead>\n",
       "  <tbody>\n",
       "    <tr>\n",
       "      <th>0</th>\n",
       "      <td>서울특별시아동학대예방센터, 광평로34길, 06352, 광평로34길, 서울, 대한민국</td>\n",
       "      <td>400</td>\n",
       "      <td>서울특별시 강남구 일원동 580</td>\n",
       "      <td>POINT (127.08775 37.47971)</td>\n",
       "    </tr>\n",
       "    <tr>\n",
       "      <th>1</th>\n",
       "      <td>서울특별시데이터센터, 남부순환로340길, 06724, 남부순환로340길, 서울, 대한민국</td>\n",
       "      <td>401</td>\n",
       "      <td>서울특별시 서초구 서초동 1416번지</td>\n",
       "      <td>POINT (127.02191 37.47954)</td>\n",
       "    </tr>\n",
       "    <tr>\n",
       "      <th>2</th>\n",
       "      <td>서울특별시 동부기술교육원, 183, 고덕로, 05235, 고덕로, 고덕동, 대한민국</td>\n",
       "      <td>402</td>\n",
       "      <td>서울특별시 강동구 고덕로 183</td>\n",
       "      <td>POINT (127.14557 37.55604)</td>\n",
       "    </tr>\n",
       "    <tr>\n",
       "      <th>3</th>\n",
       "      <td>롯데월드, 240, 올림픽로, 05554, 올림픽로, 잠실동, 대한민국</td>\n",
       "      <td>403</td>\n",
       "      <td>서울특별시 송파구 올림픽로 240</td>\n",
       "      <td>POINT (127.09824 37.51150)</td>\n",
       "    </tr>\n",
       "    <tr>\n",
       "      <th>4</th>\n",
       "      <td>월드메르디앙 201동, 양천로1길, 07602, 양천로1길, 서울, 대한민국</td>\n",
       "      <td>404</td>\n",
       "      <td>서울특별시 강서구 양천로 201</td>\n",
       "      <td>POINT (126.81027 37.57468)</td>\n",
       "    </tr>\n",
       "    <tr>\n",
       "      <th>5</th>\n",
       "      <td>405-298, 목동동로12길, 08005, 목동동로12길, 서울, 대한민국</td>\n",
       "      <td>405</td>\n",
       "      <td>서울특별시 양천구 목동동로 298</td>\n",
       "      <td>POINT (126.87355 37.52290)</td>\n",
       "    </tr>\n",
       "    <tr>\n",
       "      <th>6</th>\n",
       "      <td>서울특별시립도봉도서관, 시루봉로, 01375, 시루봉로, 쌍문4동, 대한민국</td>\n",
       "      <td>406</td>\n",
       "      <td>서울특별시 도봉구 시루봉로 173</td>\n",
       "      <td>POINT (127.02772 37.65291)</td>\n",
       "    </tr>\n",
       "    <tr>\n",
       "      <th>7</th>\n",
       "      <td>NaN</td>\n",
       "      <td>407</td>\n",
       "      <td>서울특별시 노원구 공릉동 사서함 230-3호 사서함 77호</td>\n",
       "      <td>None</td>\n",
       "    </tr>\n",
       "    <tr>\n",
       "      <th>8</th>\n",
       "      <td>서울시립대학교, 163, 서울시립대로, 02504, 서울시립대로, 서울특별시, 대한민국</td>\n",
       "      <td>408</td>\n",
       "      <td>서울특별시 동대문구 서울시립대로 163</td>\n",
       "      <td>POINT (127.05918 37.58302)</td>\n",
       "    </tr>\n",
       "    <tr>\n",
       "      <th>9</th>\n",
       "      <td>32, 면목로84길, 02162, 면목로84길, 서울시 중랑구, 대한민국</td>\n",
       "      <td>409</td>\n",
       "      <td>서울특별시 중랑구 면목로57길 32</td>\n",
       "      <td>POINT (127.08852 37.59191)</td>\n",
       "    </tr>\n",
       "    <tr>\n",
       "      <th>10</th>\n",
       "      <td>동작보라매자이더포레스트, 서울특별시 동작구 여의대방로22길 121, 대한민국</td>\n",
       "      <td>410</td>\n",
       "      <td>서울특별시 동작구 여의대방로16길 61</td>\n",
       "      <td>POINT (126.92597 37.49854)</td>\n",
       "    </tr>\n",
       "    <tr>\n",
       "      <th>11</th>\n",
       "      <td>NaN</td>\n",
       "      <td>411</td>\n",
       "      <td>서울특별시 마포구 창전동 산1-75</td>\n",
       "      <td>None</td>\n",
       "    </tr>\n",
       "    <tr>\n",
       "      <th>12</th>\n",
       "      <td>세브란스병원, 50-1, 연세로, 03722, 연세로, 서울특별시, 대한민국</td>\n",
       "      <td>412</td>\n",
       "      <td>서울특별시 서대문구 연세로 50</td>\n",
       "      <td>POINT (126.94038 37.56230)</td>\n",
       "    </tr>\n",
       "    <tr>\n",
       "      <th>13</th>\n",
       "      <td>NaN</td>\n",
       "      <td>413</td>\n",
       "      <td>서울특별시 광진구 자양2동 680-67</td>\n",
       "      <td>None</td>\n",
       "    </tr>\n",
       "    <tr>\n",
       "      <th>14</th>\n",
       "      <td>국민대학교우편취급국, 77 종합복지관 2층, 정릉로, 02707, 정릉로, 정릉동,...</td>\n",
       "      <td>414</td>\n",
       "      <td>서울특별시 성북구 정릉로 77</td>\n",
       "      <td>POINT (126.99594 37.61029)</td>\n",
       "    </tr>\n",
       "    <tr>\n",
       "      <th>15</th>\n",
       "      <td>NaN</td>\n",
       "      <td>415</td>\n",
       "      <td>서울특별시 용산구 이촌로 255</td>\n",
       "      <td>None</td>\n",
       "    </tr>\n",
       "    <tr>\n",
       "      <th>16</th>\n",
       "      <td>서울특별시 소방학교, 통일로, 03312, 통일로, 진관동, 대한민국</td>\n",
       "      <td>416</td>\n",
       "      <td>서울특별시 은평구 진관동 산26</td>\n",
       "      <td>POINT (126.91181 37.63268)</td>\n",
       "    </tr>\n",
       "    <tr>\n",
       "      <th>17</th>\n",
       "      <td>서울독산초등학교, 31, 시흥대로104길, 08618, 시흥대로104길, 금천구, ...</td>\n",
       "      <td>417</td>\n",
       "      <td>서울특별시 금천구 시흥대로104길 31</td>\n",
       "      <td>POINT (126.90003 37.46524)</td>\n",
       "    </tr>\n",
       "    <tr>\n",
       "      <th>18</th>\n",
       "      <td>여의도 이랜드크루즈, 280, 여의동로, 07337, 여의동로, 서울, 대한민국</td>\n",
       "      <td>418</td>\n",
       "      <td>서울특별시 영등포구 여의동로 280</td>\n",
       "      <td>POINT (126.93841 37.52578)</td>\n",
       "    </tr>\n",
       "    <tr>\n",
       "      <th>19</th>\n",
       "      <td>83, 소파로, 04630, 소파로, 예장동, 대한민국</td>\n",
       "      <td>419</td>\n",
       "      <td>서울특별시 중구 소파로 83  \\t</td>\n",
       "      <td>POINT (126.98384 37.55617)</td>\n",
       "    </tr>\n",
       "    <tr>\n",
       "      <th>20</th>\n",
       "      <td>서울숲아이파크, 서울특별시 성동구 동일로 237, 대한민국</td>\n",
       "      <td>421</td>\n",
       "      <td>서울특별시 성동구 서울숲길 18</td>\n",
       "      <td>POINT (127.06943 37.55290)</td>\n",
       "    </tr>\n",
       "    <tr>\n",
       "      <th>21</th>\n",
       "      <td>종로경찰서, 종로17길, 03140, 종로17길, 서울특별시 종로구, 대한민국</td>\n",
       "      <td>422</td>\n",
       "      <td>서울특별시 종로구 북악산로267</td>\n",
       "      <td>POINT (126.98893 37.57054)</td>\n",
       "    </tr>\n",
       "    <tr>\n",
       "      <th>22</th>\n",
       "      <td>NaN</td>\n",
       "      <td>423</td>\n",
       "      <td>서울특별시 구로구 부일로 893</td>\n",
       "      <td>None</td>\n",
       "    </tr>\n",
       "    <tr>\n",
       "      <th>23</th>\n",
       "      <td>강북세일학원, 13, 정릉로48길, 02801, 정릉로48길, 서울특별시 성북구, ...</td>\n",
       "      <td>424</td>\n",
       "      <td>서울특별시 강북구 도봉로89길 13</td>\n",
       "      <td>POINT (127.02682 37.60338)</td>\n",
       "    </tr>\n",
       "    <tr>\n",
       "      <th>24</th>\n",
       "      <td>NaN</td>\n",
       "      <td>425</td>\n",
       "      <td>서울특별시 관악구 남현동 산100-1420003호</td>\n",
       "      <td>None</td>\n",
       "    </tr>\n",
       "    <tr>\n",
       "      <th>25</th>\n",
       "      <td>서울봉천동우체국, 249-1, 관악로, 08727, 관악로, 서울특별시 관악구, 대한민국</td>\n",
       "      <td>509</td>\n",
       "      <td>서울특별시 관악구 관악로 1</td>\n",
       "      <td>POINT (126.95671 37.48677)</td>\n",
       "    </tr>\n",
       "    <tr>\n",
       "      <th>26</th>\n",
       "      <td>맨하탄21리빙텔, 20, 국회대로74길, 07238, 국회대로74길, 서울특별시 영...</td>\n",
       "      <td>510</td>\n",
       "      <td>서울특별시 영등포구 국회대로53길 20</td>\n",
       "      <td>POINT (126.92153 37.52963)</td>\n",
       "    </tr>\n",
       "    <tr>\n",
       "      <th>27</th>\n",
       "      <td>김대중대통령묘소, 210, 현충로, 06984, 현충로, 서울, 대한민국</td>\n",
       "      <td>889</td>\n",
       "      <td>서울특별시 동작구 현충로 210</td>\n",
       "      <td>POINT (126.97018 37.49665)</td>\n",
       "    </tr>\n",
       "  </tbody>\n",
       "</table>\n",
       "</div>"
      ],
      "text/plain": [
       "                                              address   지점  \\\n",
       "0      서울특별시아동학대예방센터, 광평로34길, 06352, 광평로34길, 서울, 대한민국  400   \n",
       "1   서울특별시데이터센터, 남부순환로340길, 06724, 남부순환로340길, 서울, 대한민국  401   \n",
       "2      서울특별시 동부기술교육원, 183, 고덕로, 05235, 고덕로, 고덕동, 대한민국  402   \n",
       "3             롯데월드, 240, 올림픽로, 05554, 올림픽로, 잠실동, 대한민국  403   \n",
       "4          월드메르디앙 201동, 양천로1길, 07602, 양천로1길, 서울, 대한민국  404   \n",
       "5          405-298, 목동동로12길, 08005, 목동동로12길, 서울, 대한민국  405   \n",
       "6          서울특별시립도봉도서관, 시루봉로, 01375, 시루봉로, 쌍문4동, 대한민국  406   \n",
       "7                                                 NaN  407   \n",
       "8    서울시립대학교, 163, 서울시립대로, 02504, 서울시립대로, 서울특별시, 대한민국  408   \n",
       "9            32, 면목로84길, 02162, 면목로84길, 서울시 중랑구, 대한민국  409   \n",
       "10         동작보라매자이더포레스트, 서울특별시 동작구 여의대방로22길 121, 대한민국  410   \n",
       "11                                                NaN  411   \n",
       "12         세브란스병원, 50-1, 연세로, 03722, 연세로, 서울특별시, 대한민국  412   \n",
       "13                                                NaN  413   \n",
       "14  국민대학교우편취급국, 77 종합복지관 2층, 정릉로, 02707, 정릉로, 정릉동,...  414   \n",
       "15                                                NaN  415   \n",
       "16             서울특별시 소방학교, 통일로, 03312, 통일로, 진관동, 대한민국  416   \n",
       "17  서울독산초등학교, 31, 시흥대로104길, 08618, 시흥대로104길, 금천구, ...  417   \n",
       "18       여의도 이랜드크루즈, 280, 여의동로, 07337, 여의동로, 서울, 대한민국  418   \n",
       "19                     83, 소파로, 04630, 소파로, 예장동, 대한민국  419   \n",
       "20                   서울숲아이파크, 서울특별시 성동구 동일로 237, 대한민국  421   \n",
       "21        종로경찰서, 종로17길, 03140, 종로17길, 서울특별시 종로구, 대한민국  422   \n",
       "22                                                NaN  423   \n",
       "23  강북세일학원, 13, 정릉로48길, 02801, 정릉로48길, 서울특별시 성북구, ...  424   \n",
       "24                                                NaN  425   \n",
       "25  서울봉천동우체국, 249-1, 관악로, 08727, 관악로, 서울특별시 관악구, 대한민국  509   \n",
       "26  맨하탄21리빙텔, 20, 국회대로74길, 07238, 국회대로74길, 서울특별시 영...  510   \n",
       "27           김대중대통령묘소, 210, 현충로, 06984, 현충로, 서울, 대한민국  889   \n",
       "\n",
       "                                지점주소                    geometry  \n",
       "0                  서울특별시 강남구 일원동 580  POINT (127.08775 37.47971)  \n",
       "1              서울특별시 서초구 서초동 1416번지   POINT (127.02191 37.47954)  \n",
       "2                서울특별시 강동구 고덕로 183    POINT (127.14557 37.55604)  \n",
       "3               서울특별시 송파구 올림픽로 240    POINT (127.09824 37.51150)  \n",
       "4                서울특별시 강서구 양천로 201    POINT (126.81027 37.57468)  \n",
       "5               서울특별시 양천구 목동동로 298    POINT (126.87355 37.52290)  \n",
       "6               서울특별시 도봉구 시루봉로 173    POINT (127.02772 37.65291)  \n",
       "7   서울특별시 노원구 공릉동 사서함 230-3호 사서함 77호                        None  \n",
       "8              서울특별시 동대문구 서울시립대로 163  POINT (127.05918 37.58302)  \n",
       "9              서울특별시 중랑구 면목로57길 32    POINT (127.08852 37.59191)  \n",
       "10             서울특별시 동작구 여의대방로16길 61  POINT (126.92597 37.49854)  \n",
       "11              서울특별시 마포구 창전동 산1-75                         None  \n",
       "12               서울특별시 서대문구 연세로 50    POINT (126.94038 37.56230)  \n",
       "13           서울특별시 광진구 자양2동 680-67                          None  \n",
       "14                 서울특별시 성북구 정릉로 77   POINT (126.99594 37.61029)  \n",
       "15               서울특별시 용산구 이촌로 255                          None  \n",
       "16               서울특별시 은평구 진관동 산26    POINT (126.91181 37.63268)  \n",
       "17           서울특별시 금천구 시흥대로104길 31    POINT (126.90003 37.46524)  \n",
       "18              서울특별시 영등포구 여의동로 280   POINT (126.93841 37.52578)  \n",
       "19               서울특별시 중구 소파로 83  \\t  POINT (126.98384 37.55617)  \n",
       "20               서울특별시 성동구 서울숲길 18    POINT (127.06943 37.55290)  \n",
       "21                 서울특별시 종로구 북악산로267  POINT (126.98893 37.57054)  \n",
       "22               서울특별시 구로구 부일로 893                          None  \n",
       "23             서울특별시 강북구 도봉로89길 13    POINT (127.02682 37.60338)  \n",
       "24     서울특별시 관악구 남현동 산100-1420003호                          None  \n",
       "25                  서울특별시 관악구 관악로 1   POINT (126.95671 37.48677)  \n",
       "26           서울특별시 영등포구 국회대로53길 20    POINT (126.92153 37.52963)  \n",
       "27               서울특별시 동작구 현충로 210    POINT (126.97018 37.49665)  "
      ]
     },
     "execution_count": 10,
     "metadata": {},
     "output_type": "execute_result"
    }
   ],
   "source": [
    "addresses = gpd.read_file(DATA_DIRECTORY / \"addresses.gpkg\")\n",
    "addresses"
   ]
  },
  {
   "cell_type": "code",
   "execution_count": 11,
   "id": "7e1c69e6-a63d-4419-87c4-c2d80858a333",
   "metadata": {},
   "outputs": [
    {
     "data": {
      "text/plain": [
       "<Geographic 2D CRS: EPSG:4326>\n",
       "Name: WGS 84\n",
       "Axis Info [ellipsoidal]:\n",
       "- Lat[north]: Geodetic latitude (degree)\n",
       "- Lon[east]: Geodetic longitude (degree)\n",
       "Area of Use:\n",
       "- name: World\n",
       "- bounds: (-180.0, -90.0, 180.0, 90.0)\n",
       "Datum: World Geodetic System 1984\n",
       "- Ellipsoid: WGS 84\n",
       "- Prime Meridian: Greenwich"
      ]
     },
     "execution_count": 11,
     "metadata": {},
     "output_type": "execute_result"
    }
   ],
   "source": [
    "addresses.crs"
   ]
  },
  {
   "cell_type": "code",
   "execution_count": 12,
   "id": "1fc24efe-1941-4f59-adfc-f8e3cdd99ad1",
   "metadata": {},
   "outputs": [
    {
     "name": "stderr",
     "output_type": "stream",
     "text": [
      "C:\\Users\\bkk11\\miniconda3\\envs\\Python-SA-GIS\\lib\\site-packages\\pyproj\\crs\\crs.py:53: FutureWarning: '+init=<authority>:<code>' syntax is deprecated. '<authority>:<code>' is the preferred initialization method. When making the change, be mindful of axis order changes: https://pyproj4.github.io/pyproj/stable/gotchas.html#axis-order-changes-in-proj-6\n",
      "  return _prepare_from_string(\" \".join(pjargs))\n"
     ]
    }
   ],
   "source": [
    "addresses = addresses.to_crs({\"init\": \"EPSG:5179\"})"
   ]
  },
  {
   "cell_type": "code",
   "execution_count": 13,
   "id": "0c3a48d0-d367-40dd-9489-328023752ddb",
   "metadata": {},
   "outputs": [
    {
     "data": {
      "text/plain": [
       "<Axes: >"
      ]
     },
     "execution_count": 13,
     "metadata": {},
     "output_type": "execute_result"
    },
    {
     "data": {
      "image/png": "[encoded data removed]",
      "text/plain": [
       "<Figure size 640x480 with 1 Axes>"
      ]
     },
     "metadata": {},
     "output_type": "display_data"
    }
   ],
   "source": [
    "axes = city_districts.plot(facecolor=\"grey\")\n",
    "ep_district.plot(ax=axes, facecolor=\"red\")\n",
    "addresses.plot(ax=axes, color=\"blue\", markersize=5)"
   ]
  },
  {
   "cell_type": "markdown",
   "id": "4eca99f8-74a7-48fa-b7f6-90578331996f",
   "metadata": {},
   "source": [
    "&emsp;어떤 지점은 은평구 내에 있지만 그렇지 않은 지점들도 있습니다. 은평구 내부에 있는 항목을 찾기 위해, 이번에는 `geopandas.GeoDataFrame`에 대해 **PIP** 쿼리를 사용해 보겠습니다.  "
   ]
  },
  {
   "cell_type": "code",
   "execution_count": 16,
   "id": "5e82c7b4-0f52-4e9b-be6f-39f1a95acf69",
   "metadata": {},
   "outputs": [
    {
     "data": {
      "text/plain": [
       "0     False\n",
       "1     False\n",
       "2     False\n",
       "3     False\n",
       "4     False\n",
       "5     False\n",
       "6     False\n",
       "7     False\n",
       "8     False\n",
       "9     False\n",
       "10    False\n",
       "11    False\n",
       "12    False\n",
       "13    False\n",
       "14    False\n",
       "15    False\n",
       "16     True\n",
       "17    False\n",
       "18    False\n",
       "19    False\n",
       "20    False\n",
       "21    False\n",
       "22    False\n",
       "23    False\n",
       "24    False\n",
       "25    False\n",
       "26    False\n",
       "27    False\n",
       "dtype: bool"
      ]
     },
     "execution_count": 16,
     "metadata": {},
     "output_type": "execute_result"
    }
   ],
   "source": [
    "in_ep_district = addresses.within(ep_district.at[13, \"geometry\"])\n",
    "in_ep_district"
   ]
  },
  {
   "cell_type": "markdown",
   "id": "26a95f24-4deb-44ca-b27c-ccc4fda64030",
   "metadata": {},
   "source": [
    "&emsp;마스크 배열(mask array)이라고도 하는 이 Boolean 리스트를 사용하여 주소 데이터프레임 `addresses`를 필터링할 수 있습니다."
   ]
  },
  {
   "cell_type": "code",
   "execution_count": 17,
   "id": "72eb2800-cb27-420e-9364-c46c3a17fa8f",
   "metadata": {},
   "outputs": [
    {
     "data": {
      "text/html": [
       "<div>\n",
       "<style scoped>\n",
       "    .dataframe tbody tr th:only-of-type {\n",
       "        vertical-align: middle;\n",
       "    }\n",
       "\n",
       "    .dataframe tbody tr th {\n",
       "        vertical-align: top;\n",
       "    }\n",
       "\n",
       "    .dataframe thead th {\n",
       "        text-align: right;\n",
       "    }\n",
       "</style>\n",
       "<table border=\"1\" class=\"dataframe\">\n",
       "  <thead>\n",
       "    <tr style=\"text-align: right;\">\n",
       "      <th></th>\n",
       "      <th>address</th>\n",
       "      <th>지점</th>\n",
       "      <th>지점주소</th>\n",
       "      <th>geometry</th>\n",
       "    </tr>\n",
       "  </thead>\n",
       "  <tbody>\n",
       "    <tr>\n",
       "      <th>16</th>\n",
       "      <td>서울특별시 소방학교, 통일로, 03312, 통일로, 진관동, 대한민국</td>\n",
       "      <td>416</td>\n",
       "      <td>서울특별시 은평구 진관동 산26</td>\n",
       "      <td>POINT (948102.071 1959409.520)</td>\n",
       "    </tr>\n",
       "  </tbody>\n",
       "</table>\n",
       "</div>"
      ],
      "text/plain": [
       "                                   address   지점                 지점주소  \\\n",
       "16  서울특별시 소방학교, 통일로, 03312, 통일로, 진관동, 대한민국  416  서울특별시 은평구 진관동 산26     \n",
       "\n",
       "                          geometry  \n",
       "16  POINT (948102.071 1959409.520)  "
      ]
     },
     "execution_count": 17,
     "metadata": {},
     "output_type": "execute_result"
    }
   ],
   "source": [
    "addresses_in_ep_district = addresses[in_ep_district]\n",
    "addresses_in_ep_district"
   ]
  },
  {
   "cell_type": "markdown",
   "id": "6d15fbc8-b802-4071-aa1a-317c3d776832",
   "metadata": {},
   "source": [
    "&emsp;마지막으로, 위 주소 목록을 시각화 해 해당 주소가 실제로 은평구 내에 있는지 시각적으로 확인하겠습니다."
   ]
  },
  {
   "cell_type": "code",
   "execution_count": 24,
   "id": "68b9fb0d-0110-41d2-981c-da354cc129c7",
   "metadata": {},
   "outputs": [
    {
     "data": {
      "text/plain": [
       "<Axes: >"
      ]
     },
     "execution_count": 24,
     "metadata": {},
     "output_type": "execute_result"
    },
    {
     "data": {
      "image/png": "[encoded data removed]",
      "text/plain": [
       "<Figure size 640x480 with 1 Axes>"
      ]
     },
     "metadata": {},
     "output_type": "display_data"
    }
   ],
   "source": [
    "axes = city_districts.plot(facecolor=\"grey\")\n",
    "ep_district.plot(ax=axes, facecolor=\"red\")\n",
    "\n",
    "addresses_in_ep_district.plot(ax=axes, color=\"b\", markersize=50, marker=\"*\")"
   ]
  },
  {
   "cell_type": "markdown",
   "id": "a9927795-7a0d-49e7-a1ed-0073004930eb",
   "metadata": {},
   "source": [
    "&emsp;완벽합니다! 실제로 서울 은평구(빨간색 다각형) 구역 안에 있는 해당 주소를 표시한 파란색 점만 남았습니다."
   ]
  },
  {
   "cell_type": "markdown",
   "id": "13d765d4-d3aa-4d4f-a28e-99b9c2b62614",
   "metadata": {},
   "source": [
    "---"
   ]
  },
  {
   "cell_type": "markdown",
   "id": "9aae7df4-7565-4018-8f0b-7909acf09a23",
   "metadata": {},
   "source": [
    "```{raw} html\r\n",
    "<script src=\"https://utteranc.es/client.js\"\r\n",
    "        repo=\"Kwan-Gu/geospatial_analysis\"\r\n",
    "        issue-term=\"pathname\"\r\n",
    "        theme=\"preferred-color-scheme\"\r\n",
    "        crossorigin=\"anonymous\"\r\n",
    "        async>\r\n",
    "</script>\r\n",
    "```"
   ]
  }
 ],
 "metadata": {
  "kernelspec": {
   "display_name": "Python 3 (ipykernel)",
   "language": "python",
   "name": "python3"
  },
  "language_info": {
   "codemirror_mode": {
    "name": "ipython",
    "version": 3
   },
   "file_extension": ".py",
   "mimetype": "text/x-python",
   "name": "python",
   "nbconvert_exporter": "python",
   "pygments_lexer": "ipython3",
   "version": "3.9.13"
  }
 },
 "nbformat": 4,
 "nbformat_minor": 5
}
