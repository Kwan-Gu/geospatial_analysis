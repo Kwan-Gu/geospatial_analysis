{
 "cells": [
  {
   "cell_type": "markdown",
   "id": "b0c6364a-3a09-4682-b48d-a6335856eea3",
   "metadata": {},
   "source": [
    "# 공간 조인 (Spatial Join)"
   ]
  },
  {
   "cell_type": "markdown",
   "id": "7e5a7ec9-f839-4cdd-bb02-eaae40ce4613",
   "metadata": {},
   "source": [
    "---"
   ]
  },
  {
   "cell_type": "markdown",
   "id": "f75d9e6f-8bd8-47d9-a6d3-321498857c26",
   "metadata": {},
   "source": [
    "&emsp;<i>공간 조인(Spatial joins)</i>은 둘 이상의 공간 데이터를 기하학적 관계에 기반하여 결합하는 작업을 일컫습니다. 이전 단원에서 공간 조인 중 <a href=\"./3.3. Point-In-Polygon 쿼리.ipynb\">PIP (Point-In-Polygon) 쿼리</a>와 <a href=\"./3.4. 교차.ipynb\">교차(intersects) 쿼리</a>를 다뤘습니다. 이 외에도 기하학적 관계에 기반해 작업할 수 있는 공간 조인의 종류에 대해 살펴보겠습니다.  \n",
    "\n",
    "&emsp;공간 조인 작업에는 두 개의 파라미터가 필요합니다. 첫번째 파라미터는 두 도형 사이에 충족해야 하는 기하학적 조건을 명시한 <i>predicament (조인 종류)</i> 입니다. 두번째 파라미터는 <i>join-type (조인 유형)</i> 입니다. join-type (조인 유형)은 predicate를 만족하는 행만 유지되는지 또는 한 도형의 모든 행이 유지되는지 또는 두 도형의 모든 행이 유지되는지를 선택할 수 있는 옵션입니다. 두 파라미터에 대해서 잘 이해가 되지 않을 수도 있습니다. 아래 예시를 통해 자세히 살펴보면서 이해할 수 있도록 합니다.  \n",
    "\n",
    "&emsp;<i>Geopandas</i>는 GIS 프로그램에서 대표적으로 많이 사용되는 [공간 조인 predicate](https://geopandas.org/en/stable/docs/user_guide/mergingdata.html#binary-predicate-joins)를 지원합니다. Predicate는 일반적인 영어 동사로 표현되므로 직관적입니다. 각 predicate에 대한 자세한 설명은 [shapely 공식 문서](https://shapely.readthedocs.io/en/stable/manual.html#binary-predicates)를 참조하시길 바랍니다."
   ]
  },
  {
   "cell_type": "markdown",
   "id": "1a69610d-8acf-483a-b901-f26a374e8c50",
   "metadata": {},
   "source": [
    "- 교차 (intersects)\n",
    "- 포함 (contains) / 내부 (within)\n",
    "- 접촉 (touches)\n",
    "- 횡단 (crosses)\n",
    "- 겹침 (overlaps)  "
   ]
  },
  {
   "cell_type": "markdown",
   "id": "ff5e6d27-ca2b-4ee4-8745-8c9a35fecbef",
   "metadata": {},
   "source": [
    "&emsp;<i>Join-type (조인 유형)</i>은 geopandas에서 3 가지 옵션을 구현합니다.  "
   ]
  },
  {
   "cell_type": "markdown",
   "id": "afa1156a-bc4e-4f77-ad95-06622b8c8677",
   "metadata": {},
   "source": [
    "- <i>left</i> : 왼쪽 데이터프레임의 모든 행 유지. 매칭되지 않는 경우 빈 값(empty value)으로 채움. 왼쪽 데이터프레임의 geometry 열 유지\n",
    "- <i>right</i> : 오른쪽 데이터프레임의 모든 행 유지. 매칭되지 않는 경우 빈 값(empty value)으로 채움. 오른쪽 데이터프레임의 geometry 열 유지\n",
    "- <i>inner</i> : 매칭되는 행만 유지, 왼쪽 데이터프레임의 geometry 열 유지  "
   ]
  },
  {
   "cell_type": "markdown",
   "id": "d9fa5e83-7639-4acc-99e8-60a5b6187cab",
   "metadata": {},
   "source": [
    "```{tip}\n",
    "&emsp;[PyGIS 책](https://pygis.io/docs/e_spatial_joins.html)에서 공간 조인 predicate와 join-type에 대한 그림 설명을 참고할 수 있습니다.  \n",
    "```"
   ]
  },
  {
   "cell_type": "markdown",
   "id": "7a55c766-a3a0-437d-a1e5-d49804caab92",
   "metadata": {},
   "source": [
    "## 입력 데이터 불러오기"
   ]
  },
  {
   "cell_type": "markdown",
   "id": "f7a5b1c9-3fb3-44fc-a246-b78962e7fd2f",
   "metadata": {},
   "source": [
    "&emsp;이번 단원에서 공간 조인을 실습하기 위해, 이전 단원에서 사용한 주소 데이터와 인구 격자(grid) 데이터를 결합하여 주소별 인구 밀도 데이터를 만들어 보겠습니다. 여기에서 사용하게 될 인구 격자 데이터는 [국토정보플랫폼](https://map.ngii.go.kr/mn/mainPage.do)의 국토통계지도에서 다운로드 받을 수 있습니다."
   ]
  },
  {
   "cell_type": "code",
   "execution_count": 1,
   "id": "7ce90c95-0b65-4827-b81f-5dcd539f0cdc",
   "metadata": {},
   "outputs": [],
   "source": [
    "import pathlib\n",
    "\n",
    "NOTEBOOK_PATH = pathlib.Path().resolve()\n",
    "DATA_DIRECTORY = NOTEBOOK_PATH / \"data\""
   ]
  },
  {
   "cell_type": "code",
   "execution_count": 2,
   "id": "e50ceded-4ac9-4f5b-a2b5-ff6fa87986d9",
   "metadata": {},
   "outputs": [],
   "source": [
    "import geopandas as gpd\n",
    "\n",
    "addresses = gpd.read_file(DATA_DIRECTORY / \"addresses.gpkg\")\n",
    "population_grid = gpd.read_file(DATA_DIRECTORY / \"국토통계_인구정보_1KM_서울특별시_202304\", encoding=\"utf-8\")"
   ]
  },
  {
   "cell_type": "code",
   "execution_count": 3,
   "id": "18165760-dd90-41ef-a493-bede844b0101",
   "metadata": {},
   "outputs": [
    {
     "data": {
      "text/html": [
       "<div>\n",
       "<style scoped>\n",
       "    .dataframe tbody tr th:only-of-type {\n",
       "        vertical-align: middle;\n",
       "    }\n",
       "\n",
       "    .dataframe tbody tr th {\n",
       "        vertical-align: top;\n",
       "    }\n",
       "\n",
       "    .dataframe thead th {\n",
       "        text-align: right;\n",
       "    }\n",
       "</style>\n",
       "<table border=\"1\" class=\"dataframe\">\n",
       "  <thead>\n",
       "    <tr style=\"text-align: right;\">\n",
       "      <th></th>\n",
       "      <th>gid</th>\n",
       "      <th>lbl</th>\n",
       "      <th>val</th>\n",
       "      <th>geometry</th>\n",
       "    </tr>\n",
       "  </thead>\n",
       "  <tbody>\n",
       "    <tr>\n",
       "      <th>0</th>\n",
       "      <td>다사6453</td>\n",
       "      <td>9172.00</td>\n",
       "      <td>9172.0</td>\n",
       "      <td>POLYGON ((964000.000 1953000.000, 964000.000 1...</td>\n",
       "    </tr>\n",
       "    <tr>\n",
       "      <th>1</th>\n",
       "      <td>다사5651</td>\n",
       "      <td>12198.00</td>\n",
       "      <td>12198.0</td>\n",
       "      <td>POLYGON ((956000.000 1951000.000, 956000.000 1...</td>\n",
       "    </tr>\n",
       "    <tr>\n",
       "      <th>2</th>\n",
       "      <td>다사6157</td>\n",
       "      <td>28897.00</td>\n",
       "      <td>28897.0</td>\n",
       "      <td>POLYGON ((961000.000 1957000.000, 961000.000 1...</td>\n",
       "    </tr>\n",
       "    <tr>\n",
       "      <th>3</th>\n",
       "      <td>다사5858</td>\n",
       "      <td>23351.00</td>\n",
       "      <td>23351.0</td>\n",
       "      <td>POLYGON ((958000.000 1958000.000, 958000.000 1...</td>\n",
       "    </tr>\n",
       "    <tr>\n",
       "      <th>4</th>\n",
       "      <td>다사5347</td>\n",
       "      <td>11380.00</td>\n",
       "      <td>11380.0</td>\n",
       "      <td>POLYGON ((953000.000 1947000.000, 953000.000 1...</td>\n",
       "    </tr>\n",
       "  </tbody>\n",
       "</table>\n",
       "</div>"
      ],
      "text/plain": [
       "      gid       lbl      val  \\\n",
       "0  다사6453   9172.00   9172.0   \n",
       "1  다사5651  12198.00  12198.0   \n",
       "2  다사6157  28897.00  28897.0   \n",
       "3  다사5858  23351.00  23351.0   \n",
       "4  다사5347  11380.00  11380.0   \n",
       "\n",
       "                                            geometry  \n",
       "0  POLYGON ((964000.000 1953000.000, 964000.000 1...  \n",
       "1  POLYGON ((956000.000 1951000.000, 956000.000 1...  \n",
       "2  POLYGON ((961000.000 1957000.000, 961000.000 1...  \n",
       "3  POLYGON ((958000.000 1958000.000, 958000.000 1...  \n",
       "4  POLYGON ((953000.000 1947000.000, 953000.000 1...  "
      ]
     },
     "execution_count": 3,
     "metadata": {},
     "output_type": "execute_result"
    }
   ],
   "source": [
    "population_grid.head()"
   ]
  },
  {
   "cell_type": "markdown",
   "id": "3d1a9617-17a5-458c-8fdb-edd0c110d50d",
   "metadata": {},
   "source": [
    "&emsp;인구 격자 데이터는 `gid`, `lbl`, `val`, `geometry` 4개의 열로 구성되어 있습니다. 여기에서 사용할 인구 열 `val`과 위치정보 열 `geometry`를 제외하고 나머지 열들을 제거해 줍니다."
   ]
  },
  {
   "cell_type": "code",
   "execution_count": 4,
   "id": "8a354f48-52fa-4904-8df9-588da076bc3b",
   "metadata": {},
   "outputs": [
    {
     "data": {
      "text/html": [
       "<div>\n",
       "<style scoped>\n",
       "    .dataframe tbody tr th:only-of-type {\n",
       "        vertical-align: middle;\n",
       "    }\n",
       "\n",
       "    .dataframe tbody tr th {\n",
       "        vertical-align: top;\n",
       "    }\n",
       "\n",
       "    .dataframe thead th {\n",
       "        text-align: right;\n",
       "    }\n",
       "</style>\n",
       "<table border=\"1\" class=\"dataframe\">\n",
       "  <thead>\n",
       "    <tr style=\"text-align: right;\">\n",
       "      <th></th>\n",
       "      <th>val</th>\n",
       "      <th>geometry</th>\n",
       "    </tr>\n",
       "  </thead>\n",
       "  <tbody>\n",
       "    <tr>\n",
       "      <th>0</th>\n",
       "      <td>9172.0</td>\n",
       "      <td>POLYGON ((964000.000 1953000.000, 964000.000 1...</td>\n",
       "    </tr>\n",
       "    <tr>\n",
       "      <th>1</th>\n",
       "      <td>12198.0</td>\n",
       "      <td>POLYGON ((956000.000 1951000.000, 956000.000 1...</td>\n",
       "    </tr>\n",
       "    <tr>\n",
       "      <th>2</th>\n",
       "      <td>28897.0</td>\n",
       "      <td>POLYGON ((961000.000 1957000.000, 961000.000 1...</td>\n",
       "    </tr>\n",
       "    <tr>\n",
       "      <th>3</th>\n",
       "      <td>23351.0</td>\n",
       "      <td>POLYGON ((958000.000 1958000.000, 958000.000 1...</td>\n",
       "    </tr>\n",
       "    <tr>\n",
       "      <th>4</th>\n",
       "      <td>11380.0</td>\n",
       "      <td>POLYGON ((953000.000 1947000.000, 953000.000 1...</td>\n",
       "    </tr>\n",
       "  </tbody>\n",
       "</table>\n",
       "</div>"
      ],
      "text/plain": [
       "       val                                           geometry\n",
       "0   9172.0  POLYGON ((964000.000 1953000.000, 964000.000 1...\n",
       "1  12198.0  POLYGON ((956000.000 1951000.000, 956000.000 1...\n",
       "2  28897.0  POLYGON ((961000.000 1957000.000, 961000.000 1...\n",
       "3  23351.0  POLYGON ((958000.000 1958000.000, 958000.000 1...\n",
       "4  11380.0  POLYGON ((953000.000 1947000.000, 953000.000 1..."
      ]
     },
     "execution_count": 4,
     "metadata": {},
     "output_type": "execute_result"
    }
   ],
   "source": [
    "population_grid = population_grid[[\"val\", \"geometry\"]]\n",
    "population_grid.head()"
   ]
  },
  {
   "cell_type": "markdown",
   "id": "bb090a38-b101-4c91-a665-5afacf587c2d",
   "metadata": {},
   "source": [
    "&emsp;각 격자 셀의 주민 수를 면적(km²)으로 나누어 인구 밀도를 계산합니다."
   ]
  },
  {
   "cell_type": "code",
   "execution_count": 5,
   "id": "500c7236-e5b5-4f91-8d18-00f39f664004",
   "metadata": {},
   "outputs": [
    {
     "data": {
      "text/html": [
       "<div>\n",
       "<style scoped>\n",
       "    .dataframe tbody tr th:only-of-type {\n",
       "        vertical-align: middle;\n",
       "    }\n",
       "\n",
       "    .dataframe tbody tr th {\n",
       "        vertical-align: top;\n",
       "    }\n",
       "\n",
       "    .dataframe thead th {\n",
       "        text-align: right;\n",
       "    }\n",
       "</style>\n",
       "<table border=\"1\" class=\"dataframe\">\n",
       "  <thead>\n",
       "    <tr style=\"text-align: right;\">\n",
       "      <th></th>\n",
       "      <th>val</th>\n",
       "      <th>geometry</th>\n",
       "      <th>population_density</th>\n",
       "    </tr>\n",
       "  </thead>\n",
       "  <tbody>\n",
       "    <tr>\n",
       "      <th>0</th>\n",
       "      <td>9172.0</td>\n",
       "      <td>POLYGON ((964000.000 1953000.000, 964000.000 1...</td>\n",
       "      <td>9172.0</td>\n",
       "    </tr>\n",
       "    <tr>\n",
       "      <th>1</th>\n",
       "      <td>12198.0</td>\n",
       "      <td>POLYGON ((956000.000 1951000.000, 956000.000 1...</td>\n",
       "      <td>12198.0</td>\n",
       "    </tr>\n",
       "    <tr>\n",
       "      <th>2</th>\n",
       "      <td>28897.0</td>\n",
       "      <td>POLYGON ((961000.000 1957000.000, 961000.000 1...</td>\n",
       "      <td>28897.0</td>\n",
       "    </tr>\n",
       "    <tr>\n",
       "      <th>3</th>\n",
       "      <td>23351.0</td>\n",
       "      <td>POLYGON ((958000.000 1958000.000, 958000.000 1...</td>\n",
       "      <td>23351.0</td>\n",
       "    </tr>\n",
       "    <tr>\n",
       "      <th>4</th>\n",
       "      <td>11380.0</td>\n",
       "      <td>POLYGON ((953000.000 1947000.000, 953000.000 1...</td>\n",
       "      <td>11380.0</td>\n",
       "    </tr>\n",
       "  </tbody>\n",
       "</table>\n",
       "</div>"
      ],
      "text/plain": [
       "       val                                           geometry  \\\n",
       "0   9172.0  POLYGON ((964000.000 1953000.000, 964000.000 1...   \n",
       "1  12198.0  POLYGON ((956000.000 1951000.000, 956000.000 1...   \n",
       "2  28897.0  POLYGON ((961000.000 1957000.000, 961000.000 1...   \n",
       "3  23351.0  POLYGON ((958000.000 1958000.000, 958000.000 1...   \n",
       "4  11380.0  POLYGON ((953000.000 1947000.000, 953000.000 1...   \n",
       "\n",
       "   population_density  \n",
       "0              9172.0  \n",
       "1             12198.0  \n",
       "2             28897.0  \n",
       "3             23351.0  \n",
       "4             11380.0  "
      ]
     },
     "execution_count": 5,
     "metadata": {},
     "output_type": "execute_result"
    }
   ],
   "source": [
    "population_grid[\"population_density\"] = population_grid[\"val\"] / (population_grid.area / 1_000_000)\n",
    "population_grid.head()"
   ]
  },
  {
   "cell_type": "markdown",
   "id": "72c86512-cf57-4777-985d-24a7118b4ee8",
   "metadata": {},
   "source": [
    "## 입력 레이어 조인 (join)"
   ]
  },
  {
   "cell_type": "markdown",
   "id": "8d66329e-4499-427a-99c2-7968dc0e86fe",
   "metadata": {},
   "source": [
    "&emsp;이제 여러분은 두 레이어 `addresses`와 `population_grid`에 공간 조인을 수행할 준비가 되었습니다. 이번 작업의 목표는 각 주소 지점 주변의 인구 밀도를 탐색하는 것입니다. 그러기 위해서는 `population_grid` 데이터의 인구 밀도(다각형 레이어)를 `addresses` 데이터의 주소 지점(점 레이어)에 결합시켜야 합니다. 그 후, **다각형 내부에 점이 위치**하는지 판단하여 점이 위치한 해당 다각형의 인구 밀도 정보를 사용하면 됩니다. 따라서 이 작업에서는 **주소 지점(점 레이어)의 `geometry` 열을 유지**해야 합니다.  \n",
    "\n",
    "&emsp;공간 조인을 진행하기 전에 두 레이어가 동일한 CRS (Cartographic Reference System; 지도제작 참조 시스템)에 있는지 확인해야 합니다.  "
   ]
  },
  {
   "cell_type": "code",
   "execution_count": 6,
   "id": "536a1961-7f5b-4efe-98e7-c65bf7ceb36a",
   "metadata": {},
   "outputs": [
    {
     "ename": "AssertionError",
     "evalue": "두 레이어의 CRS가 동일하지 않습니다.\n addresses : EPSG:4326\n population_grid : PROJCS[\"Korea 2000 / Unified CS\",GEOGCS[\"Korea 2000\",DATUM[\"Geocentric_datum_of_Korea\",SPHEROID[\"GRS 1980\",6378137,298.257222101,AUTHORITY[\"EPSG\",\"7019\"]],TOWGS84[0,0,0,0,0,0,0],AUTHORITY[\"EPSG\",\"6737\"]],PRIMEM[\"Greenwich\",0,AUTHORITY[\"EPSG\",\"8901\"]],UNIT[\"degree\",0.0174532925199433]],PROJECTION[\"Transverse_Mercator\"],PARAMETER[\"central_meridian\",127.5],PARAMETER[\"latitude_of_origin\",38],PARAMETER[\"scale_factor\",0.9996],PARAMETER[\"false_easting\",1000000],PARAMETER[\"false_northing\",2000000],UNIT[\"m\",1],AXIS[\"Easting\",EAST],AXIS[\"Northing\",NORTH],AUTHORITY[\"EPSG\",\"5179\"]]",
     "output_type": "error",
     "traceback": [
      "\u001b[1;31m---------------------------------------------------------------------------\u001b[0m",
      "\u001b[1;31mAssertionError\u001b[0m                            Traceback (most recent call last)",
      "Cell \u001b[1;32mIn[6], line 1\u001b[0m\n\u001b[1;32m----> 1\u001b[0m \u001b[38;5;28;01massert\u001b[39;00m addresses\u001b[38;5;241m.\u001b[39mcrs \u001b[38;5;241m==\u001b[39m population_grid\u001b[38;5;241m.\u001b[39mcrs, \u001b[38;5;124mf\u001b[39m\u001b[38;5;124m\"\u001b[39m\u001b[38;5;124m두 레이어의 CRS가 동일하지 않습니다.\u001b[39m\u001b[38;5;130;01m\\n\u001b[39;00m\u001b[38;5;124m addresses : \u001b[39m\u001b[38;5;132;01m{\u001b[39;00maddresses\u001b[38;5;241m.\u001b[39mcrs\u001b[38;5;132;01m}\u001b[39;00m\u001b[38;5;130;01m\\n\u001b[39;00m\u001b[38;5;124m population_grid : \u001b[39m\u001b[38;5;132;01m{\u001b[39;00mpopulation_grid\u001b[38;5;241m.\u001b[39mcrs\u001b[38;5;132;01m}\u001b[39;00m\u001b[38;5;124m\"\u001b[39m\n",
      "\u001b[1;31mAssertionError\u001b[0m: 두 레이어의 CRS가 동일하지 않습니다.\n addresses : EPSG:4326\n population_grid : PROJCS[\"Korea 2000 / Unified CS\",GEOGCS[\"Korea 2000\",DATUM[\"Geocentric_datum_of_Korea\",SPHEROID[\"GRS 1980\",6378137,298.257222101,AUTHORITY[\"EPSG\",\"7019\"]],TOWGS84[0,0,0,0,0,0,0],AUTHORITY[\"EPSG\",\"6737\"]],PRIMEM[\"Greenwich\",0,AUTHORITY[\"EPSG\",\"8901\"]],UNIT[\"degree\",0.0174532925199433]],PROJECTION[\"Transverse_Mercator\"],PARAMETER[\"central_meridian\",127.5],PARAMETER[\"latitude_of_origin\",38],PARAMETER[\"scale_factor\",0.9996],PARAMETER[\"false_easting\",1000000],PARAMETER[\"false_northing\",2000000],UNIT[\"m\",1],AXIS[\"Easting\",EAST],AXIS[\"Northing\",NORTH],AUTHORITY[\"EPSG\",\"5179\"]]"
     ]
    }
   ],
   "source": [
    "assert addresses.crs == population_grid.crs, f\"두 레이어의 CRS가 동일하지 않습니다.\\n addresses : {addresses.crs}\\n population_grid : {population_grid.crs}\""
   ]
  },
  {
   "cell_type": "markdown",
   "id": "033429e1-f6a8-4f53-83a2-dab190b35151",
   "metadata": {},
   "source": [
    "&emsp;위와 같이 두 레이어의 CRS가 동일하지 않다는 것을 확인했습니다. `addresses`의 CRS인 EPSG:4326을 사용하여 `population_grid`를 재투영(reproject) 하겠습니다."
   ]
  },
  {
   "cell_type": "code",
   "execution_count": 7,
   "id": "175d1971-c3fb-4326-ba99-f49abbf3cec0",
   "metadata": {},
   "outputs": [],
   "source": [
    "population_grid = population_grid.to_crs(addresses.crs)"
   ]
  },
  {
   "cell_type": "markdown",
   "id": "72167a28-beb8-444c-8658-8a6034ae6d7f",
   "metadata": {},
   "source": [
    "&emsp;이제 [`geopandas.GeoDataFrame.sjoin()`](https://geopandas.org/en/stable/docs/reference/api/geopandas.GeoDataFrame.sjoin.html) 메서드를 사용하여 공간 조인을 수행할 준비가 되었습니다. 여러분은 *within* predicate를 사용하고, 점 레이어의 geometry 열을 유지해야 합니다.  "
   ]
  },
  {
   "cell_type": "code",
   "execution_count": 8,
   "id": "cecbac15-b208-4f07-aa8a-22bd76073146",
   "metadata": {},
   "outputs": [
    {
     "data": {
      "text/html": [
       "<div>\n",
       "<style scoped>\n",
       "    .dataframe tbody tr th:only-of-type {\n",
       "        vertical-align: middle;\n",
       "    }\n",
       "\n",
       "    .dataframe tbody tr th {\n",
       "        vertical-align: top;\n",
       "    }\n",
       "\n",
       "    .dataframe thead th {\n",
       "        text-align: right;\n",
       "    }\n",
       "</style>\n",
       "<table border=\"1\" class=\"dataframe\">\n",
       "  <thead>\n",
       "    <tr style=\"text-align: right;\">\n",
       "      <th></th>\n",
       "      <th>address</th>\n",
       "      <th>지점</th>\n",
       "      <th>지점주소</th>\n",
       "      <th>geometry</th>\n",
       "      <th>index_right</th>\n",
       "      <th>val</th>\n",
       "      <th>population_density</th>\n",
       "    </tr>\n",
       "  </thead>\n",
       "  <tbody>\n",
       "    <tr>\n",
       "      <th>0</th>\n",
       "      <td>서울특별시아동학대예방센터, 광평로34길, 06352, 광평로34길, 서울, 대한민국</td>\n",
       "      <td>400</td>\n",
       "      <td>서울특별시 강남구 일원동 580</td>\n",
       "      <td>POINT (127.08775 37.47971)</td>\n",
       "      <td>500.0</td>\n",
       "      <td>16080.0</td>\n",
       "      <td>16080.0</td>\n",
       "    </tr>\n",
       "    <tr>\n",
       "      <th>1</th>\n",
       "      <td>서울특별시데이터센터, 남부순환로340길, 06724, 남부순환로340길, 서울, 대한민국</td>\n",
       "      <td>401</td>\n",
       "      <td>서울특별시 서초구 서초동 1416번지</td>\n",
       "      <td>POINT (127.02191 37.47954)</td>\n",
       "      <td>298.0</td>\n",
       "      <td>8109.0</td>\n",
       "      <td>8109.0</td>\n",
       "    </tr>\n",
       "    <tr>\n",
       "      <th>2</th>\n",
       "      <td>서울특별시 동부기술교육원, 183, 고덕로, 05235, 고덕로, 고덕동, 대한민국</td>\n",
       "      <td>402</td>\n",
       "      <td>서울특별시 강동구 고덕로 183</td>\n",
       "      <td>POINT (127.14557 37.55604)</td>\n",
       "      <td>78.0</td>\n",
       "      <td>39764.0</td>\n",
       "      <td>39764.0</td>\n",
       "    </tr>\n",
       "    <tr>\n",
       "      <th>3</th>\n",
       "      <td>롯데월드, 240, 올림픽로, 05554, 올림픽로, 잠실동, 대한민국</td>\n",
       "      <td>403</td>\n",
       "      <td>서울특별시 송파구 올림픽로 240</td>\n",
       "      <td>POINT (127.09824 37.51150)</td>\n",
       "      <td>367.0</td>\n",
       "      <td>24798.0</td>\n",
       "      <td>24798.0</td>\n",
       "    </tr>\n",
       "    <tr>\n",
       "      <th>4</th>\n",
       "      <td>월드메르디앙 201동, 양천로1길, 07602, 양천로1길, 서울, 대한민국</td>\n",
       "      <td>404</td>\n",
       "      <td>서울특별시 강서구 양천로 201</td>\n",
       "      <td>POINT (126.81027 37.57468)</td>\n",
       "      <td>394.0</td>\n",
       "      <td>21722.0</td>\n",
       "      <td>21722.0</td>\n",
       "    </tr>\n",
       "  </tbody>\n",
       "</table>\n",
       "</div>"
      ],
      "text/plain": [
       "                                             address   지점  \\\n",
       "0     서울특별시아동학대예방센터, 광평로34길, 06352, 광평로34길, 서울, 대한민국  400   \n",
       "1  서울특별시데이터센터, 남부순환로340길, 06724, 남부순환로340길, 서울, 대한민국  401   \n",
       "2     서울특별시 동부기술교육원, 183, 고덕로, 05235, 고덕로, 고덕동, 대한민국  402   \n",
       "3            롯데월드, 240, 올림픽로, 05554, 올림픽로, 잠실동, 대한민국  403   \n",
       "4         월드메르디앙 201동, 양천로1길, 07602, 양천로1길, 서울, 대한민국  404   \n",
       "\n",
       "                    지점주소                    geometry  index_right      val  \\\n",
       "0      서울특별시 강남구 일원동 580  POINT (127.08775 37.47971)        500.0  16080.0   \n",
       "1  서울특별시 서초구 서초동 1416번지   POINT (127.02191 37.47954)        298.0   8109.0   \n",
       "2    서울특별시 강동구 고덕로 183    POINT (127.14557 37.55604)         78.0  39764.0   \n",
       "3   서울특별시 송파구 올림픽로 240    POINT (127.09824 37.51150)        367.0  24798.0   \n",
       "4    서울특별시 강서구 양천로 201    POINT (126.81027 37.57468)        394.0  21722.0   \n",
       "\n",
       "   population_density  \n",
       "0             16080.0  \n",
       "1              8109.0  \n",
       "2             39764.0  \n",
       "3             24798.0  \n",
       "4             21722.0  "
      ]
     },
     "execution_count": 8,
     "metadata": {},
     "output_type": "execute_result"
    }
   ],
   "source": [
    "addresses_with_population_data = addresses.sjoin(population_grid, predicate=\"within\", how=\"left\")\n",
    "addresses_with_population_data.head()"
   ]
  },
  {
   "cell_type": "markdown",
   "id": "c164aa0e-8f6e-4bc1-9c5b-ad355116450e",
   "metadata": {},
   "source": [
    "&emsp;위와 같이 인구 밀도 정보가 첨부된 주소 데이터셋을 만들었습니다. 제작된 데이터셋을 사용해 지도 위에 시각화 해보겠습니다.  \n",
    "\n",
    "&emsp;`geopandas.GeoDataFrame.plot()` 메서드는 시각화하고자 하는 열 이름을 `column` 인수(argument)에 전달하여 그라데이션 색으로 해당 열의 값을 지도 상에 표현할 수 있습니다. 또한 지도 스타일과 관련된 다양한 인수들을 사용해 여러분이 원하는 색상, 스타일로 시각화할 수 있습니다. 이러한 대표적인 인수로는 범주화 체계(categorisation scheme)를 정의하는 `scheme`과 [색상 맵(colour map)](https://matplotlib.org/stable/tutorials/colors/colormaps.html)을 설정하는 `cmap`이 있습니다. `matplotlib`에서 사용되는 인수들을 공통적으로 사용할 수 있습니다. 예를 들어, 마커(marker)의 크기를 설정하는 `markersize`, 다각형 영역 색상을 설정하는 `facecolor`와 같은 인수가 있습니다. 이 외에도 범례(legend)를 그리려면 `legend`를 `True`로 설정하고, 그림의 크기를 설정하려면 가로·세로 인치(inch) 값으로 구성된 튜플(tuple)을 인수 `figsize`에 전달합니다."
   ]
  },
  {
   "cell_type": "code",
   "execution_count": 10,
   "id": "89ae1274-9600-40bb-b4aa-d8c1fe1da794",
   "metadata": {},
   "outputs": [],
   "source": [
    "import matplotlib.pyplot as plt\n",
    "\n",
    "plt.rc(\"font\", family=\"Malgun Gothic\")"
   ]
  },
  {
   "cell_type": "code",
   "execution_count": 11,
   "id": "b0ba3848-5703-4959-95f3-558913a6fdb6",
   "metadata": {},
   "outputs": [
    {
     "data": {
      "text/plain": [
       "Text(0.5, 1.0, '주소 지점 인근 인구 밀도')"
      ]
     },
     "execution_count": 11,
     "metadata": {},
     "output_type": "execute_result"
    },
    {
     "data": {
      "image/png": "[encoded data removed]",
      "text/plain": [
       "<Figure size 700x700 with 1 Axes>"
      ]
     },
     "metadata": {},
     "output_type": "display_data"
    }
   ],
   "source": [
    "ax = addresses_with_population_data.plot(\n",
    "    figsize=(7, 7),\n",
    "    column=\"population_density\",\n",
    "    cmap=\"Reds\",\n",
    "    scheme=\"quantiles\",\n",
    "    markersize=15,\n",
    "    legend=True\n",
    ")\n",
    "ax.set_title(\"주소 지점 인근 인구 밀도\")"
   ]
  },
  {
   "cell_type": "markdown",
   "id": "1907a488-d678-4bf9-bba2-9ac95660406d",
   "metadata": {},
   "source": [
    "&emsp;동일한 인수를 적용하여 전체 `population_grid` 데이터셋의 인구 밀도 지도를 그릴 수 있습니다."
   ]
  },
  {
   "cell_type": "code",
   "execution_count": 12,
   "id": "149b7e61-4a48-4607-b617-600e76d136f2",
   "metadata": {},
   "outputs": [
    {
     "data": {
      "text/plain": [
       "Text(0.5, 1.0, '서울 인구 밀도')"
      ]
     },
     "execution_count": 12,
     "metadata": {},
     "output_type": "execute_result"
    },
    {
     "data": {
      "image/png": "[encoded data removed]",
      "text/plain": [
       "<Figure size 700x700 with 1 Axes>"
      ]
     },
     "metadata": {},
     "output_type": "display_data"
    }
   ],
   "source": [
    "ax = population_grid.plot(\n",
    "    figsize=(7, 7),\n",
    "    column=\"population_density\",\n",
    "    cmap=\"Reds\",\n",
    "    scheme=\"quantiles\",\n",
    "    legend=True\n",
    ")\n",
    "ax.set_title(\"서울 인구 밀도\")"
   ]
  },
  {
   "cell_type": "markdown",
   "id": "d19bcedc-8efe-416b-9ec5-339347d0ecbf",
   "metadata": {},
   "source": [
    "&emsp;마지막으로 여러분이 공간 조인한 데이터프레임 `addresses_with_population_data`를 파일에 저장하는 것으로 마무리하겠습니다. 새로운 레이어 이름을 지정하여 기존 *GeoPackage* 파일 `addresses.gpkg`에 추가할 수도 있습니다."
   ]
  },
  {
   "cell_type": "code",
   "execution_count": 13,
   "id": "2517e567-580a-4c4f-8bd9-35133337e82c",
   "metadata": {},
   "outputs": [],
   "source": [
    "addresses_with_population_data.to_file(\n",
    "    DATA_DIRECTORY / \"addresses.gpkg\",\n",
    "    layer=\"addresses_with_population_data\"\n",
    ")"
   ]
  },
  {
   "cell_type": "markdown",
   "id": "29728ef6-d95a-43d4-8ff0-4ffd366cc028",
   "metadata": {},
   "source": [
    "---"
   ]
  },
  {
   "cell_type": "markdown",
   "id": "ede9c1c9-f9f8-4e80-b41b-67a64e89e5fc",
   "metadata": {},
   "source": [
    "```{raw} html\n",
    "<script src=\"https://utteranc.es/client.js\"\n",
    "        repo=\"Kwan-Gu/geospatial_analysis\"\n",
    "        issue-term=\"pathname\"\n",
    "        theme=\"preferred-color-scheme\"\n",
    "        crossorigin=\"anonymous\"\n",
    "        async>\n",
    "</script>\n",
    "```"
   ]
  }
 ],
 "metadata": {
  "kernelspec": {
   "display_name": "Python 3 (ipykernel)",
   "language": "python",
   "name": "python3"
  },
  "language_info": {
   "codemirror_mode": {
    "name": "ipython",
    "version": 3
   },
   "file_extension": ".py",
   "mimetype": "text/x-python",
   "name": "python",
   "nbconvert_exporter": "python",
   "pygments_lexer": "ipython3",
   "version": "3.9.13"
  }
 },
 "nbformat": 4,
 "nbformat_minor": 5
}
