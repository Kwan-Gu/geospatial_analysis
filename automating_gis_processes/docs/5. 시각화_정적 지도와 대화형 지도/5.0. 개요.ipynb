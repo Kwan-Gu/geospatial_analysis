{
 "cells": [
  {
   "cell_type": "markdown",
   "id": "87b73d73-413d-4180-a9f8-ba3025ed05b4",
   "metadata": {},
   "source": [
    "# 개요"
   ]
  },
  {
   "cell_type": "markdown",
   "id": "c120fd2f-2bed-4730-a1a0-2fc5645b0050",
   "metadata": {},
   "source": [
    "---"
   ]
  },
  {
   "cell_type": "markdown",
   "id": "945659fe-e210-4244-9236-149839718eb3",
   "metadata": {},
   "source": [
    "&emsp;이번 단원에서는 <b>정적 지도(static maps)</b>와 <b>대화형 웹 지도(interactive web maps)</b>를 만드는 방법에 대해서 배워보겠습니다."
   ]
  },
  {
   "cell_type": "markdown",
   "id": "7531b824-a750-409a-94a9-87db5d14f2f6",
   "metadata": {},
   "source": [
    "## 학습 목표"
   ]
  },
  {
   "cell_type": "markdown",
   "id": "a95692f8-fc48-4999-9831-22a5b2154600",
   "metadata": {},
   "source": [
    "- [GeoPandas](https://geopandas.org/en/stable/)와 [Matplotlib](https://matplotlib.org/)을 사용하여 여러 데이터 레이어로 구성된 정적 지도 생성\n",
    "- [OpenStreetMap](https://www.openstreetmap.org/#map=7/35.948/127.736)과 [contextily](https://contextily.readthedocs.io/en/latest/)를 활용\n",
    "- [Folium](https://python-visualization.github.io/folium/)을 사용하여 간단한 대화형 지도 생성\n",
    "- 팝업(Popups)과 호버 툴팁(hover tooltips)으로 대화형 지도를 꾸미기"
   ]
  },
  {
   "cell_type": "markdown",
   "id": "99f549aa-a252-4c8e-97fa-91498a7f7508",
   "metadata": {},
   "source": [
    "---"
   ]
  },
  {
   "cell_type": "markdown",
   "id": "8886ecdf-775b-4854-9ce2-f4757ed63d7a",
   "metadata": {},
   "source": [
    "```{raw} html\r\n",
    "<script src=\"https://utteranc.es/client.js\"\r\n",
    "        repo=\"Kwan-Gu/geospatial_analysis\"\r\n",
    "        issue-term=\"pathname\"\r\n",
    "        theme=\"preferred-color-scheme\"\r\n",
    "        crossorigin=\"anonymous\"\r\n",
    "        async>\r\n",
    "</script>\r\n",
    "```"
   ]
  }
 ],
 "metadata": {
  "kernelspec": {
   "display_name": "Python 3 (ipykernel)",
   "language": "python",
   "name": "python3"
  },
  "language_info": {
   "codemirror_mode": {
    "name": "ipython",
    "version": 3
   },
   "file_extension": ".py",
   "mimetype": "text/x-python",
   "name": "python",
   "nbconvert_exporter": "python",
   "pygments_lexer": "ipython3",
   "version": "3.9.13"
  }
 },
 "nbformat": 4,
 "nbformat_minor": 5
}
