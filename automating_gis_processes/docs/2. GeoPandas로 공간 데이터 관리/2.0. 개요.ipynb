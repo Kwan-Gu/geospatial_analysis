{
 "cells": [
  {
   "cell_type": "markdown",
   "id": "fac201a7-b8af-45d7-be4e-061295f66f7e",
   "metadata": {},
   "source": [
    "# 개요"
   ]
  },
  {
   "cell_type": "markdown",
   "id": "985ce184-31d5-4be5-9c7f-7617b7d424b3",
   "metadata": {},
   "source": [
    "---"
   ]
  },
  {
   "cell_type": "markdown",
   "id": "3508fd3c-7c68-49bd-a37d-4ed5dd987fbe",
   "metadata": {},
   "source": [
    "&emsp;이번 단원에서는 [GeoPandas](https://geopandas.org/en/stable/)를 사용해 Python에서 공간 데이터를 처리하는 방법을 알아봅니다. Geopandas는 \"Geo + Pandas\" 이름과 같이 Pandas의 기능을 활용하여 지리·공간정보 데이터를 테이블 형식으로 분석하고 기하학적 객체를 처리하기 쉽게 도와줍니다.  \n",
    "\n",
    "&emsp;여러분은 GeoPandas를 이용하여 파일에서 공간 데이터를 읽고 파일에 저장하는 방법, 도형 객체를 다루는 방법, 좌표 참조 시스템(CRS; Coordinate Reference System)을 변환하는 방법을 배우게 될 것입니다."
   ]
  },
  {
   "cell_type": "markdown",
   "id": "57024062-dd88-40ef-b14c-9e395a27c98c",
   "metadata": {},
   "source": [
    "## 학습 목표"
   ]
  },
  {
   "cell_type": "markdown",
   "id": "af7aabd1-4a30-4115-98f3-4b90bec3b8f0",
   "metadata": {},
   "source": [
    "- 파일에서 공간 데이터를 읽고 쓰기\n",
    "- 공간 및 비공간(non-spatial) 특성을 기준으로 데이터 필터링 및 재그룹화\n",
    "- 데이터셋의 좌표 참조 시스템(CRS)을 관리하고 변환"
   ]
  },
  {
   "cell_type": "markdown",
   "id": "9cf0ebd2-5f1e-41d3-8659-cada081cf9e9",
   "metadata": {},
   "source": [
    "---"
   ]
  },
  {
   "cell_type": "markdown",
   "id": "f3623eab-3e9f-42d8-91d4-782d9e8db162",
   "metadata": {},
   "source": [
    "```{raw} html\r\n",
    "<script src=\"https://utteranc.es/client.js\"\r\n",
    "        repo=\"Kwan-Gu/geospatial_analysis\"\r\n",
    "        issue-term=\"pathname\"\r\n",
    "        theme=\"preferred-color-scheme\"\r\n",
    "        crossorigin=\"anonymous\"\r\n",
    "        async>\r\n",
    "</script>\r\n",
    "```"
   ]
  }
 ],
 "metadata": {
  "kernelspec": {
   "display_name": "Python 3 (ipykernel)",
   "language": "python",
   "name": "python3"
  },
  "language_info": {
   "codemirror_mode": {
    "name": "ipython",
    "version": 3
   },
   "file_extension": ".py",
   "mimetype": "text/x-python",
   "name": "python",
   "nbconvert_exporter": "python",
   "pygments_lexer": "ipython3",
   "version": "3.9.13"
  }
 },
 "nbformat": 4,
 "nbformat_minor": 5
}
