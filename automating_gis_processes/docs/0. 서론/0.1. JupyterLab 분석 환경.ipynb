{
 "cells": [
  {
   "cell_type": "markdown",
   "id": "a5a4986f-82fd-4deb-b38f-6db477c19c3b",
   "metadata": {},
   "source": [
    "# JupyterLab 분석 환경"
   ]
  },
  {
   "cell_type": "markdown",
   "id": "077863ba-1129-49dc-a6d9-18e8d56e632d",
   "metadata": {},
   "source": [
    "---"
   ]
  },
  {
   "cell_type": "markdown",
   "id": "f8c80543-7202-4aae-a03f-8dad2de174bd",
   "metadata": {},
   "source": [
    "&emsp;이 책에서 여러분은 웹 브라우저 기반의 개발 환경인 주피터랩(JupyterLab)을 사용합니다. [주피터랩](https://jupyterlab.readthedocs.io/en/stable/getting_started/overview.html)은 데이터 과학을 위한 오픈소스 웹 기반 통합 개발 인터페이스(Integrated Development Interface; IDE) 입니다. 이 인터페이스는 파일 브라우저, 터미널, 텍스트 에디터를 포함한 여러 요소로 구성되며 다양한 플러그인을 사용하여 기능을 확장할 수 있습니다.  "
   ]
  },
  {
   "cell_type": "markdown",
   "id": "da2b948d-1d1e-410d-8713-1e8de3d1a143",
   "metadata": {},
   "source": [
    "```{figure} ./img/jupyterlab-launcher.png\n",
    "---\n",
    "height: 500px\n",
    "---\n",
    "<i>주피터랩(JupyterLab)</i> 시작 화면\n",
    "```"
   ]
  },
  {
   "cell_type": "markdown",
   "id": "5026fceb-a617-46fc-b491-6d3cd44d9378",
   "metadata": {},
   "source": [
    "&emsp;<i>주피터랩(JupyterLab)</i>의 핵심에는 <b>주피터 노트북(Jupyter Notebook)</b>이라는 개념이 있습니다. 주피터 노트북(파일 확장자: .ipynb)은 코드와 함께 리치 텍스트(서식 있는 텍스트), 그림, 표를 작성할 수 있는 문서 형식입니다. 이 형식은 재현가능한 데이터 과학 워크플로(reproducible data science workflow)를 대화형(interactive)으로 문서화하는 데 적합합니다. 참고로, 이 책도 주피터 노트북을 사용해 작성했습니다. **이 책에서는 JupyterLab의 Jupyter Notebook을 기본 프로그래밍 환경으로 사용합니다.**  "
   ]
  },
  {
   "cell_type": "markdown",
   "id": "363d6ce1-1086-4dcf-bec6-9214a2cad089",
   "metadata": {},
   "source": [
    "```{figure} ./img/jupyterlab-example-notebook.png\n",
    "---\n",
    "height: 500px\n",
    "---\n",
    "<i>주피터랩(JupyterLab)</i>에서 연 노트북(notebook) 화면\n",
    "```"
   ]
  },
  {
   "cell_type": "markdown",
   "id": "14d7277d-d03c-43e8-9557-3d7ec8707ca1",
   "metadata": {},
   "source": [
    "---"
   ]
  }
 ],
 "metadata": {
  "kernelspec": {
   "display_name": "Python 3 (ipykernel)",
   "language": "python",
   "name": "python3"
  },
  "language_info": {
   "codemirror_mode": {
    "name": "ipython",
    "version": 3
   },
   "file_extension": ".py",
   "mimetype": "text/x-python",
   "name": "python",
   "nbconvert_exporter": "python",
   "pygments_lexer": "ipython3",
   "version": "3.9.13"
  }
 },
 "nbformat": 4,
 "nbformat_minor": 5
}
