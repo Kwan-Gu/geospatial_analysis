{
 "cells": [
  {
   "cell_type": "markdown",
   "id": "90fdffd5-0881-427a-8ac6-0a8aeca9a91b",
   "metadata": {},
   "source": [
    "# 파이썬과 패키지 설치"
   ]
  },
  {
   "cell_type": "markdown",
   "id": "dada072d-50ef-4499-9666-9509a2c1296a",
   "metadata": {},
   "source": [
    "---"
   ]
  },
  {
   "cell_type": "markdown",
   "id": "3fb05cae-7e75-4caf-9d53-9a1c64d812ec",
   "metadata": {},
   "source": [
    "&emsp;여러분의 컴퓨터에서 파이썬 스크립트를 작성하고 프로그램을 실행하려면 Python을 설치해야 하며, GIS 데이터셋 처리를 위한 패키지도 설치해야 합니다. 이 장에서는 **Python 및 Python 패키지를 설치**하는 방법을 다룹니다. 여기서는 [conda](https://docs.conda.io/en/latest/) 패키지 관리 시스템을 사용하며, 아래에서 다양한 운영 체제(OS)에 대한 설치 방법을 찾을 수 있습니다.  "
   ]
  },
  {
   "cell_type": "markdown",
   "id": "d2653f2a-aba6-42ed-b32a-f0b1d0f891ab",
   "metadata": {},
   "source": [
    "## Miniconda 또는 Conda 설치"
   ]
  },
  {
   "cell_type": "markdown",
   "id": "3da71b17-527f-46e2-bb95-dcf88d34b54c",
   "metadata": {},
   "source": [
    "### 윈도우 (Microsoft Windows)"
   ]
  },
  {
   "cell_type": "markdown",
   "id": "74a38458-3b18-4fcc-971f-c9d0d46c48f3",
   "metadata": {},
   "source": [
    "&emsp;[Miniconda 다운로드 페이지](https://docs.conda.io/en/latest/miniconda.html#windows-installers)에서 최신 패키지를 다운로드합니다. 일반적인 경우, 64비트 Windows용 버전을 다운로드 합니다. 다운로드가 완료되면 다운로드한 설치 프로그램 파일을 두 번 클릭하여 설치를 시작합니다. 설치 단계를 따라 기본 설정을 사용하셔도 됩니다. 설치가 완료되면 [시작] 메뉴에 새로 추가된 <i>Anaconda Prompt (miniconda3)</i>를 클릭합니다."
   ]
  },
  {
   "cell_type": "markdown",
   "id": "fe002e91-ee95-427a-94be-7480d4fda2e5",
   "metadata": {},
   "source": [
    "```{figure} ./img/anaconda-prompt.png\n",
    "---\n",
    "height: 200px\n",
    "---\n",
    "Anaconda Prompt (miniconda3)\n",
    "```"
   ]
  },
  {
   "cell_type": "markdown",
   "id": "4b3fed0f-54f5-4ccf-a477-13be8a04a041",
   "metadata": {},
   "source": [
    "&emsp;명령창이 열리면 `conda --version` 명령을 입력하고 엔터키를 눌러 실행합니다. 성공적으로 설치되었다면 새로 설치된 conda 버전이 프린트 됩니다."
   ]
  },
  {
   "cell_type": "markdown",
   "id": "24caea6d-fa08-4b0b-bcf0-6ce67a254bf4",
   "metadata": {},
   "source": [
    "```\n",
    "(base) C:\\Users\\user> conda --version\n",
    "conda 4.12.0\n",
    "```"
   ]
  },
  {
   "cell_type": "markdown",
   "id": "e6655c98-27cb-4894-9b0e-04fd262ef0b3",
   "metadata": {},
   "source": [
    "### MacOS"
   ]
  },
  {
   "cell_type": "markdown",
   "id": "d0d67f44-e428-4d2f-958a-f58a42f4f43c",
   "metadata": {},
   "source": [
    "```{warning}\n",
    "&emsp;*Conda*가 MacOS 사용자에게 제공하는 두 가지 설치 방법 중 하나는 `curl | sh` 명령어를 이용하는 것입니다. 하지만 이 방법은 문제를 야기할 수 있습니다. [여기](https://0x46.net/thoughts/2019/04/27/piping-curl-to-shell/)에서 문제가 될 수 있는 이유에 대해 자세히 알아볼 수 있습니다. 여기에서는 공식적으로 지원되는 또 다른 방법에 대해 설명합니다.\n",
    "```"
   ]
  },
  {
   "cell_type": "markdown",
   "id": "e1a0432b-eab2-4a47-8821-eecc5baa6363",
   "metadata": {},
   "source": [
    "&emsp;[Miniconda 다운로드 페이지](https://docs.conda.io/en/latest/miniconda.html#macos-installers)에서 최신 설치 패키지를 다운로드합니다. 사용 가능한 최신 Python 버전을 선택하고, <u>*bash*로 끝나는 버전이 아닌</u> **pkg**로 끝나는 버전을 선택합니다. 여러분 컴퓨터에 맞는 x86 또는 M1 중 선택해야 합니다. 여러분의 컴퓨터가 x86 또는 M1 중 확실하지 않다면, 확인 방법은 [Apple 지원 페이지](https://support.apple.com/ko-kr/HT201260)를 참조하길 바랍니다.  \n",
    "\n",
    "&emsp;다운로드가 완료되면 설치 프로그램 파일을 두 번 클릭하여 설치를 시작합니다. 설치 단계를 따라 기본 설정을 사용하셔도 됩니다. 설치가 완료되면 Applications > Utilities > *터미널(Terminal)* 창을 열고, `conda --version` 명령을 입력한 다음 *Return* 키를 눌러 실행합니다. 성공적으로 설치되었다면 새로 설치된 conda 버전이 프린트 됩니다.  "
   ]
  },
  {
   "cell_type": "markdown",
   "id": "fec5b81a-7b08-474b-b1fe-d688d5390db8",
   "metadata": {},
   "source": [
    "```shell\n",
    "user@MacBook-Pro ~ % conda --version\n",
    "conda 4.12.0\n",
    "```"
   ]
  },
  {
   "cell_type": "markdown",
   "id": "6f852d6c-0bdc-4d01-b6a4-3e566f6f987a",
   "metadata": {},
   "source": [
    "### 리눅스 (Linux)"
   ]
  },
  {
   "cell_type": "markdown",
   "id": "5b4ff674-cb01-48c3-a9aa-834357e26c11",
   "metadata": {},
   "source": [
    "#### RedHat 및 RedHat 기반 배포 (Fedora, CentOS, RockyLinux)"
   ]
  },
  {
   "cell_type": "markdown",
   "id": "689ef5e2-5c29-4f0b-8602-ee3dbde5e8f2",
   "metadata": {},
   "source": [
    "&emsp;`dnf` 또는 `yum`을 사용하여 `conda` 패키지를 설치합니다."
   ]
  },
  {
   "cell_type": "markdown",
   "id": "9445bb37-1248-4e77-9b48-ab725f25102e",
   "metadata": {},
   "source": [
    "#### Arch 및 Arch 기반 배포 (Manjaro, Garuda, Endeavour)"
   ]
  },
  {
   "cell_type": "markdown",
   "id": "45def721-8237-41c6-b227-1608a33ccab8",
   "metadata": {},
   "source": [
    "&emsp;`pacman`을 사용하여 `python-conda`를 설치합니다."
   ]
  },
  {
   "cell_type": "markdown",
   "id": "6ec8114b-b9dc-41ac-896c-1d121b59263a",
   "metadata": {},
   "source": [
    "#### Debian 및 Debian 기반 배포 (Ubuntu, Mint, Pop!_OS)"
   ]
  },
  {
   "cell_type": "markdown",
   "id": "d39be7cf-6f08-4445-bfa4-f170a60c1f5a",
   "metadata": {},
   "source": [
    "1. [Miniconda의 다운로드 페이지](https://docs.conda.io/en/latest/miniconda.html#linux-installers)에서 설치 스크립트를 다운로드합니다. 최신 Python 버전 및 여러분 컴퓨터에 맞는 버전을 선택합니다.  \n",
    "```Shell  \n",
    "user@ubuntu:~# curl -LO https://repo.anaconda.com/miniconda/Miniconda3-pyXX_X.YY.Z-Linux-x86_64.sh\n",
    "  % Total    % Received % Xferd  Average Speed   Time    Time     Time  Current\n",
    "                                 Dload  Upload   Total   Spent    Left  Speed\n",
    "100 73.0M  100 73.0M    0     0  70.3M      0  0:00:01  0:00:01 --:--:-- 70.4M\n",
    "```  \n",
    "2. `sha256sum Miniconda_파일명`을 입력해 프린트된 checksum hash와 다운로드 페이지에 있는 SHA256 hash를 비교하여 확인합니다.  \n",
    "```Shell  \n",
    "user@ubuntu:~# sha256sum Miniconda3-pyXX_X.YY.Z-Linux-x86_64.sh\n",
    "78f39f9bae971ec1ae7969f0516017f2413f17796670f7040725dd83fcff5689  Miniconda3-pyXX_X.YY.Z-Linux-x86_64.sh\n",
    "```  \n",
    "3. 텍스트 에디터에서 파일을 열어 실행할 스크립트를 확인합니다.  \n",
    "4. `sh Miniconda_파일명`을 입력해 설치 스크립트를 실행합니다.  \n",
    "```Shell  \n",
    "user@ubuntu:~# sh Miniconda3-pyXX_X.YY.Z-Linux-x86_64.sh\n",
    "```  "
   ]
  },
  {
   "cell_type": "markdown",
   "id": "1a5cee6e-63f7-4c8c-bbec-710d7cb69f12",
   "metadata": {},
   "source": [
    "## Conda를 이용한 파이썬 패키지 설치"
   ]
  },
  {
   "cell_type": "markdown",
   "id": "da4c14c0-bb7c-4806-903a-1f5255bc9db2",
   "metadata": {},
   "source": [
    "&emsp;Conda에는 새 패키지 설치와 같은 기본 사항을 소개하는 [사용자 가이드](https://docs.conda.io/projects/conda/en/stable/)가 있습니다."
   ]
  },
  {
   "cell_type": "markdown",
   "id": "c1821a8f-5d55-426e-ac99-594157c273a8",
   "metadata": {},
   "source": [
    "### conda install 사용하기"
   ]
  },
  {
   "cell_type": "markdown",
   "id": "652f4254-09b0-409e-9f7e-8a2f59f091cc",
   "metadata": {},
   "source": [
    "&emsp;[`conda install`](https://docs.conda.io/projects/conda/en/latest/commands/install.html)을 사용하여 새 패키지를 설치할 수 있습니다. 패키지 설치를 위한 기본 명령어는 `conda install package-name` 입니다. 대부분의 경우 파라미터 `-c`를 사용하여 패키지가 다운로드되는 conda 채널(channel)도 지정할 수 있습니다.  \n",
    "\n",
    "&emsp;**[conda-forge](https://anaconda.org/conda-forge/) 채널에서 [Pandas](https://pandas.pydata.org/)를 설치**하려면 다음 명령을 실행합니다."
   ]
  },
  {
   "cell_type": "markdown",
   "id": "e4bebcac-4cab-4343-a345-5cfd386bc7a9",
   "metadata": {},
   "source": [
    "```\n",
    "conda install -c conda-forge pandas\n",
    "```"
   ]
  },
  {
   "cell_type": "markdown",
   "id": "6f4c0d1d-d33b-4d81-83f1-15bf9745ed86",
   "metadata": {},
   "source": [
    "&emsp;Conda는 패키지 설치 시 함께 설치해야만 하는 다른 패키지가 있다면 자동으로 설치합니다. 또한 설치된 모든 패키지의 버전이 서로 호환되는지 확인하고, 필요하면 패키지를 자동으로 업데이트하거나 다운그레이드합니다. 패키지 설치 및 관리 방법에 대한 자세한 내용은 [conda 공식 문서](https://docs.conda.io/projects/conda/en/latest/user-guide/tasks/manage-pkgs.html#installing-packages)를 참조하세요.  \n",
    "\n",
    "&emsp;**비슷한 방법으로 다른 패키지도 설치**할 수 있습니다.  \n",
    "\n",
    "```\n",
    "conda install -c conda-forge matplotlib\n",
    "conda install -c geopandas\n",
    "```"
   ]
  },
  {
   "cell_type": "markdown",
   "id": "064fbbb2-72b8-4185-966d-eb9ce9ca0629",
   "metadata": {},
   "source": [
    "```{note}\n",
    "&emsp;[Conda 채널](https://docs.conda.io/projects/conda/en/latest/user-guide/concepts/channels.html)은 패키지가 저장되는 원격 로케이션 입니다. 이 과정에서는 [conda-forge](https://conda-forge.org/#about) 채널에서 대부분의 패키지를 다운로드합니다. 가능하면 항상 동일한 채널(이 책에서는 conda-forge 채널)에서 패키지를 설치하는 것이 바람직합니다.  \n",
    "\n",
    "&emsp; 새 패키지를 설치할 때 오류 메시지가 뜨는 경우 `conda list` 명령을 사용하여 기존 패키지의 버전과 채널을 확인한 후, 설치를 다시 시도하는 것이 좋습니다.\n",
    "```"
   ]
  },
  {
   "cell_type": "markdown",
   "id": "bfd0309f-262d-4f2a-9f82-8a2b2aad8c17",
   "metadata": {},
   "source": [
    "## JupyterLab 설치"
   ]
  },
  {
   "cell_type": "markdown",
   "id": "e223c1e8-ed8b-488e-8204-5cdaa6ffe6e5",
   "metadata": {},
   "source": [
    "&emsp;이 책에서는 JupyterLab을 브라우저 기반 통합 개발 환경(Integrated Development Environment; IDE)으로 사용합니다. JupyterLab은 다른 패키지를 설치할 때처럼 `conda install` 명령을 사용하여 설치할 수 있습니다. 설치 관련 옵션 및 자세한 내용은 [JupyterLab 설치 가이드](https://jupyterlab.readthedocs.io/en/stable/getting_started/installation.html)를 살펴보세요.  \n",
    "\n",
    "&emsp;`conda-forge` 채널에서 **JupyterLab과 JupyterLab Git 확장 툴을 설치**합니다.  \n",
    "\n",
    "```\n",
    "conda install -c conda-forge jupyterlab jupyterlab-git\n",
    "```\n",
    "\n",
    "&emsp;설치가 완료되면 다음 명령을 실행하여 JupyterLab을 시작합니다(`jupyter`와 `lab` 사이 공백에 주의하세요!). 그러면 새 브라우저 창이나 탭에서 JupyterLab이 열립니다.  \n",
    "\n",
    "```\n",
    "jupyter lab\n",
    "```"
   ]
  },
  {
   "cell_type": "markdown",
   "id": "ff41faae-d1de-4d2c-a324-9a6caa934c60",
   "metadata": {},
   "source": [
    "---"
   ]
  }
 ],
 "metadata": {
  "kernelspec": {
   "display_name": "Python 3 (ipykernel)",
   "language": "python",
   "name": "python3"
  },
  "language_info": {
   "codemirror_mode": {
    "name": "ipython",
    "version": 3
   },
   "file_extension": ".py",
   "mimetype": "text/x-python",
   "name": "python",
   "nbconvert_exporter": "python",
   "pygments_lexer": "ipython3",
   "version": "3.9.13"
  }
 },
 "nbformat": 4,
 "nbformat_minor": 5
}
